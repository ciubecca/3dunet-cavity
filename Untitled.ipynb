{
 "cells": [
  {
   "cell_type": "code",
   "execution_count": 6,
   "id": "5f6c80c1",
   "metadata": {},
   "outputs": [
    {
     "data": {
      "text/plain": [
       "<AtomGroup: 1a1e_pocket (393 atoms)>"
      ]
     },
     "execution_count": 6,
     "metadata": {},
     "output_type": "execute_result"
    }
   ],
   "source": [
    "import prody as pr\n",
    "\n",
    "file = '/home/lorenzo/deep_apbs/srcData/refined-set/1a1e/1a1e_pocket.pdb'\n",
    "\n",
    "structure = pr.parsePDB(file)\n",
    "structure"
   ]
  },
  {
   "cell_type": "code",
   "execution_count": 8,
   "id": "0b0744e3",
   "metadata": {},
   "outputs": [],
   "source": [
    "coords = structure.getCoords()"
   ]
  },
  {
   "cell_type": "code",
   "execution_count": 21,
   "id": "3a6ec31e",
   "metadata": {},
   "outputs": [
    {
     "data": {
      "text/plain": [
       "array([40.55822392, -1.20309415, 39.73358015])"
      ]
     },
     "execution_count": 21,
     "metadata": {},
     "output_type": "execute_result"
    }
   ],
   "source": [
    "import scipy\n",
    "import numpy as np\n",
    "from scipy.spatial.transform import Rotation\n",
    "coords.mean(axis=0)"
   ]
  },
  {
   "cell_type": "code",
   "execution_count": 28,
   "id": "fcb50b36",
   "metadata": {},
   "outputs": [],
   "source": [
    "r = Rotation.random().as_matrix()"
   ]
  },
  {
   "cell_type": "code",
   "execution_count": 31,
   "id": "4d260e0c",
   "metadata": {},
   "outputs": [],
   "source": [
    "coords2 = np.einsum('ij,kj->ki', r, coords)"
   ]
  },
  {
   "cell_type": "code",
   "execution_count": 35,
   "id": "672a052a",
   "metadata": {},
   "outputs": [
    {
     "data": {
      "text/plain": [
       "array([40.55822392, -1.20309415, 39.73358015])"
      ]
     },
     "execution_count": 35,
     "metadata": {},
     "output_type": "execute_result"
    }
   ],
   "source": [
    "coords.mean(axis=0)"
   ]
  },
  {
   "cell_type": "code",
   "execution_count": 42,
   "id": "35b29a8a",
   "metadata": {},
   "outputs": [
    {
     "data": {
      "text/plain": [
       "42960.029711536896"
      ]
     },
     "execution_count": 42,
     "metadata": {},
     "output_type": "execute_result"
    }
   ],
   "source": [
    "((coords - coords.mean(axis=0))**2).sum()"
   ]
  },
  {
   "cell_type": "code",
   "execution_count": 43,
   "id": "db669a43",
   "metadata": {},
   "outputs": [
    {
     "data": {
      "text/plain": [
       "42960.0297115369"
      ]
     },
     "execution_count": 43,
     "metadata": {},
     "output_type": "execute_result"
    }
   ],
   "source": [
    "((coords2 - coords2.mean(axis=0))**2).sum()"
   ]
  },
  {
   "cell_type": "code",
   "execution_count": 36,
   "id": "e285d167",
   "metadata": {},
   "outputs": [
    {
     "data": {
      "text/plain": [
       "array([18.62146267, 19.00431087, 50.17221991])"
      ]
     },
     "execution_count": 36,
     "metadata": {},
     "output_type": "execute_result"
    }
   ],
   "source": [
    "coords2.mean(axis=0)"
   ]
  },
  {
   "cell_type": "code",
   "execution_count": 37,
   "id": "907c70b3",
   "metadata": {},
   "outputs": [
    {
     "data": {
      "text/plain": [
       "array([18.62146267, 19.00431087, 50.17221991])"
      ]
     },
     "execution_count": 37,
     "metadata": {},
     "output_type": "execute_result"
    }
   ],
   "source": [
    "np.einsum('ij,j->i', r, coords.mean(axis=0))"
   ]
  },
  {
   "cell_type": "raw",
   "id": "3ec2904a",
   "metadata": {},
   "source": [
    "r2 = r"
   ]
  },
  {
   "cell_type": "code",
   "execution_count": 27,
   "id": "e4a3060d",
   "metadata": {},
   "outputs": [
    {
     "data": {
      "text/plain": [
       "array([[ 1.00000000e+00,  5.11660160e-18, -8.77721480e-18],\n",
       "       [ 5.11660160e-18,  1.00000000e+00, -1.68377919e-17],\n",
       "       [-8.77721480e-18, -1.68377919e-17,  1.00000000e+00]])"
      ]
     },
     "execution_count": 27,
     "metadata": {},
     "output_type": "execute_result"
    }
   ],
   "source": [
    "np.dot(r2, np.transpose(r2))"
   ]
  },
  {
   "cell_type": "code",
   "execution_count": null,
   "id": "abb9f096",
   "metadata": {},
   "outputs": [],
   "source": []
  }
 ],
 "metadata": {
  "kernelspec": {
   "display_name": "Python 3 (ipykernel)",
   "language": "python",
   "name": "python3"
  },
  "language_info": {
   "codemirror_mode": {
    "name": "ipython",
    "version": 3
   },
   "file_extension": ".py",
   "mimetype": "text/x-python",
   "name": "python",
   "nbconvert_exporter": "python",
   "pygments_lexer": "ipython3",
   "version": "3.8.10"
  }
 },
 "nbformat": 4,
 "nbformat_minor": 5
}
