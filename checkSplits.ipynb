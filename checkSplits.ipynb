{
 "cells": [
  {
   "cell_type": "code",
   "execution_count": 53,
   "id": "52e58783",
   "metadata": {},
   "outputs": [
    {
     "data": {
      "text/html": [
       "<style>.container { width:100% !important; }</style>"
      ],
      "text/plain": [
       "<IPython.core.display.HTML object>"
      ]
     },
     "metadata": {},
     "output_type": "display_data"
    }
   ],
   "source": [
    "from IPython.core.display import display, HTML\n",
    "display(HTML(\"<style>.container { width:100% !important; }</style>\"))\n",
    "import yaml\n",
    "import torch\n",
    "import numpy as np\n",
    "from matplotlib import pyplot as plt"
   ]
  },
  {
   "cell_type": "markdown",
   "id": "57a4c0a6",
   "metadata": {},
   "source": [
    "# Scratch"
   ]
  },
  {
   "cell_type": "code",
   "execution_count": 57,
   "id": "8c2f2578",
   "metadata": {},
   "outputs": [],
   "source": [
    "from torch.autograd import Variable\n",
    "\n",
    "class LogisticRegression(torch.nn.Module):\n",
    "    def __init__(self):\n",
    "        super(LogisticRegression, self).__init__()\n",
    "        self.linear = torch.nn.Linear(1, 1)\n",
    "     \n",
    "    def forward(self, x):\n",
    "        y_pred = torch.sigmoid(self.linear(x))\n",
    "        return y_pred\n",
    "    \n",
    "def accScore(y_pred, y_data):\n",
    "    y_bin = y_pred.clone()\n",
    "    y_bin[y_bin < 0.5] = 0\n",
    "    y_bin[y_bin > 0.5] = 1\n",
    "\n",
    "    correct = (y_bin == y_data).float().sum()\n",
    "    return (correct/y_data.shape[0]).float().item()"
   ]
  },
  {
   "cell_type": "code",
   "execution_count": 58,
   "id": "8934478d",
   "metadata": {},
   "outputs": [],
   "source": [
    "N = 1000\n",
    "train_size = int(N*0.8)\n",
    "\n",
    "def sig(x):\n",
    "    return 1/(1+np.exp(-x))\n",
    "\n",
    "fts = np.random.normal(scale=2, size=N)\n",
    "probs = sig(fts)\n",
    "labels = np.random.binomial(1, probs, size=N).reshape(-1,1)\n",
    "fts = fts.reshape(-1,1)\n",
    "\n",
    "x_data = Variable(torch.Tensor(fts))\n",
    "y_data = Variable(torch.Tensor(labels))"
   ]
  },
  {
   "cell_type": "code",
   "execution_count": 66,
   "id": "3f90918b",
   "metadata": {},
   "outputs": [
    {
     "data": {
      "text/plain": [
       "[Parameter containing:\n",
       " tensor([[-0.8397]], requires_grad=True),\n",
       " Parameter containing:\n",
       " tensor([0.7580], requires_grad=True)]"
      ]
     },
     "execution_count": 66,
     "metadata": {},
     "output_type": "execute_result"
    }
   ],
   "source": [
    "model = LogisticRegression()\n",
    "list(model.parameters())"
   ]
  },
  {
   "cell_type": "code",
   "execution_count": 67,
   "id": "45bc12da",
   "metadata": {},
   "outputs": [
    {
     "data": {
      "text/plain": [
       "0.25999999046325684"
      ]
     },
     "execution_count": 67,
     "metadata": {},
     "output_type": "execute_result"
    }
   ],
   "source": [
    "accScore(model(x_data[train_size:]), y_data[train_size:])"
   ]
  },
  {
   "cell_type": "code",
   "execution_count": 68,
   "id": "4f73b7da",
   "metadata": {},
   "outputs": [],
   "source": [
    "criterion = torch.nn.BCELoss(reduction='mean')\n",
    "\n",
    "optimizer = torch.optim.SGD(model.parameters(), lr=0.1)\n",
    "epochs = 200\n",
    "\n",
    "val_loss = np.zeros(epochs+1)\n",
    "val_score = np.zeros(epochs+1)\n",
    "\n",
    "val_loss[0] = criterion(model(x_data[train_size:]), y_data[train_size:])\n",
    "val_score[0] = accScore(model(x_data[train_size:]), y_data[train_size:])\n",
    "\n",
    "for epoch in range(epochs):\n",
    "    model.train()\n",
    "    optimizer.zero_grad()\n",
    "    y_pred = model(x_data[:train_size])\n",
    "    loss = criterion(y_pred, y_data[:train_size])\n",
    "    loss.backward()\n",
    "    optimizer.step()\n",
    "    \n",
    "    val_loss[epoch+1] = criterion(model(x_data[train_size:]), y_data[train_size:])\n",
    "    val_score[epoch+1] = accScore(model(x_data[train_size:]), y_data[train_size:])"
   ]
  },
  {
   "cell_type": "code",
   "execution_count": 69,
   "id": "460896ae",
   "metadata": {},
   "outputs": [
    {
     "data": {
      "text/plain": [
       "[<matplotlib.lines.Line2D at 0x7f9835604b80>]"
      ]
     },
     "execution_count": 69,
     "metadata": {},
     "output_type": "execute_result"
    },
    {
     "data": {
      "image/png": "[encoded data removed]",
      "text/plain": [
       "<Figure size 432x288 with 1 Axes>"
      ]
     },
     "metadata": {
      "needs_background": "light"
     },
     "output_type": "display_data"
    }
   ],
   "source": [
    "plt.plot(val_loss)"
   ]
  },
  {
   "cell_type": "code",
   "execution_count": 70,
   "id": "49ec190d",
   "metadata": {},
   "outputs": [
    {
     "data": {
      "text/plain": [
       "[<matplotlib.lines.Line2D at 0x7f983557d190>]"
      ]
     },
     "execution_count": 70,
     "metadata": {},
     "output_type": "execute_result"
    },
    {
     "data": {
      "image/png": "[encoded data removed]",
      "text/plain": [
       "<Figure size 432x288 with 1 Axes>"
      ]
     },
     "metadata": {
      "needs_background": "light"
     },
     "output_type": "display_data"
    }
   ],
   "source": [
    "plt.plot(val_score)"
   ]
  }
 ],
 "metadata": {
  "kernelspec": {
   "display_name": "Python 3",
   "language": "python",
   "name": "python3"
  },
  "language_info": {
   "codemirror_mode": {
    "name": "ipython",
    "version": 3
   },
   "file_extension": ".py",
   "mimetype": "text/x-python",
   "name": "python",
   "nbconvert_exporter": "python",
   "pygments_lexer": "ipython3",
   "version": "3.8.5"
  }
 },
 "nbformat": 4,
 "nbformat_minor": 5
}
