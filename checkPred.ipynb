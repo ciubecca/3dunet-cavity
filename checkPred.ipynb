{
 "cells": [
  {
   "cell_type": "code",
   "execution_count": 33,
   "id": "b5993d23",
   "metadata": {},
   "outputs": [
    {
     "data": {
      "text/html": [
       "<style>.container { width:100% !important; }</style>"
      ],
      "text/plain": [
       "<IPython.core.display.HTML object>"
      ]
     },
     "metadata": {},
     "output_type": "display_data"
    },
    {
     "ename": "ModuleNotFoundError",
     "evalue": "No module named 'seaborn'",
     "output_type": "error",
     "traceback": [
      "\u001b[0;31m---------------------------------------------------------------------------\u001b[0m",
      "\u001b[0;31mModuleNotFoundError\u001b[0m                       Traceback (most recent call last)",
      "\u001b[0;32m<ipython-input-33-b672f4f4cde3>\u001b[0m in \u001b[0;36m<module>\u001b[0;34m\u001b[0m\n\u001b[1;32m      7\u001b[0m \u001b[0;32mfrom\u001b[0m \u001b[0mpathlib\u001b[0m \u001b[0;32mimport\u001b[0m \u001b[0mPath\u001b[0m\u001b[0;34m\u001b[0m\u001b[0;34m\u001b[0m\u001b[0m\n\u001b[1;32m      8\u001b[0m \u001b[0;32mimport\u001b[0m \u001b[0mglob\u001b[0m\u001b[0;34m\u001b[0m\u001b[0;34m\u001b[0m\u001b[0m\n\u001b[0;32m----> 9\u001b[0;31m \u001b[0;32mimport\u001b[0m \u001b[0mseaborn\u001b[0m \u001b[0;32mas\u001b[0m \u001b[0msns\u001b[0m\u001b[0;34m\u001b[0m\u001b[0;34m\u001b[0m\u001b[0m\n\u001b[0m",
      "\u001b[0;31mModuleNotFoundError\u001b[0m: No module named 'seaborn'"
     ]
    }
   ],
   "source": [
    "from IPython.core.display import display, HTML\n",
    "display(HTML(\"<style>.container { width:100% !important; }</style>\"))\n",
    "import h5py\n",
    "import torch\n",
    "import numpy as np\n",
    "from pytorch3dunet.unet3d.losses import *\n",
    "from pathlib import Path\n",
    "import glob\n",
    "import seaborn as sns"
   ]
  },
  {
   "cell_type": "code",
   "execution_count": 24,
   "id": "a3044c20",
   "metadata": {},
   "outputs": [
    {
     "data": {
      "text/plain": [
       "BCEDiceLoss(\n",
       "  (bce): BCEWithLogitsLoss()\n",
       "  (dice): DiceLoss(\n",
       "    (normalization): Sigmoid()\n",
       "  )\n",
       ")"
      ]
     },
     "execution_count": 24,
     "metadata": {},
     "output_type": "execute_result"
    }
   ],
   "source": [
    "loss = BCEDiceLoss(1.0,1.0)\n",
    "loss1 = DiceLoss()\n",
    "loss2 = torch.nn.BCEWithLogitsLoss()\n",
    "\n",
    "loss"
   ]
  },
  {
   "cell_type": "code",
   "execution_count": 11,
   "id": "c39aee96",
   "metadata": {},
   "outputs": [],
   "source": [
    "basepred = Path('/home/lorenzo/3dunet-cavity/runs/run_210601_local/predictions')\n",
    "baseorig = Path('/home/lorenzo/deep_apbs/destData/pdbbind_v2013_core_set_0') # /2yfe/2yfe_grids.h5'\n",
    "\n",
    "def genDataSets():\n",
    "\n",
    "    for predfname in glob.glob(str(basepred / '*_grids_predictions.h5')):\n",
    "        name = Path(predfname).name.split('_')[0]\n",
    "        labelfname = baseorig / name / f'{name}_grids.h5'\n",
    "        \n",
    "        labelT = torch.tensor(h5py.File(labelfname)['label'], dtype=torch.float32)\n",
    "        labelT = labelT[None,None]\n",
    "        predT = torch.tensor(h5py.File(predfname)['predictions'])\n",
    "        predT = predT[None]\n",
    "        \n",
    "        yield (predT, labelT)"
   ]
  },
  {
   "cell_type": "code",
   "execution_count": 28,
   "id": "165154cf",
   "metadata": {},
   "outputs": [
    {
     "name": "stdout",
     "output_type": "stream",
     "text": [
      "1.6853091716766357 0.9926428198814392 0.6926664113998413\n",
      "1.6845664978027344 0.9919460415840149 0.6926205158233643\n",
      "1.6879982948303223 0.9951661229133606 0.6928321123123169\n",
      "1.685294508934021 0.9926289916038513 0.6926655173301697\n",
      "1.6820738315582275 0.9896076321601868 0.6924661993980408\n",
      "1.6874299049377441 0.9946327805519104 0.6927971243858337\n",
      "1.6884751319885254 0.9956137537956238 0.6928614377975464\n",
      "1.6850290298461914 0.9923800230026245 0.6926490664482117\n",
      "1.6842854022979736 0.991682231426239 0.6926031112670898\n",
      "1.6875689029693604 0.9947633147239685 0.6928056478500366\n",
      "1.6860380172729492 0.9933266043663025 0.6927114129066467\n",
      "1.685973048210144 0.993265688419342 0.692707359790802\n",
      "1.6870070695877075 0.9942359328269958 0.6927711367607117\n"
     ]
    }
   ],
   "source": [
    "class RunningAverage:\n",
    "    def __init__(self):\n",
    "        self.count = 0\n",
    "        self.sum = 0\n",
    "\n",
    "    def update(self, value):\n",
    "        self.count += 1\n",
    "        self.sum += value\n",
    "        \n",
    "    def value(self):\n",
    "        return self.sum / self.count\n",
    "\n",
    "OracleLoss = RunningAverage()\n",
    "UnetLoss = RunningAverage()\n",
    "RandLoss = RunningAverage()\n",
    "RandUnitLoss = RunningAverage()\n",
    "ZeroLoss = RunningAverage()\n",
    "UnitLoss = RunningAverage()\n",
    "\n",
    "for predT, labelT in genDataSets():\n",
    "    constPred = torch.zeros_like(labelT)\n",
    "    ZeroLoss.update(loss(constPred, labelT).item())\n",
    "    \n",
    "    constPred[:] = 1\n",
    "    UnitLoss.update(loss(constPred, labelT).item())\n",
    "    \n",
    "    l = loss(predT, labelT).item()\n",
    "    UnetLoss.update(l)\n",
    "    \n",
    "    l = loss(labelT, labelT).item()\n",
    "    l1 = loss1(labelT, labelT).item()\n",
    "    l2 = loss2(labelT, labelT).item()\n",
    "    print(l,l1,l2)\n",
    "    OracleLoss.update(l)\n",
    "\n",
    "    randPred = torch.rand(size=constPred.size(), dtype=constPred.dtype, device=constPred.device, requires_grad=False)\n",
    "    RandLoss.update(loss(randPred, labelT).item())\n",
    "    \n",
    "    randPred[randPred < 0.5] = 0\n",
    "    randPred[randPred > 0.5] = 1\n",
    "    RandUnitLoss.update(loss(randPred, labelT).item())"
   ]
  },
  {
   "cell_type": "code",
   "execution_count": 29,
   "id": "34c0af97",
   "metadata": {},
   "outputs": [],
   "source": [
    "predT, labelT = next(genDataSets())"
   ]
  },
  {
   "cell_type": "code",
   "execution_count": 32,
   "id": "0ec380fc",
   "metadata": {},
   "outputs": [
    {
     "data": {
      "text/plain": [
       "(tensor(0.0013), tensor(0.0356))"
      ]
     },
     "execution_count": 32,
     "metadata": {},
     "output_type": "execute_result"
    }
   ],
   "source": [
    "labelT.mean(), labelT.std()"
   ]
  },
  {
   "cell_type": "code",
   "execution_count": 20,
   "id": "31a435d3",
   "metadata": {},
   "outputs": [
    {
     "data": {
      "text/plain": [
       "1.9989742132333608"
      ]
     },
     "execution_count": 20,
     "metadata": {},
     "output_type": "execute_result"
    }
   ],
   "source": [
    "RandUnitLoss.value()"
   ]
  },
  {
   "cell_type": "code",
   "execution_count": 14,
   "id": "094cae23",
   "metadata": {},
   "outputs": [
    {
     "data": {
      "text/plain": [
       "1.979505914908189"
      ]
     },
     "execution_count": 14,
     "metadata": {},
     "output_type": "execute_result"
    }
   ],
   "source": [
    "RandLoss.value()"
   ]
  },
  {
   "cell_type": "code",
   "execution_count": 15,
   "id": "7762441e",
   "metadata": {},
   "outputs": [
    {
     "data": {
      "text/plain": [
       "2.3089121671823354"
      ]
     },
     "execution_count": 15,
     "metadata": {},
     "output_type": "execute_result"
    }
   ],
   "source": [
    "UnitLoss.value()"
   ]
  },
  {
   "cell_type": "code",
   "execution_count": 16,
   "id": "65aaf83a",
   "metadata": {},
   "outputs": [
    {
     "data": {
      "text/plain": [
       "1.688505429487962"
      ]
     },
     "execution_count": 16,
     "metadata": {},
     "output_type": "execute_result"
    }
   ],
   "source": [
    "ZeroLoss.value()"
   ]
  },
  {
   "cell_type": "code",
   "execution_count": 17,
   "id": "83df3171",
   "metadata": {},
   "outputs": [
    {
     "data": {
      "text/plain": [
       "1.688859646136944"
      ]
     },
     "execution_count": 17,
     "metadata": {},
     "output_type": "execute_result"
    }
   ],
   "source": [
    "UnetLoss.value()"
   ]
  },
  {
   "cell_type": "code",
   "execution_count": 18,
   "id": "c20fc60b",
   "metadata": {},
   "outputs": [
    {
     "data": {
      "text/plain": [
       "1.6859268316855798"
      ]
     },
     "execution_count": 18,
     "metadata": {},
     "output_type": "execute_result"
    }
   ],
   "source": [
    "OracleLoss.value()"
   ]
  },
  {
   "cell_type": "markdown",
   "id": "861e508b",
   "metadata": {},
   "source": [
    "## Scratch"
   ]
  },
  {
   "cell_type": "code",
   "execution_count": 180,
   "id": "1b6962ee",
   "metadata": {},
   "outputs": [],
   "source": [
    "name = '1z95'\n",
    "\n",
    "dstbase = '/home/lorenzo/3dunet-cavity/npy'\n",
    "\n",
    "predfname = f'/home/lorenzo/3dunet-cavity/runs/run_210601/predictions/{name}_grids_predictions.h5'\n",
    "origfname = f'/home/lorenzo/deep_apbs/destData/pdbbind_v2013_core_set_0/{name}/{name}_grids.h5'\n",
    "\n",
    "\n",
    "vlabel = np.array(h5py.File(origfname)['label'])\n",
    "with open(f'{dstbase}/{name}_label.npy','wb') as f:\n",
    "    np.save(f, vlabel)\n",
    "\n",
    "# h5py.File(predbase)['predictions']\n"
   ]
  },
  {
   "cell_type": "code",
   "execution_count": 178,
   "id": "d2d8545d",
   "metadata": {},
   "outputs": [
    {
     "data": {
      "text/plain": [
       "array([[[0, 0, 0, ..., 0, 0, 0],\n",
       "        [0, 0, 0, ..., 0, 0, 0],\n",
       "        [0, 0, 0, ..., 0, 0, 0],\n",
       "        ...,\n",
       "        [0, 0, 0, ..., 0, 0, 0],\n",
       "        [0, 0, 0, ..., 0, 0, 0],\n",
       "        [0, 0, 0, ..., 0, 0, 0]],\n",
       "\n",
       "       [[0, 0, 0, ..., 0, 0, 0],\n",
       "        [0, 0, 0, ..., 0, 0, 0],\n",
       "        [0, 0, 0, ..., 0, 0, 0],\n",
       "        ...,\n",
       "        [0, 0, 0, ..., 0, 0, 0],\n",
       "        [0, 0, 0, ..., 0, 0, 0],\n",
       "        [0, 0, 0, ..., 0, 0, 0]],\n",
       "\n",
       "       [[0, 0, 0, ..., 0, 0, 0],\n",
       "        [0, 0, 0, ..., 0, 0, 0],\n",
       "        [0, 0, 0, ..., 0, 0, 0],\n",
       "        ...,\n",
       "        [0, 0, 0, ..., 0, 0, 0],\n",
       "        [0, 0, 0, ..., 0, 0, 0],\n",
       "        [0, 0, 0, ..., 0, 0, 0]],\n",
       "\n",
       "       ...,\n",
       "\n",
       "       [[0, 0, 0, ..., 0, 0, 0],\n",
       "        [0, 0, 0, ..., 0, 0, 0],\n",
       "        [0, 0, 0, ..., 0, 0, 0],\n",
       "        ...,\n",
       "        [0, 0, 0, ..., 0, 0, 0],\n",
       "        [0, 0, 0, ..., 0, 0, 0],\n",
       "        [0, 0, 0, ..., 0, 0, 0]],\n",
       "\n",
       "       [[0, 0, 0, ..., 0, 0, 0],\n",
       "        [0, 0, 0, ..., 0, 0, 0],\n",
       "        [0, 0, 0, ..., 0, 0, 0],\n",
       "        ...,\n",
       "        [0, 0, 0, ..., 0, 0, 0],\n",
       "        [0, 0, 0, ..., 0, 0, 0],\n",
       "        [0, 0, 0, ..., 0, 0, 0]],\n",
       "\n",
       "       [[0, 0, 0, ..., 0, 0, 0],\n",
       "        [0, 0, 0, ..., 0, 0, 0],\n",
       "        [0, 0, 0, ..., 0, 0, 0],\n",
       "        ...,\n",
       "        [0, 0, 0, ..., 0, 0, 0],\n",
       "        [0, 0, 0, ..., 0, 0, 0],\n",
       "        [0, 0, 0, ..., 0, 0, 0]]])"
      ]
     },
     "execution_count": 178,
     "metadata": {},
     "output_type": "execute_result"
    }
   ],
   "source": []
  },
  {
   "cell_type": "code",
   "execution_count": null,
   "id": "b2cc7b82",
   "metadata": {},
   "outputs": [],
   "source": []
  }
 ],
 "metadata": {
  "kernelspec": {
   "display_name": "Python 3",
   "language": "python",
   "name": "python3"
  },
  "language_info": {
   "codemirror_mode": {
    "name": "ipython",
    "version": 3
   },
   "file_extension": ".py",
   "mimetype": "text/x-python",
   "name": "python",
   "nbconvert_exporter": "python",
   "pygments_lexer": "ipython3",
   "version": "3.8.5"
  }
 },
 "nbformat": 4,
 "nbformat_minor": 5
}
