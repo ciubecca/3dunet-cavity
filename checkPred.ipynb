{
 "cells": [
  {
   "cell_type": "code",
   "execution_count": 15,
   "id": "b5993d23",
   "metadata": {},
   "outputs": [
    {
     "data": {
      "text/html": [
       "<style>.container { width:100% !important; }</style>"
      ],
      "text/plain": [
       "<IPython.core.display.HTML object>"
      ]
     },
     "metadata": {},
     "output_type": "display_data"
    }
   ],
   "source": [
    "from IPython.core.display import display, HTML\n",
    "display(HTML(\"<style>.container { width:100% !important; }</style>\"))\n",
    "import h5py\n",
    "from matplotlib import pyplot as plt\n",
    "import torch\n",
    "import numpy as np\n",
    "from pytorch3dunet.unet3d.losses import *\n",
    "from pytorch3dunet.unet3d.metrics import MeanIoU\n",
    "from pathlib import Path\n",
    "import glob\n",
    "import os\n",
    "\n",
    "import matplotlib\n",
    "matplotlib.use('TkAgg')\n",
    "\n",
    "%matplotlib inline"
   ]
  },
  {
   "cell_type": "code",
   "execution_count": 24,
   "id": "a3044c20",
   "metadata": {},
   "outputs": [],
   "source": [
    "class DiceProbLoss(DiceLoss):\n",
    "    def __init__(self):\n",
    "        super(DiceProbLoss, self).__init__(normalization='none')\n",
    "\n",
    "class MeanIoUBin(MeanIoU):\n",
    "    def __init__(self):\n",
    "        super(MeanIoUBin, self).__init__(is_binarized=True)\n",
    "\n",
    "class BCEDiceBinLoss(nn.Module):\n",
    "    \"\"\"Linear combination of BCE and Dice losses\"\"\"\n",
    "\n",
    "    def __init__(self, alpha, beta):\n",
    "        super(BCEDiceBinLoss, self).__init__()\n",
    "        self.alpha = alpha\n",
    "        self.bce = nn.BCELoss()\n",
    "        self.beta = beta\n",
    "        self.dice = DiceBinLoss()\n",
    "\n",
    "    def forward(self, input, target):\n",
    "        return self.alpha * self.bce(input, target) + self.beta * self.dice(input, target)\n",
    "\n",
    "\n",
    "initLosses = {\n",
    "    \"BCE\": nn.BCELoss,\n",
    "    \"Dice\": DiceProbLoss,\n",
    "    \"MeanIoU\": MeanIoU\n",
    "}"
   ]
  },
  {
   "cell_type": "code",
   "execution_count": 25,
   "id": "c39aee96",
   "metadata": {},
   "outputs": [],
   "source": [
    "basepred = Path('/home/lorenzo/3dunet-cavity/runs/run_210623_gpu/predictions')\n",
    "baseorig = Path('/home/lorenzo/deep_apbs/destData/refined-set_filter')\n",
    "\n",
    "def genDataSets():\n",
    "\n",
    "    for predfname in glob.glob(str(basepred / '*_grids_predictions.h5')):\n",
    "        name = Path(predfname).name.split('_')[0]\n",
    "        labelfname = baseorig / name / f'{name}_grids.h5'\n",
    "        \n",
    "        if not os.path.exists(labelfname):\n",
    "            print(f'{labelfname} does not exist.')\n",
    "            continue\n",
    "        \n",
    "        labelT = torch.tensor(h5py.File(labelfname)['label'], dtype=torch.float32)\n",
    "        labelT = labelT[None,None]\n",
    "        predT = torch.tensor(h5py.File(predfname)['predictions'])\n",
    "        predT = predT[None]\n",
    "        \n",
    "        yield name, (predT, labelT)"
   ]
  },
  {
   "cell_type": "code",
   "execution_count": 26,
   "id": "165154cf",
   "metadata": {},
   "outputs": [],
   "source": [
    "class RunningAverage:\n",
    "    def __init__(self, loss):\n",
    "        self.count = 0\n",
    "        self.sum = 0\n",
    "        self.loss = loss\n",
    "        self.losses = {}\n",
    "\n",
    "    def update(self, pred, label, name):\n",
    "        self.count += 1\n",
    "        loss = self.loss(pred, label).item()\n",
    "        self.sum += loss\n",
    "        self.losses[name] = loss\n",
    "\n",
    "    def value(self):\n",
    "        return self.sum / self.count\n",
    "    \n",
    "class AverageLosses:\n",
    "    def __init__(self, losses, kwargs=None):\n",
    "        if kwargs is None:\n",
    "            kwargs = {name:{} for name in losses.keys()}\n",
    "        self.losses = {name: RunningAverage(loss(**kwargs[name])) for name,loss in losses.items()}\n",
    "\n",
    "    def update(self, pred, label, prot):\n",
    "        for name in self.losses.keys():\n",
    "            self.losses[name].update(pred,label, prot)\n",
    "        \n",
    "    def value(self):\n",
    "        return {name: loss.value() for name,loss in self.losses.items()}"
   ]
  },
  {
   "cell_type": "code",
   "execution_count": 27,
   "id": "6c321247",
   "metadata": {},
   "outputs": [
    {
     "name": "stdout",
     "output_type": "stream",
     "text": [
      "/home/lorenzo/deep_apbs/destData/refined-set_filter/1oba/1oba_grids.h5 does not exist.\n",
      "/home/lorenzo/deep_apbs/destData/refined-set_filter/2epn/2epn_grids.h5 does not exist.\n",
      "/home/lorenzo/deep_apbs/destData/refined-set_filter/1tkb/1tkb_grids.h5 does not exist.\n",
      "/home/lorenzo/deep_apbs/destData/refined-set_filter/1rnt/1rnt_grids.h5 does not exist.\n",
      "/home/lorenzo/deep_apbs/destData/refined-set_filter/2h21/2h21_grids.h5 does not exist.\n",
      "/home/lorenzo/deep_apbs/destData/refined-set_filter/2am4/2am4_grids.h5 does not exist.\n",
      "/home/lorenzo/deep_apbs/destData/refined-set_filter/1x8d/1x8d_grids.h5 does not exist.\n",
      "/home/lorenzo/deep_apbs/destData/refined-set_filter/2euk/2euk_grids.h5 does not exist.\n",
      "/home/lorenzo/deep_apbs/destData/refined-set_filter/1lnm/1lnm_grids.h5 does not exist.\n",
      "/home/lorenzo/deep_apbs/destData/refined-set_filter/1o1s/1o1s_grids.h5 does not exist.\n",
      "/home/lorenzo/deep_apbs/destData/refined-set_filter/1r9l/1r9l_grids.h5 does not exist.\n",
      "/home/lorenzo/deep_apbs/destData/refined-set_filter/1o5e/1o5e_grids.h5 does not exist.\n",
      "/home/lorenzo/deep_apbs/destData/refined-set_filter/1pgp/1pgp_grids.h5 does not exist.\n",
      "/home/lorenzo/deep_apbs/destData/refined-set_filter/1f74/1f74_grids.h5 does not exist.\n",
      "/home/lorenzo/deep_apbs/destData/refined-set_filter/1wn6/1wn6_grids.h5 does not exist.\n",
      "/home/lorenzo/deep_apbs/destData/refined-set_filter/1ua4/1ua4_grids.h5 does not exist.\n",
      "/home/lorenzo/deep_apbs/destData/refined-set_filter/1kyv/1kyv_grids.h5 does not exist.\n",
      "/home/lorenzo/deep_apbs/destData/refined-set_filter/1h2k/1h2k_grids.h5 does not exist.\n",
      "/home/lorenzo/deep_apbs/destData/refined-set_filter/1g30/1g30_grids.h5 does not exist.\n",
      "/home/lorenzo/deep_apbs/destData/refined-set_filter/1l83/1l83_grids.h5 does not exist.\n",
      "/home/lorenzo/deep_apbs/destData/refined-set_filter/2fxv/2fxv_grids.h5 does not exist.\n",
      "/home/lorenzo/deep_apbs/destData/refined-set_filter/2gyi/2gyi_grids.h5 does not exist.\n",
      "/home/lorenzo/deep_apbs/destData/refined-set_filter/1n4k/1n4k_grids.h5 does not exist.\n",
      "/home/lorenzo/deep_apbs/destData/refined-set_filter/2ews/2ews_grids.h5 does not exist.\n",
      "/home/lorenzo/deep_apbs/destData/refined-set_filter/2e2p/2e2p_grids.h5 does not exist.\n",
      "/home/lorenzo/deep_apbs/destData/refined-set_filter/2gsu/2gsu_grids.h5 does not exist.\n",
      "/home/lorenzo/deep_apbs/destData/refined-set_filter/1wuq/1wuq_grids.h5 does not exist.\n",
      "/home/lorenzo/deep_apbs/destData/refined-set_filter/2d0k/2d0k_grids.h5 does not exist.\n",
      "/home/lorenzo/deep_apbs/destData/refined-set_filter/1moq/1moq_grids.h5 does not exist.\n",
      "/home/lorenzo/deep_apbs/destData/refined-set_filter/1qaw/1qaw_grids.h5 does not exist.\n",
      "/home/lorenzo/deep_apbs/destData/refined-set_filter/1wc1/1wc1_grids.h5 does not exist.\n"
     ]
    }
   ],
   "source": [
    "OracleLoss = AverageLosses(initLosses)\n",
    "UnetLoss = AverageLosses(initLosses)\n",
    "RandLoss = AverageLosses(initLosses)\n",
    "RandUnitLoss = AverageLosses(initLosses)\n",
    "ZeroLoss = AverageLosses(initLosses)\n",
    "UnitLoss = AverageLosses(initLosses)\n",
    "\n",
    "for name, (predT, labelT) in genDataSets():\n",
    "    constPred = torch.zeros_like(labelT)\n",
    "    ZeroLoss.update(constPred, labelT, name)\n",
    "\n",
    "    constPred[:] = 1\n",
    "    UnitLoss.update(constPred, labelT, name)\n",
    "\n",
    "    UnetLoss.update(predT, labelT, name)\n",
    "\n",
    "    OracleLoss.update(labelT, labelT, name)\n",
    "\n",
    "    randPred = torch.rand(size=constPred.size(), dtype=constPred.dtype, device=constPred.device, requires_grad=False)\n",
    "    RandLoss.update(randPred, labelT, name)\n",
    "    \n",
    "    randPred[randPred < 0.5] = 0\n",
    "    randPred[randPred > 0.5] = 1\n",
    "    RandUnitLoss.update(randPred, labelT, name)"
   ]
  },
  {
   "cell_type": "code",
   "execution_count": 28,
   "id": "31a435d3",
   "metadata": {},
   "outputs": [
    {
     "data": {
      "text/plain": [
       "({'BCE': 49.99950144841121,\n",
       "  'Dice': 0.997966271180373,\n",
       "  'MeanIoU': 0.0010180229527087738},\n",
       " {'BCE': 0.9999702343573937,\n",
       "  'Dice': 0.9969496108018435,\n",
       "  'MeanIoU': 0.0010180229527087738},\n",
       " {'BCE': 99.89769275371845,\n",
       "  'Dice': 0.997956259892537,\n",
       "  'MeanIoU': 0.001023037529263932},\n",
       " {'BCE': 0.1023037525323721, 'Dice': 1.0, 'MeanIoU': 0.0},\n",
       " {'BCE': 0.0, 'Dice': 0.0, 'MeanIoU': 1.0})"
      ]
     },
     "execution_count": 28,
     "metadata": {},
     "output_type": "execute_result"
    }
   ],
   "source": [
    "RandUnitLoss.value(), RandLoss.value(), UnitLoss.value(), ZeroLoss.value(),OracleLoss.value()"
   ]
  },
  {
   "cell_type": "code",
   "execution_count": 32,
   "id": "c20fc60b",
   "metadata": {},
   "outputs": [
    {
     "data": {
      "text/plain": [
       "{'1sw2': 0.4645071029663086,\n",
       " '1fiv': 0.6156509518623352,\n",
       " '1a4r': 0.17319780588150024,\n",
       " '4gbd': 0.6333988904953003,\n",
       " '5g1z': 0.12134632468223572,\n",
       " '5gja': 0.3489736020565033,\n",
       " '2fqt': 0.29123446345329285,\n",
       " '4r75': 0.567950963973999,\n",
       " '4non': 0.15870153903961182,\n",
       " '3fjg': 0.5126749873161316,\n",
       " '3s0e': 0.493194043636322,\n",
       " '1dy4': 0.5372849106788635,\n",
       " '1dqn': 0.2584525942802429,\n",
       " '1m48': 0.027618248015642166,\n",
       " '5yz2': 0.20882698893547058,\n",
       " '4fxp': 0.48952972888946533,\n",
       " '5mxf': 0.0,\n",
       " '1ctt': 0.0,\n",
       " '1ceb': 0.2004687339067459,\n",
       " '5km9': 0.18358531594276428,\n",
       " '2dw7': 0.008737157098948956,\n",
       " '1t7d': 0.22022944688796997,\n",
       " '5tcj': 0.03971793130040169,\n",
       " '5vij': 0.4260115623474121,\n",
       " '4jwk': 0.23512376844882965,\n",
       " '5tuz': 0.09520634263753891}"
      ]
     },
     "execution_count": 32,
     "metadata": {},
     "output_type": "execute_result"
    }
   ],
   "source": [
    "UnetLoss.losses['MeanIoU'].losses"
   ]
  },
  {
   "cell_type": "code",
   "execution_count": null,
   "id": "498b7e0c",
   "metadata": {},
   "outputs": [],
   "source": [
    "thress = np.linspace(0.1,1.0,10)\n",
    "\n",
    "kwargs = {f\"MeanIoU_{thres}\": {'thres':thres} for thres in thress}\n",
    "initLosses = {f\"MeanIoU_{thres}\": MeanIoU for thres in thress}\n",
    "\n",
    "UnetLosses = AverageLosses(initLosses, kwargs)\n",
    "\n",
    "for name, (predT, labelT) in genDataSets():\n",
    "    UnetLosses.update(predT, labelT, name)"
   ]
  },
  {
   "cell_type": "code",
   "execution_count": null,
   "id": "c5d415ff",
   "metadata": {},
   "outputs": [],
   "source": [
    "UnetLosses.losses['MeanIoU'].losses"
   ]
  },
  {
   "cell_type": "markdown",
   "id": "861e508b",
   "metadata": {},
   "source": [
    "## Scratch"
   ]
  },
  {
   "cell_type": "code",
   "execution_count": 17,
   "id": "1b6962ee",
   "metadata": {},
   "outputs": [],
   "source": [
    "name = '1z95'\n",
    "\n",
    "dstbase = '/home/lorenzo/3dunet-cavity/npy'\n",
    "\n",
    "predfname = f'/home/lorenzo/3dunet-cavity/runs/run_210601/predictions/{name}_grids_predictions.h5'\n",
    "origfname = f'/home/lorenzo/deep_apbs/destData/pdbbind_v2013_core_set_0/{name}/{name}_grids.h5'\n",
    "\n",
    "\n",
    "vlabel = np.array(h5py.File(origfname)['label'])\n",
    "with open(f'{dstbase}/{name}_label.npy','wb') as f:\n",
    "    np.save(f, vlabel)\n",
    "\n",
    "# h5py.File(predbase)['predictions']\n"
   ]
  }
 ],
 "metadata": {
  "kernelspec": {
   "display_name": "Python 3",
   "language": "python",
   "name": "python3"
  },
  "language_info": {
   "codemirror_mode": {
    "name": "ipython",
    "version": 3
   },
   "file_extension": ".py",
   "mimetype": "text/x-python",
   "name": "python",
   "nbconvert_exporter": "python",
   "pygments_lexer": "ipython3",
   "version": "3.8.5"
  }
 },
 "nbformat": 4,
 "nbformat_minor": 5
}
