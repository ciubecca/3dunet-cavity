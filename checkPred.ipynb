{
 "cells": [
  {
   "cell_type": "code",
   "execution_count": 1,
   "id": "b5993d23",
   "metadata": {},
   "outputs": [
    {
     "data": {
      "text/html": [
       "<style>.container { width:100% !important; }</style>"
      ],
      "text/plain": [
       "<IPython.core.display.HTML object>"
      ]
     },
     "metadata": {},
     "output_type": "display_data"
    },
    {
     "ename": "ModuleNotFoundError",
     "evalue": "No module named 'tkinter'",
     "output_type": "error",
     "traceback": [
      "\u001b[0;31m---------------------------------------------------------------------------\u001b[0m",
      "\u001b[0;31mModuleNotFoundError\u001b[0m                       Traceback (most recent call last)",
      "\u001b[0;32m/tmp/ipykernel_4637/2332714204.py\u001b[0m in \u001b[0;36m<module>\u001b[0;34m\u001b[0m\n\u001b[1;32m     12\u001b[0m \u001b[0;34m\u001b[0m\u001b[0m\n\u001b[1;32m     13\u001b[0m \u001b[0;32mimport\u001b[0m \u001b[0mmatplotlib\u001b[0m\u001b[0;34m\u001b[0m\u001b[0;34m\u001b[0m\u001b[0m\n\u001b[0;32m---> 14\u001b[0;31m \u001b[0mmatplotlib\u001b[0m\u001b[0;34m.\u001b[0m\u001b[0muse\u001b[0m\u001b[0;34m(\u001b[0m\u001b[0;34m'TkAgg'\u001b[0m\u001b[0;34m)\u001b[0m\u001b[0;34m\u001b[0m\u001b[0;34m\u001b[0m\u001b[0m\n\u001b[0m\u001b[1;32m     15\u001b[0m \u001b[0;34m\u001b[0m\u001b[0m\n\u001b[1;32m     16\u001b[0m \u001b[0mget_ipython\u001b[0m\u001b[0;34m(\u001b[0m\u001b[0;34m)\u001b[0m\u001b[0;34m.\u001b[0m\u001b[0mrun_line_magic\u001b[0m\u001b[0;34m(\u001b[0m\u001b[0;34m'matplotlib'\u001b[0m\u001b[0;34m,\u001b[0m \u001b[0;34m'inline'\u001b[0m\u001b[0;34m)\u001b[0m\u001b[0;34m\u001b[0m\u001b[0;34m\u001b[0m\u001b[0m\n",
      "\u001b[0;32m~/.local/share/virtualenvs/3dunet-cavity-qExi3z-o/lib/python3.8/site-packages/matplotlib/__init__.py\u001b[0m in \u001b[0;36muse\u001b[0;34m(backend, force)\u001b[0m\n\u001b[1;32m   1078\u001b[0m                 \u001b[0;31m# user does not have the libraries to support their\u001b[0m\u001b[0;34m\u001b[0m\u001b[0;34m\u001b[0m\u001b[0;34m\u001b[0m\u001b[0m\n\u001b[1;32m   1079\u001b[0m                 \u001b[0;31m# chosen backend installed.\u001b[0m\u001b[0;34m\u001b[0m\u001b[0;34m\u001b[0m\u001b[0;34m\u001b[0m\u001b[0m\n\u001b[0;32m-> 1080\u001b[0;31m                 \u001b[0mplt\u001b[0m\u001b[0;34m.\u001b[0m\u001b[0mswitch_backend\u001b[0m\u001b[0;34m(\u001b[0m\u001b[0mname\u001b[0m\u001b[0;34m)\u001b[0m\u001b[0;34m\u001b[0m\u001b[0;34m\u001b[0m\u001b[0m\n\u001b[0m\u001b[1;32m   1081\u001b[0m             \u001b[0;32mexcept\u001b[0m \u001b[0mImportError\u001b[0m\u001b[0;34m:\u001b[0m\u001b[0;34m\u001b[0m\u001b[0;34m\u001b[0m\u001b[0m\n\u001b[1;32m   1082\u001b[0m                 \u001b[0;32mif\u001b[0m \u001b[0mforce\u001b[0m\u001b[0;34m:\u001b[0m\u001b[0;34m\u001b[0m\u001b[0;34m\u001b[0m\u001b[0m\n",
      "\u001b[0;32m~/.local/share/virtualenvs/3dunet-cavity-qExi3z-o/lib/python3.8/site-packages/matplotlib/pyplot.py\u001b[0m in \u001b[0;36mswitch_backend\u001b[0;34m(newbackend)\u001b[0m\n\u001b[1;32m    275\u001b[0m     \u001b[0mbackend_name\u001b[0m \u001b[0;34m=\u001b[0m \u001b[0mcbook\u001b[0m\u001b[0;34m.\u001b[0m\u001b[0m_backend_module_name\u001b[0m\u001b[0;34m(\u001b[0m\u001b[0mnewbackend\u001b[0m\u001b[0;34m)\u001b[0m\u001b[0;34m\u001b[0m\u001b[0;34m\u001b[0m\u001b[0m\n\u001b[1;32m    276\u001b[0m \u001b[0;34m\u001b[0m\u001b[0m\n\u001b[0;32m--> 277\u001b[0;31m     \u001b[0;32mclass\u001b[0m \u001b[0mbackend_mod\u001b[0m\u001b[0;34m(\u001b[0m\u001b[0mmatplotlib\u001b[0m\u001b[0;34m.\u001b[0m\u001b[0mbackend_bases\u001b[0m\u001b[0;34m.\u001b[0m\u001b[0m_Backend\u001b[0m\u001b[0;34m)\u001b[0m\u001b[0;34m:\u001b[0m\u001b[0;34m\u001b[0m\u001b[0;34m\u001b[0m\u001b[0m\n\u001b[0m\u001b[1;32m    278\u001b[0m         \u001b[0mlocals\u001b[0m\u001b[0;34m(\u001b[0m\u001b[0;34m)\u001b[0m\u001b[0;34m.\u001b[0m\u001b[0mupdate\u001b[0m\u001b[0;34m(\u001b[0m\u001b[0mvars\u001b[0m\u001b[0;34m(\u001b[0m\u001b[0mimportlib\u001b[0m\u001b[0;34m.\u001b[0m\u001b[0mimport_module\u001b[0m\u001b[0;34m(\u001b[0m\u001b[0mbackend_name\u001b[0m\u001b[0;34m)\u001b[0m\u001b[0;34m)\u001b[0m\u001b[0;34m)\u001b[0m\u001b[0;34m\u001b[0m\u001b[0;34m\u001b[0m\u001b[0m\n\u001b[1;32m    279\u001b[0m \u001b[0;34m\u001b[0m\u001b[0m\n",
      "\u001b[0;32m~/.local/share/virtualenvs/3dunet-cavity-qExi3z-o/lib/python3.8/site-packages/matplotlib/pyplot.py\u001b[0m in \u001b[0;36mbackend_mod\u001b[0;34m()\u001b[0m\n\u001b[1;32m    276\u001b[0m \u001b[0;34m\u001b[0m\u001b[0m\n\u001b[1;32m    277\u001b[0m     \u001b[0;32mclass\u001b[0m \u001b[0mbackend_mod\u001b[0m\u001b[0;34m(\u001b[0m\u001b[0mmatplotlib\u001b[0m\u001b[0;34m.\u001b[0m\u001b[0mbackend_bases\u001b[0m\u001b[0;34m.\u001b[0m\u001b[0m_Backend\u001b[0m\u001b[0;34m)\u001b[0m\u001b[0;34m:\u001b[0m\u001b[0;34m\u001b[0m\u001b[0;34m\u001b[0m\u001b[0m\n\u001b[0;32m--> 278\u001b[0;31m         \u001b[0mlocals\u001b[0m\u001b[0;34m(\u001b[0m\u001b[0;34m)\u001b[0m\u001b[0;34m.\u001b[0m\u001b[0mupdate\u001b[0m\u001b[0;34m(\u001b[0m\u001b[0mvars\u001b[0m\u001b[0;34m(\u001b[0m\u001b[0mimportlib\u001b[0m\u001b[0;34m.\u001b[0m\u001b[0mimport_module\u001b[0m\u001b[0;34m(\u001b[0m\u001b[0mbackend_name\u001b[0m\u001b[0;34m)\u001b[0m\u001b[0;34m)\u001b[0m\u001b[0;34m)\u001b[0m\u001b[0;34m\u001b[0m\u001b[0;34m\u001b[0m\u001b[0m\n\u001b[0m\u001b[1;32m    279\u001b[0m \u001b[0;34m\u001b[0m\u001b[0m\n\u001b[1;32m    280\u001b[0m     \u001b[0mrequired_framework\u001b[0m \u001b[0;34m=\u001b[0m \u001b[0m_get_required_interactive_framework\u001b[0m\u001b[0;34m(\u001b[0m\u001b[0mbackend_mod\u001b[0m\u001b[0;34m)\u001b[0m\u001b[0;34m\u001b[0m\u001b[0;34m\u001b[0m\u001b[0m\n",
      "\u001b[0;32m/usr/lib/python3.8/importlib/__init__.py\u001b[0m in \u001b[0;36mimport_module\u001b[0;34m(name, package)\u001b[0m\n\u001b[1;32m    125\u001b[0m                 \u001b[0;32mbreak\u001b[0m\u001b[0;34m\u001b[0m\u001b[0;34m\u001b[0m\u001b[0m\n\u001b[1;32m    126\u001b[0m             \u001b[0mlevel\u001b[0m \u001b[0;34m+=\u001b[0m \u001b[0;36m1\u001b[0m\u001b[0;34m\u001b[0m\u001b[0;34m\u001b[0m\u001b[0m\n\u001b[0;32m--> 127\u001b[0;31m     \u001b[0;32mreturn\u001b[0m \u001b[0m_bootstrap\u001b[0m\u001b[0;34m.\u001b[0m\u001b[0m_gcd_import\u001b[0m\u001b[0;34m(\u001b[0m\u001b[0mname\u001b[0m\u001b[0;34m[\u001b[0m\u001b[0mlevel\u001b[0m\u001b[0;34m:\u001b[0m\u001b[0;34m]\u001b[0m\u001b[0;34m,\u001b[0m \u001b[0mpackage\u001b[0m\u001b[0;34m,\u001b[0m \u001b[0mlevel\u001b[0m\u001b[0;34m)\u001b[0m\u001b[0;34m\u001b[0m\u001b[0;34m\u001b[0m\u001b[0m\n\u001b[0m\u001b[1;32m    128\u001b[0m \u001b[0;34m\u001b[0m\u001b[0m\n\u001b[1;32m    129\u001b[0m \u001b[0;34m\u001b[0m\u001b[0m\n",
      "\u001b[0;32m/usr/lib/python3.8/importlib/_bootstrap.py\u001b[0m in \u001b[0;36m_gcd_import\u001b[0;34m(name, package, level)\u001b[0m\n",
      "\u001b[0;32m/usr/lib/python3.8/importlib/_bootstrap.py\u001b[0m in \u001b[0;36m_find_and_load\u001b[0;34m(name, import_)\u001b[0m\n",
      "\u001b[0;32m/usr/lib/python3.8/importlib/_bootstrap.py\u001b[0m in \u001b[0;36m_find_and_load_unlocked\u001b[0;34m(name, import_)\u001b[0m\n",
      "\u001b[0;32m/usr/lib/python3.8/importlib/_bootstrap.py\u001b[0m in \u001b[0;36m_load_unlocked\u001b[0;34m(spec)\u001b[0m\n",
      "\u001b[0;32m/usr/lib/python3.8/importlib/_bootstrap_external.py\u001b[0m in \u001b[0;36mexec_module\u001b[0;34m(self, module)\u001b[0m\n",
      "\u001b[0;32m/usr/lib/python3.8/importlib/_bootstrap.py\u001b[0m in \u001b[0;36m_call_with_frames_removed\u001b[0;34m(f, *args, **kwds)\u001b[0m\n",
      "\u001b[0;32m~/.local/share/virtualenvs/3dunet-cavity-qExi3z-o/lib/python3.8/site-packages/matplotlib/backends/backend_tkagg.py\u001b[0m in \u001b[0;36m<module>\u001b[0;34m\u001b[0m\n\u001b[0;32m----> 1\u001b[0;31m \u001b[0;32mfrom\u001b[0m \u001b[0;34m.\u001b[0m \u001b[0;32mimport\u001b[0m \u001b[0m_backend_tk\u001b[0m\u001b[0;34m\u001b[0m\u001b[0;34m\u001b[0m\u001b[0m\n\u001b[0m\u001b[1;32m      2\u001b[0m \u001b[0;32mfrom\u001b[0m \u001b[0;34m.\u001b[0m\u001b[0mbackend_agg\u001b[0m \u001b[0;32mimport\u001b[0m \u001b[0mFigureCanvasAgg\u001b[0m\u001b[0;34m\u001b[0m\u001b[0;34m\u001b[0m\u001b[0m\n\u001b[1;32m      3\u001b[0m from ._backend_tk import (\n\u001b[1;32m      4\u001b[0m     _BackendTk, FigureCanvasTk, FigureManagerTk, NavigationToolbar2Tk)\n\u001b[1;32m      5\u001b[0m \u001b[0;34m\u001b[0m\u001b[0m\n",
      "\u001b[0;32m~/.local/share/virtualenvs/3dunet-cavity-qExi3z-o/lib/python3.8/site-packages/matplotlib/backends/_backend_tk.py\u001b[0m in \u001b[0;36m<module>\u001b[0;34m\u001b[0m\n\u001b[1;32m      5\u001b[0m \u001b[0;32mimport\u001b[0m \u001b[0mos\u001b[0m\u001b[0;34m.\u001b[0m\u001b[0mpath\u001b[0m\u001b[0;34m\u001b[0m\u001b[0;34m\u001b[0m\u001b[0m\n\u001b[1;32m      6\u001b[0m \u001b[0;32mimport\u001b[0m \u001b[0msys\u001b[0m\u001b[0;34m\u001b[0m\u001b[0;34m\u001b[0m\u001b[0m\n\u001b[0;32m----> 7\u001b[0;31m \u001b[0;32mimport\u001b[0m \u001b[0mtkinter\u001b[0m \u001b[0;32mas\u001b[0m \u001b[0mtk\u001b[0m\u001b[0;34m\u001b[0m\u001b[0;34m\u001b[0m\u001b[0m\n\u001b[0m\u001b[1;32m      8\u001b[0m \u001b[0;32mfrom\u001b[0m \u001b[0mtkinter\u001b[0m\u001b[0;34m.\u001b[0m\u001b[0msimpledialog\u001b[0m \u001b[0;32mimport\u001b[0m \u001b[0mSimpleDialog\u001b[0m\u001b[0;34m\u001b[0m\u001b[0;34m\u001b[0m\u001b[0m\n\u001b[1;32m      9\u001b[0m \u001b[0;32mimport\u001b[0m \u001b[0mtkinter\u001b[0m\u001b[0;34m.\u001b[0m\u001b[0mfiledialog\u001b[0m\u001b[0;34m\u001b[0m\u001b[0;34m\u001b[0m\u001b[0m\n",
      "\u001b[0;31mModuleNotFoundError\u001b[0m: No module named 'tkinter'"
     ]
    }
   ],
   "source": [
    "from IPython.core.display import display, HTML\n",
    "display(HTML(\"<style>.container { width:100% !important; }</style>\"))\n",
    "import h5py\n",
    "from matplotlib import pyplot as plt\n",
    "import torch\n",
    "import numpy as np\n",
    "from pytorch3dunet.unet3d.losses import *\n",
    "from pytorch3dunet.unet3d.metrics import MeanIoU\n",
    "from pathlib import Path\n",
    "import glob\n",
    "import os\n",
    "\n",
    "import matplotlib\n",
    "matplotlib.use('TkAgg')\n",
    "\n",
    "%matplotlib inline"
   ]
  },
  {
   "cell_type": "code",
   "execution_count": null,
   "id": "a3044c20",
   "metadata": {},
   "outputs": [],
   "source": [
    "class DiceProbLoss(DiceLoss):\n",
    "    def __init__(self):\n",
    "        super(DiceProbLoss, self).__init__(normalization='none')\n",
    "\n",
    "class MeanIoUBin(MeanIoU):\n",
    "    def __init__(self):\n",
    "        super(MeanIoUBin, self).__init__(is_binarized=True)\n",
    "\n",
    "class BCEDiceBinLoss(nn.Module):\n",
    "    \"\"\"Linear combination of BCE and Dice losses\"\"\"\n",
    "\n",
    "    def __init__(self, alpha, beta):\n",
    "        super(BCEDiceBinLoss, self).__init__()\n",
    "        self.alpha = alpha\n",
    "        self.bce = nn.BCELoss()\n",
    "        self.beta = beta\n",
    "        self.dice = DiceBinLoss()\n",
    "\n",
    "    def forward(self, input, target):\n",
    "        return self.alpha * self.bce(input, target) + self.beta * self.dice(input, target)\n",
    "\n",
    "\n",
    "initLosses = {\n",
    "    \"BCE\": nn.BCELoss,\n",
    "    \"Dice\": DiceProbLoss,\n",
    "    \"MeanIoU\": MeanIoU\n",
    "}"
   ]
  },
  {
   "cell_type": "code",
   "execution_count": 25,
   "id": "c39aee96",
   "metadata": {},
   "outputs": [],
   "source": [
    "basepred = Path('/home/lorenzo/3dunet-cavity/runs/run_210623_gpu/predictions')\n",
    "baseorig = Path('/home/lorenzo/deep_apbs/destData/refined-set_filter')\n",
    "\n",
    "def genDataSets():\n",
    "\n",
    "    for predfname in glob.glob(str(basepred / '*_grids_predictions.h5')):\n",
    "        name = Path(predfname).name.split('_')[0]\n",
    "        labelfname = baseorig / name / f'{name}_grids.h5'\n",
    "        \n",
    "        if not os.path.exists(labelfname):\n",
    "            print(f'{labelfname} does not exist.')\n",
    "            continue\n",
    "        \n",
    "        labelT = torch.tensor(h5py.File(labelfname)['label'], dtype=torch.float32)\n",
    "        labelT = labelT[None,None]\n",
    "        predT = torch.tensor(h5py.File(predfname)['predictions'])\n",
    "        predT = predT[None]\n",
    "        \n",
    "        yield name, (predT, labelT)"
   ]
  },
  {
   "cell_type": "code",
   "execution_count": 26,
   "id": "165154cf",
   "metadata": {},
   "outputs": [],
   "source": [
    "class RunningAverage:\n",
    "    def __init__(self, loss):\n",
    "        self.count = 0\n",
    "        self.sum = 0\n",
    "        self.loss = loss\n",
    "        self.losses = {}\n",
    "\n",
    "    def update(self, pred, label, name):\n",
    "        self.count += 1\n",
    "        loss = self.loss(pred, label).item()\n",
    "        self.sum += loss\n",
    "        self.losses[name] = loss\n",
    "\n",
    "    def value(self):\n",
    "        return self.sum / self.count\n",
    "    \n",
    "class AverageLosses:\n",
    "    def __init__(self, losses, kwargs=None):\n",
    "        if kwargs is None:\n",
    "            kwargs = {name:{} for name in losses.keys()}\n",
    "        self.losses = {name: RunningAverage(loss(**kwargs[name])) for name,loss in losses.items()}\n",
    "\n",
    "    def update(self, pred, label, prot):\n",
    "        for name in self.losses.keys():\n",
    "            self.losses[name].update(pred,label, prot)\n",
    "        \n",
    "    def value(self):\n",
    "        return {name: loss.value() for name,loss in self.losses.items()}"
   ]
  },
  {
   "cell_type": "code",
   "execution_count": 27,
   "id": "6c321247",
   "metadata": {},
   "outputs": [
    {
     "name": "stdout",
     "output_type": "stream",
     "text": [
      "/home/lorenzo/deep_apbs/destData/refined-set_filter/1oba/1oba_grids.h5 does not exist.\n",
      "/home/lorenzo/deep_apbs/destData/refined-set_filter/2epn/2epn_grids.h5 does not exist.\n",
      "/home/lorenzo/deep_apbs/destData/refined-set_filter/1tkb/1tkb_grids.h5 does not exist.\n",
      "/home/lorenzo/deep_apbs/destData/refined-set_filter/1rnt/1rnt_grids.h5 does not exist.\n",
      "/home/lorenzo/deep_apbs/destData/refined-set_filter/2h21/2h21_grids.h5 does not exist.\n",
      "/home/lorenzo/deep_apbs/destData/refined-set_filter/2am4/2am4_grids.h5 does not exist.\n",
      "/home/lorenzo/deep_apbs/destData/refined-set_filter/1x8d/1x8d_grids.h5 does not exist.\n",
      "/home/lorenzo/deep_apbs/destData/refined-set_filter/2euk/2euk_grids.h5 does not exist.\n",
      "/home/lorenzo/deep_apbs/destData/refined-set_filter/1lnm/1lnm_grids.h5 does not exist.\n",
      "/home/lorenzo/deep_apbs/destData/refined-set_filter/1o1s/1o1s_grids.h5 does not exist.\n",
      "/home/lorenzo/deep_apbs/destData/refined-set_filter/1r9l/1r9l_grids.h5 does not exist.\n",
      "/home/lorenzo/deep_apbs/destData/refined-set_filter/1o5e/1o5e_grids.h5 does not exist.\n",
      "/home/lorenzo/deep_apbs/destData/refined-set_filter/1pgp/1pgp_grids.h5 does not exist.\n",
      "/home/lorenzo/deep_apbs/destData/refined-set_filter/1f74/1f74_grids.h5 does not exist.\n",
      "/home/lorenzo/deep_apbs/destData/refined-set_filter/1wn6/1wn6_grids.h5 does not exist.\n",
      "/home/lorenzo/deep_apbs/destData/refined-set_filter/1ua4/1ua4_grids.h5 does not exist.\n",
      "/home/lorenzo/deep_apbs/destData/refined-set_filter/1kyv/1kyv_grids.h5 does not exist.\n",
      "/home/lorenzo/deep_apbs/destData/refined-set_filter/1h2k/1h2k_grids.h5 does not exist.\n",
      "/home/lorenzo/deep_apbs/destData/refined-set_filter/1g30/1g30_grids.h5 does not exist.\n",
      "/home/lorenzo/deep_apbs/destData/refined-set_filter/1l83/1l83_grids.h5 does not exist.\n",
      "/home/lorenzo/deep_apbs/destData/refined-set_filter/2fxv/2fxv_grids.h5 does not exist.\n",
      "/home/lorenzo/deep_apbs/destData/refined-set_filter/2gyi/2gyi_grids.h5 does not exist.\n",
      "/home/lorenzo/deep_apbs/destData/refined-set_filter/1n4k/1n4k_grids.h5 does not exist.\n",
      "/home/lorenzo/deep_apbs/destData/refined-set_filter/2ews/2ews_grids.h5 does not exist.\n",
      "/home/lorenzo/deep_apbs/destData/refined-set_filter/2e2p/2e2p_grids.h5 does not exist.\n",
      "/home/lorenzo/deep_apbs/destData/refined-set_filter/2gsu/2gsu_grids.h5 does not exist.\n",
      "/home/lorenzo/deep_apbs/destData/refined-set_filter/1wuq/1wuq_grids.h5 does not exist.\n",
      "/home/lorenzo/deep_apbs/destData/refined-set_filter/2d0k/2d0k_grids.h5 does not exist.\n",
      "/home/lorenzo/deep_apbs/destData/refined-set_filter/1moq/1moq_grids.h5 does not exist.\n",
      "/home/lorenzo/deep_apbs/destData/refined-set_filter/1qaw/1qaw_grids.h5 does not exist.\n",
      "/home/lorenzo/deep_apbs/destData/refined-set_filter/1wc1/1wc1_grids.h5 does not exist.\n"
     ]
    }
   ],
   "source": [
    "OracleLoss = AverageLosses(initLosses)\n",
    "UnetLoss = AverageLosses(initLosses)\n",
    "RandLoss = AverageLosses(initLosses)\n",
    "RandUnitLoss = AverageLosses(initLosses)\n",
    "ZeroLoss = AverageLosses(initLosses)\n",
    "UnitLoss = AverageLosses(initLosses)\n",
    "\n",
    "for name, (predT, labelT) in genDataSets():\n",
    "    constPred = torch.zeros_like(labelT)\n",
    "    ZeroLoss.update(constPred, labelT, name)\n",
    "\n",
    "    constPred[:] = 1\n",
    "    UnitLoss.update(constPred, labelT, name)\n",
    "\n",
    "    UnetLoss.update(predT, labelT, name)\n",
    "\n",
    "    OracleLoss.update(labelT, labelT, name)\n",
    "\n",
    "    randPred = torch.rand(size=constPred.size(), dtype=constPred.dtype, device=constPred.device, requires_grad=False)\n",
    "    RandLoss.update(randPred, labelT, name)\n",
    "    \n",
    "    randPred[randPred < 0.5] = 0\n",
    "    randPred[randPred > 0.5] = 1\n",
    "    RandUnitLoss.update(randPred, labelT, name)"
   ]
  },
  {
   "cell_type": "code",
   "execution_count": 28,
   "id": "31a435d3",
   "metadata": {},
   "outputs": [
    {
     "data": {
      "text/plain": [
       "({'BCE': 49.99950144841121,\n",
       "  'Dice': 0.997966271180373,\n",
       "  'MeanIoU': 0.0010180229527087738},\n",
       " {'BCE': 0.9999702343573937,\n",
       "  'Dice': 0.9969496108018435,\n",
       "  'MeanIoU': 0.0010180229527087738},\n",
       " {'BCE': 99.89769275371845,\n",
       "  'Dice': 0.997956259892537,\n",
       "  'MeanIoU': 0.001023037529263932},\n",
       " {'BCE': 0.1023037525323721, 'Dice': 1.0, 'MeanIoU': 0.0},\n",
       " {'BCE': 0.0, 'Dice': 0.0, 'MeanIoU': 1.0})"
      ]
     },
     "execution_count": 28,
     "metadata": {},
     "output_type": "execute_result"
    }
   ],
   "source": [
    "RandUnitLoss.value(), RandLoss.value(), UnitLoss.value(), ZeroLoss.value(),OracleLoss.value()"
   ]
  },
  {
   "cell_type": "code",
   "execution_count": 32,
   "id": "c20fc60b",
   "metadata": {},
   "outputs": [
    {
     "data": {
      "text/plain": [
       "{'1sw2': 0.4645071029663086,\n",
       " '1fiv': 0.6156509518623352,\n",
       " '1a4r': 0.17319780588150024,\n",
       " '4gbd': 0.6333988904953003,\n",
       " '5g1z': 0.12134632468223572,\n",
       " '5gja': 0.3489736020565033,\n",
       " '2fqt': 0.29123446345329285,\n",
       " '4r75': 0.567950963973999,\n",
       " '4non': 0.15870153903961182,\n",
       " '3fjg': 0.5126749873161316,\n",
       " '3s0e': 0.493194043636322,\n",
       " '1dy4': 0.5372849106788635,\n",
       " '1dqn': 0.2584525942802429,\n",
       " '1m48': 0.027618248015642166,\n",
       " '5yz2': 0.20882698893547058,\n",
       " '4fxp': 0.48952972888946533,\n",
       " '5mxf': 0.0,\n",
       " '1ctt': 0.0,\n",
       " '1ceb': 0.2004687339067459,\n",
       " '5km9': 0.18358531594276428,\n",
       " '2dw7': 0.008737157098948956,\n",
       " '1t7d': 0.22022944688796997,\n",
       " '5tcj': 0.03971793130040169,\n",
       " '5vij': 0.4260115623474121,\n",
       " '4jwk': 0.23512376844882965,\n",
       " '5tuz': 0.09520634263753891}"
      ]
     },
     "execution_count": 32,
     "metadata": {},
     "output_type": "execute_result"
    }
   ],
   "source": [
    "UnetLoss.losses['MeanIoU'].losses"
   ]
  },
  {
   "cell_type": "code",
   "execution_count": null,
   "id": "498b7e0c",
   "metadata": {},
   "outputs": [],
   "source": [
    "thress = np.linspace(0.1,1.0,10)\n",
    "\n",
    "kwargs = {f\"MeanIoU_{thres}\": {'thres':thres} for thres in thress}\n",
    "initLosses = {f\"MeanIoU_{thres}\": MeanIoU for thres in thress}\n",
    "\n",
    "UnetLosses = AverageLosses(initLosses, kwargs)\n",
    "\n",
    "for name, (predT, labelT) in genDataSets():\n",
    "    UnetLosses.update(predT, labelT, name)"
   ]
  },
  {
   "cell_type": "code",
   "execution_count": null,
   "id": "c5d415ff",
   "metadata": {},
   "outputs": [],
   "source": [
    "UnetLosses.losses['MeanIoU'].losses"
   ]
  },
  {
   "cell_type": "markdown",
   "id": "861e508b",
   "metadata": {},
   "source": [
    "## Scratch"
   ]
  },
  {
   "cell_type": "code",
   "execution_count": 2,
   "id": "1b6962ee",
   "metadata": {},
   "outputs": [],
   "source": [
    "import h5py\n",
    "import numpy as np\n",
    "import prody\n",
    "import os\n",
    "from potsim2 import PotGrid\n",
    "\n",
    "datadir = '/home/lorenzo/deep_apbs/destData/pdbbind_v2013_core_set_0'\n",
    "name = '3dxg'\n",
    "\n",
    "predfname = f'/home/lorenzo/3dunet-cavity/runs/run_210712_local/predictions/{name}_grids_predictions.h5'\n",
    "pdbfname = f'{datadir}/{name}/{name}_selected.pdb'\n",
    "gridfname = f'{datadir}/{name}/{name}_grid.dx.gz'\n",
    "\n",
    "grids = h5py.File(predfname)\n",
    "    \n",
    "# with open(predfname, 'r') as f:\n",
    "#     grids = h5py.File(f, 'r')"
   ]
  },
  {
   "cell_type": "code",
   "execution_count": 3,
   "id": "3ff22266",
   "metadata": {},
   "outputs": [
    {
     "data": {
      "text/plain": [
       "True"
      ]
     },
     "execution_count": 3,
     "metadata": {},
     "output_type": "execute_result"
    }
   ],
   "source": [
    "os.path.exists(gridfname)"
   ]
  },
  {
   "cell_type": "code",
   "execution_count": 10,
   "id": "8144523b",
   "metadata": {},
   "outputs": [
    {
     "data": {
      "text/plain": [
       "(161, 161, 161)"
      ]
     },
     "execution_count": 10,
     "metadata": {},
     "output_type": "execute_result"
    }
   ],
   "source": [
    "pred = np.array(grids['predictions'][0])\n",
    "pred.shape"
   ]
  },
  {
   "cell_type": "code",
   "execution_count": 18,
   "id": "2598e828",
   "metadata": {},
   "outputs": [],
   "source": [
    "structure = prody.parsePDB(pdbfname)\n",
    "predbin = pred  > 0.5"
   ]
  },
  {
   "cell_type": "code",
   "execution_count": 28,
   "id": "61b50384",
   "metadata": {},
   "outputs": [],
   "source": [
    "coords = []\n",
    "\n",
    "for i,coord in enumerate(structure.getCoords()):\n",
    "    x,y,z = coord\n",
    "    binx = int((x - min(grid.edges[0])) / grid.delta[0])\n",
    "    biny = int((y - min(grid.edges[1])) / grid.delta[1])\n",
    "    binz = int((z - min(grid.edges[2])) / grid.delta[2])\n",
    "    \n",
    "    if predbin[binx,biny,binz]:\n",
    "        coords.append(coord)"
   ]
  },
  {
   "cell_type": "code",
   "execution_count": 7,
   "id": "243441d5",
   "metadata": {},
   "outputs": [],
   "source": [
    "grid = PotGrid(f\"{datadir}/{name}/{name}_selected.pdb\", f\"{datadir}/{name}/{name}_grid.dx.gz\")"
   ]
  },
  {
   "cell_type": "code",
   "execution_count": 30,
   "id": "0527fedd",
   "metadata": {},
   "outputs": [
    {
     "ename": "NameError",
     "evalue": "name '__file__' is not defined",
     "output_type": "error",
     "traceback": [
      "\u001b[0;31m---------------------------------------------------------------------------\u001b[0m",
      "\u001b[0;31mNameError\u001b[0m                                 Traceback (most recent call last)",
      "\u001b[0;32m/tmp/ipykernel_4637/2351075265.py\u001b[0m in \u001b[0;36m<module>\u001b[0;34m\u001b[0m\n\u001b[1;32m      1\u001b[0m \u001b[0;32mimport\u001b[0m \u001b[0mos\u001b[0m\u001b[0;34m\u001b[0m\u001b[0;34m\u001b[0m\u001b[0m\n\u001b[0;32m----> 2\u001b[0;31m \u001b[0mos\u001b[0m\u001b[0;34m.\u001b[0m\u001b[0mpath\u001b[0m\u001b[0;34m.\u001b[0m\u001b[0mdirname\u001b[0m\u001b[0;34m(\u001b[0m\u001b[0mos\u001b[0m\u001b[0;34m.\u001b[0m\u001b[0mpath\u001b[0m\u001b[0;34m.\u001b[0m\u001b[0mabspath\u001b[0m\u001b[0;34m(\u001b[0m\u001b[0m__file__\u001b[0m\u001b[0;34m)\u001b[0m\u001b[0;34m)\u001b[0m \u001b[0;31m# /a/b/c/d/e\u001b[0m\u001b[0;34m\u001b[0m\u001b[0;34m\u001b[0m\u001b[0m\n\u001b[0m",
      "\u001b[0;31mNameError\u001b[0m: name '__file__' is not defined"
     ]
    }
   ],
   "source": [
    "import os\n",
    "os.path.dirname(os.path.abspath(__file__)) # /a/b/c/d/e"
   ]
  },
  {
   "cell_type": "code",
   "execution_count": 13,
   "id": "2622cb5c",
   "metadata": {},
   "outputs": [
    {
     "data": {
      "text/plain": [
       "array([1., 1., 1.])"
      ]
     },
     "execution_count": 13,
     "metadata": {},
     "output_type": "execute_result"
    }
   ],
   "source": [
    "grid.delta"
   ]
  },
  {
   "cell_type": "code",
   "execution_count": 8,
   "id": "f2143d7a",
   "metadata": {},
   "outputs": [
    {
     "data": {
      "text/plain": [
       "[array([-46.264, -45.264, -44.264, -43.264, -42.264, -41.264, -40.264,\n",
       "        -39.264, -38.264, -37.264, -36.264, -35.264, -34.264, -33.264,\n",
       "        -32.264, -31.264, -30.264, -29.264, -28.264, -27.264, -26.264,\n",
       "        -25.264, -24.264, -23.264, -22.264, -21.264, -20.264, -19.264,\n",
       "        -18.264, -17.264, -16.264, -15.264, -14.264, -13.264, -12.264,\n",
       "        -11.264, -10.264,  -9.264,  -8.264,  -7.264,  -6.264,  -5.264,\n",
       "         -4.264,  -3.264,  -2.264,  -1.264,  -0.264,   0.736,   1.736,\n",
       "          2.736,   3.736,   4.736,   5.736,   6.736,   7.736,   8.736,\n",
       "          9.736,  10.736,  11.736,  12.736,  13.736,  14.736,  15.736,\n",
       "         16.736,  17.736,  18.736,  19.736,  20.736,  21.736,  22.736,\n",
       "         23.736,  24.736,  25.736,  26.736,  27.736,  28.736,  29.736,\n",
       "         30.736,  31.736,  32.736,  33.736,  34.736,  35.736,  36.736,\n",
       "         37.736,  38.736,  39.736,  40.736,  41.736,  42.736,  43.736,\n",
       "         44.736,  45.736,  46.736,  47.736,  48.736,  49.736,  50.736,\n",
       "         51.736,  52.736,  53.736,  54.736,  55.736,  56.736,  57.736,\n",
       "         58.736,  59.736,  60.736,  61.736,  62.736,  63.736,  64.736,\n",
       "         65.736,  66.736,  67.736,  68.736,  69.736,  70.736,  71.736,\n",
       "         72.736,  73.736,  74.736,  75.736,  76.736,  77.736,  78.736,\n",
       "         79.736,  80.736,  81.736,  82.736,  83.736,  84.736,  85.736,\n",
       "         86.736,  87.736,  88.736,  89.736,  90.736,  91.736,  92.736,\n",
       "         93.736,  94.736,  95.736,  96.736,  97.736,  98.736,  99.736,\n",
       "        100.736, 101.736, 102.736, 103.736, 104.736, 105.736, 106.736,\n",
       "        107.736, 108.736, 109.736, 110.736, 111.736, 112.736, 113.736,\n",
       "        114.736]),\n",
       " array([-75.742, -74.742, -73.742, -72.742, -71.742, -70.742, -69.742,\n",
       "        -68.742, -67.742, -66.742, -65.742, -64.742, -63.742, -62.742,\n",
       "        -61.742, -60.742, -59.742, -58.742, -57.742, -56.742, -55.742,\n",
       "        -54.742, -53.742, -52.742, -51.742, -50.742, -49.742, -48.742,\n",
       "        -47.742, -46.742, -45.742, -44.742, -43.742, -42.742, -41.742,\n",
       "        -40.742, -39.742, -38.742, -37.742, -36.742, -35.742, -34.742,\n",
       "        -33.742, -32.742, -31.742, -30.742, -29.742, -28.742, -27.742,\n",
       "        -26.742, -25.742, -24.742, -23.742, -22.742, -21.742, -20.742,\n",
       "        -19.742, -18.742, -17.742, -16.742, -15.742, -14.742, -13.742,\n",
       "        -12.742, -11.742, -10.742,  -9.742,  -8.742,  -7.742,  -6.742,\n",
       "         -5.742,  -4.742,  -3.742,  -2.742,  -1.742,  -0.742,   0.258,\n",
       "          1.258,   2.258,   3.258,   4.258,   5.258,   6.258,   7.258,\n",
       "          8.258,   9.258,  10.258,  11.258,  12.258,  13.258,  14.258,\n",
       "         15.258,  16.258,  17.258,  18.258,  19.258,  20.258,  21.258,\n",
       "         22.258,  23.258,  24.258,  25.258,  26.258,  27.258,  28.258,\n",
       "         29.258,  30.258,  31.258,  32.258,  33.258,  34.258,  35.258,\n",
       "         36.258,  37.258,  38.258,  39.258,  40.258,  41.258,  42.258,\n",
       "         43.258,  44.258,  45.258,  46.258,  47.258,  48.258,  49.258,\n",
       "         50.258,  51.258,  52.258,  53.258,  54.258,  55.258,  56.258,\n",
       "         57.258,  58.258,  59.258,  60.258,  61.258,  62.258,  63.258,\n",
       "         64.258,  65.258,  66.258,  67.258,  68.258,  69.258,  70.258,\n",
       "         71.258,  72.258,  73.258,  74.258,  75.258,  76.258,  77.258,\n",
       "         78.258,  79.258,  80.258,  81.258,  82.258,  83.258,  84.258,\n",
       "         85.258]),\n",
       " array([-6.99445e+01, -6.89445e+01, -6.79445e+01, -6.69445e+01,\n",
       "        -6.59445e+01, -6.49445e+01, -6.39445e+01, -6.29445e+01,\n",
       "        -6.19445e+01, -6.09445e+01, -5.99445e+01, -5.89445e+01,\n",
       "        -5.79445e+01, -5.69445e+01, -5.59445e+01, -5.49445e+01,\n",
       "        -5.39445e+01, -5.29445e+01, -5.19445e+01, -5.09445e+01,\n",
       "        -4.99445e+01, -4.89445e+01, -4.79445e+01, -4.69445e+01,\n",
       "        -4.59445e+01, -4.49445e+01, -4.39445e+01, -4.29445e+01,\n",
       "        -4.19445e+01, -4.09445e+01, -3.99445e+01, -3.89445e+01,\n",
       "        -3.79445e+01, -3.69445e+01, -3.59445e+01, -3.49445e+01,\n",
       "        -3.39445e+01, -3.29445e+01, -3.19445e+01, -3.09445e+01,\n",
       "        -2.99445e+01, -2.89445e+01, -2.79445e+01, -2.69445e+01,\n",
       "        -2.59445e+01, -2.49445e+01, -2.39445e+01, -2.29445e+01,\n",
       "        -2.19445e+01, -2.09445e+01, -1.99445e+01, -1.89445e+01,\n",
       "        -1.79445e+01, -1.69445e+01, -1.59445e+01, -1.49445e+01,\n",
       "        -1.39445e+01, -1.29445e+01, -1.19445e+01, -1.09445e+01,\n",
       "        -9.94450e+00, -8.94450e+00, -7.94450e+00, -6.94450e+00,\n",
       "        -5.94450e+00, -4.94450e+00, -3.94450e+00, -2.94450e+00,\n",
       "        -1.94450e+00, -9.44500e-01,  5.55000e-02,  1.05550e+00,\n",
       "         2.05550e+00,  3.05550e+00,  4.05550e+00,  5.05550e+00,\n",
       "         6.05550e+00,  7.05550e+00,  8.05550e+00,  9.05550e+00,\n",
       "         1.00555e+01,  1.10555e+01,  1.20555e+01,  1.30555e+01,\n",
       "         1.40555e+01,  1.50555e+01,  1.60555e+01,  1.70555e+01,\n",
       "         1.80555e+01,  1.90555e+01,  2.00555e+01,  2.10555e+01,\n",
       "         2.20555e+01,  2.30555e+01,  2.40555e+01,  2.50555e+01,\n",
       "         2.60555e+01,  2.70555e+01,  2.80555e+01,  2.90555e+01,\n",
       "         3.00555e+01,  3.10555e+01,  3.20555e+01,  3.30555e+01,\n",
       "         3.40555e+01,  3.50555e+01,  3.60555e+01,  3.70555e+01,\n",
       "         3.80555e+01,  3.90555e+01,  4.00555e+01,  4.10555e+01,\n",
       "         4.20555e+01,  4.30555e+01,  4.40555e+01,  4.50555e+01,\n",
       "         4.60555e+01,  4.70555e+01,  4.80555e+01,  4.90555e+01,\n",
       "         5.00555e+01,  5.10555e+01,  5.20555e+01,  5.30555e+01,\n",
       "         5.40555e+01,  5.50555e+01,  5.60555e+01,  5.70555e+01,\n",
       "         5.80555e+01,  5.90555e+01,  6.00555e+01,  6.10555e+01,\n",
       "         6.20555e+01,  6.30555e+01,  6.40555e+01,  6.50555e+01,\n",
       "         6.60555e+01,  6.70555e+01,  6.80555e+01,  6.90555e+01,\n",
       "         7.00555e+01,  7.10555e+01,  7.20555e+01,  7.30555e+01,\n",
       "         7.40555e+01,  7.50555e+01,  7.60555e+01,  7.70555e+01,\n",
       "         7.80555e+01,  7.90555e+01,  8.00555e+01,  8.10555e+01,\n",
       "         8.20555e+01,  8.30555e+01,  8.40555e+01,  8.50555e+01,\n",
       "         8.60555e+01,  8.70555e+01,  8.80555e+01,  8.90555e+01,\n",
       "         9.00555e+01,  9.10555e+01])]"
      ]
     },
     "execution_count": 8,
     "metadata": {},
     "output_type": "execute_result"
    }
   ],
   "source": [
    "grid.edges"
   ]
  },
  {
   "cell_type": "code",
   "execution_count": null,
   "id": "9fe2af0b",
   "metadata": {},
   "outputs": [],
   "source": []
  }
 ],
 "metadata": {
  "kernelspec": {
   "display_name": "Python 3 (ipykernel)",
   "language": "python",
   "name": "python3"
  },
  "language_info": {
   "codemirror_mode": {
    "name": "ipython",
    "version": 3
   },
   "file_extension": ".py",
   "mimetype": "text/x-python",
   "name": "python",
   "nbconvert_exporter": "python",
   "pygments_lexer": "ipython3",
   "version": "3.8.10"
  }
 },
 "nbformat": 4,
 "nbformat_minor": 5
}
