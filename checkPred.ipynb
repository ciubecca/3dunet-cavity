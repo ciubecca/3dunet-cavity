{
 "cells": [
  {
   "cell_type": "code",
   "execution_count": 1,
   "id": "b5993d23",
   "metadata": {},
   "outputs": [
    {
     "data": {
      "text/html": [
       "<style>.container { width:100% !important; }</style>"
      ],
      "text/plain": [
       "<IPython.core.display.HTML object>"
      ]
     },
     "metadata": {},
     "output_type": "display_data"
    }
   ],
   "source": [
    "from IPython.core.display import display, HTML\n",
    "display(HTML(\"<style>.container { width:100% !important; }</style>\"))\n",
    "import h5py\n",
    "from matplotlib import pyplot as plt\n",
    "import torch\n",
    "import numpy as np\n",
    "from pytorch3dunet.unet3d.losses import *\n",
    "from pytorch3dunet.unet3d.metrics import MeanIoU\n",
    "from pathlib import Path\n",
    "import glob\n",
    "import os\n",
    "\n",
    "import matplotlib\n",
    "#matplotlib.use('TkAgg')\n",
    "\n",
    "%matplotlib inline"
   ]
  },
  {
   "cell_type": "code",
   "execution_count": 2,
   "id": "a3044c20",
   "metadata": {},
   "outputs": [],
   "source": [
    "class DiceProbLoss(DiceLoss):\n",
    "    def __init__(self):\n",
    "        super(DiceProbLoss, self).__init__(normalization='none')\n",
    "\n",
    "class MeanIoUBin(MeanIoU):\n",
    "    def __init__(self):\n",
    "        super(MeanIoUBin, self).__init__(is_binarized=True)\n",
    "\n",
    "class BCEDiceBinLoss(nn.Module):\n",
    "    \"\"\"Linear combination of BCE and Dice losses\"\"\"\n",
    "\n",
    "    def __init__(self, alpha, beta):\n",
    "        super(BCEDiceBinLoss, self).__init__()\n",
    "        self.alpha = alpha\n",
    "        self.bce = nn.BCELoss()\n",
    "        self.beta = beta\n",
    "        self.dice = DiceBinLoss()\n",
    "\n",
    "    def forward(self, input, target):\n",
    "        return self.alpha * self.bce(input, target) + self.beta * self.dice(input, target)\n",
    "\n",
    "\n",
    "initLosses = {\n",
    "    \"BCE\": nn.BCELoss,\n",
    "    \"Dice\": DiceProbLoss,\n",
    "    \"MeanIoU\": MeanIoU\n",
    "}"
   ]
  },
  {
   "cell_type": "code",
   "execution_count": 25,
   "id": "c39aee96",
   "metadata": {},
   "outputs": [],
   "source": [
    "basepred = Path('/home/lorenzo/3dunet-cavity/runs/run_210623_gpu/predictions')\n",
    "baseorig = Path('/home/lorenzo/deep_apbs/destData/refined-set_filter')\n",
    "\n",
    "def genDataSets():\n",
    "\n",
    "    for predfname in glob.glob(str(basepred / '*_grids_predictions.h5')):\n",
    "        name = Path(predfname).name.split('_')[0]\n",
    "        labelfname = baseorig / name / f'{name}_grids.h5'\n",
    "        \n",
    "        if not os.path.exists(labelfname):\n",
    "            print(f'{labelfname} does not exist.')\n",
    "            continue\n",
    "        \n",
    "        labelT = torch.tensor(h5py.File(labelfname)['label'], dtype=torch.float32)\n",
    "        labelT = labelT[None,None]\n",
    "        predT = torch.tensor(h5py.File(predfname)['predictions'])\n",
    "        predT = predT[None]\n",
    "        \n",
    "        yield name, (predT, labelT)"
   ]
  },
  {
   "cell_type": "code",
   "execution_count": 26,
   "id": "165154cf",
   "metadata": {},
   "outputs": [],
   "source": [
    "class RunningAverage:\n",
    "    def __init__(self, loss):\n",
    "        self.count = 0\n",
    "        self.sum = 0\n",
    "        self.loss = loss\n",
    "        self.losses = {}\n",
    "\n",
    "    def update(self, pred, label, name):\n",
    "        self.count += 1\n",
    "        loss = self.loss(pred, label).item()\n",
    "        self.sum += loss\n",
    "        self.losses[name] = loss\n",
    "\n",
    "    def value(self):\n",
    "        return self.sum / self.count\n",
    "    \n",
    "class AverageLosses:\n",
    "    def __init__(self, losses, kwargs=None):\n",
    "        if kwargs is None:\n",
    "            kwargs = {name:{} for name in losses.keys()}\n",
    "        self.losses = {name: RunningAverage(loss(**kwargs[name])) for name,loss in losses.items()}\n",
    "\n",
    "    def update(self, pred, label, prot):\n",
    "        for name in self.losses.keys():\n",
    "            self.losses[name].update(pred,label, prot)\n",
    "        \n",
    "    def value(self):\n",
    "        return {name: loss.value() for name,loss in self.losses.items()}"
   ]
  },
  {
   "cell_type": "code",
   "execution_count": 27,
   "id": "6c321247",
   "metadata": {},
   "outputs": [
    {
     "name": "stdout",
     "output_type": "stream",
     "text": [
      "/home/lorenzo/deep_apbs/destData/refined-set_filter/1oba/1oba_grids.h5 does not exist.\n",
      "/home/lorenzo/deep_apbs/destData/refined-set_filter/2epn/2epn_grids.h5 does not exist.\n",
      "/home/lorenzo/deep_apbs/destData/refined-set_filter/1tkb/1tkb_grids.h5 does not exist.\n",
      "/home/lorenzo/deep_apbs/destData/refined-set_filter/1rnt/1rnt_grids.h5 does not exist.\n",
      "/home/lorenzo/deep_apbs/destData/refined-set_filter/2h21/2h21_grids.h5 does not exist.\n",
      "/home/lorenzo/deep_apbs/destData/refined-set_filter/2am4/2am4_grids.h5 does not exist.\n",
      "/home/lorenzo/deep_apbs/destData/refined-set_filter/1x8d/1x8d_grids.h5 does not exist.\n",
      "/home/lorenzo/deep_apbs/destData/refined-set_filter/2euk/2euk_grids.h5 does not exist.\n",
      "/home/lorenzo/deep_apbs/destData/refined-set_filter/1lnm/1lnm_grids.h5 does not exist.\n",
      "/home/lorenzo/deep_apbs/destData/refined-set_filter/1o1s/1o1s_grids.h5 does not exist.\n",
      "/home/lorenzo/deep_apbs/destData/refined-set_filter/1r9l/1r9l_grids.h5 does not exist.\n",
      "/home/lorenzo/deep_apbs/destData/refined-set_filter/1o5e/1o5e_grids.h5 does not exist.\n",
      "/home/lorenzo/deep_apbs/destData/refined-set_filter/1pgp/1pgp_grids.h5 does not exist.\n",
      "/home/lorenzo/deep_apbs/destData/refined-set_filter/1f74/1f74_grids.h5 does not exist.\n",
      "/home/lorenzo/deep_apbs/destData/refined-set_filter/1wn6/1wn6_grids.h5 does not exist.\n",
      "/home/lorenzo/deep_apbs/destData/refined-set_filter/1ua4/1ua4_grids.h5 does not exist.\n",
      "/home/lorenzo/deep_apbs/destData/refined-set_filter/1kyv/1kyv_grids.h5 does not exist.\n",
      "/home/lorenzo/deep_apbs/destData/refined-set_filter/1h2k/1h2k_grids.h5 does not exist.\n",
      "/home/lorenzo/deep_apbs/destData/refined-set_filter/1g30/1g30_grids.h5 does not exist.\n",
      "/home/lorenzo/deep_apbs/destData/refined-set_filter/1l83/1l83_grids.h5 does not exist.\n",
      "/home/lorenzo/deep_apbs/destData/refined-set_filter/2fxv/2fxv_grids.h5 does not exist.\n",
      "/home/lorenzo/deep_apbs/destData/refined-set_filter/2gyi/2gyi_grids.h5 does not exist.\n",
      "/home/lorenzo/deep_apbs/destData/refined-set_filter/1n4k/1n4k_grids.h5 does not exist.\n",
      "/home/lorenzo/deep_apbs/destData/refined-set_filter/2ews/2ews_grids.h5 does not exist.\n",
      "/home/lorenzo/deep_apbs/destData/refined-set_filter/2e2p/2e2p_grids.h5 does not exist.\n",
      "/home/lorenzo/deep_apbs/destData/refined-set_filter/2gsu/2gsu_grids.h5 does not exist.\n",
      "/home/lorenzo/deep_apbs/destData/refined-set_filter/1wuq/1wuq_grids.h5 does not exist.\n",
      "/home/lorenzo/deep_apbs/destData/refined-set_filter/2d0k/2d0k_grids.h5 does not exist.\n",
      "/home/lorenzo/deep_apbs/destData/refined-set_filter/1moq/1moq_grids.h5 does not exist.\n",
      "/home/lorenzo/deep_apbs/destData/refined-set_filter/1qaw/1qaw_grids.h5 does not exist.\n",
      "/home/lorenzo/deep_apbs/destData/refined-set_filter/1wc1/1wc1_grids.h5 does not exist.\n"
     ]
    }
   ],
   "source": [
    "OracleLoss = AverageLosses(initLosses)\n",
    "UnetLoss = AverageLosses(initLosses)\n",
    "RandLoss = AverageLosses(initLosses)\n",
    "RandUnitLoss = AverageLosses(initLosses)\n",
    "ZeroLoss = AverageLosses(initLosses)\n",
    "UnitLoss = AverageLosses(initLosses)\n",
    "\n",
    "for name, (predT, labelT) in genDataSets():\n",
    "    constPred = torch.zeros_like(labelT)\n",
    "    ZeroLoss.update(constPred, labelT, name)\n",
    "\n",
    "    constPred[:] = 1\n",
    "    UnitLoss.update(constPred, labelT, name)\n",
    "\n",
    "    UnetLoss.update(predT, labelT, name)\n",
    "\n",
    "    OracleLoss.update(labelT, labelT, name)\n",
    "\n",
    "    randPred = torch.rand(size=constPred.size(), dtype=constPred.dtype, device=constPred.device, requires_grad=False)\n",
    "    RandLoss.update(randPred, labelT, name)\n",
    "    \n",
    "    randPred[randPred < 0.5] = 0\n",
    "    randPred[randPred > 0.5] = 1\n",
    "    RandUnitLoss.update(randPred, labelT, name)"
   ]
  },
  {
   "cell_type": "code",
   "execution_count": 28,
   "id": "31a435d3",
   "metadata": {},
   "outputs": [
    {
     "data": {
      "text/plain": [
       "({'BCE': 49.99950144841121,\n",
       "  'Dice': 0.997966271180373,\n",
       "  'MeanIoU': 0.0010180229527087738},\n",
       " {'BCE': 0.9999702343573937,\n",
       "  'Dice': 0.9969496108018435,\n",
       "  'MeanIoU': 0.0010180229527087738},\n",
       " {'BCE': 99.89769275371845,\n",
       "  'Dice': 0.997956259892537,\n",
       "  'MeanIoU': 0.001023037529263932},\n",
       " {'BCE': 0.1023037525323721, 'Dice': 1.0, 'MeanIoU': 0.0},\n",
       " {'BCE': 0.0, 'Dice': 0.0, 'MeanIoU': 1.0})"
      ]
     },
     "execution_count": 28,
     "metadata": {},
     "output_type": "execute_result"
    }
   ],
   "source": [
    "RandUnitLoss.value(), RandLoss.value(), UnitLoss.value(), ZeroLoss.value(),OracleLoss.value()"
   ]
  },
  {
   "cell_type": "code",
   "execution_count": 32,
   "id": "c20fc60b",
   "metadata": {},
   "outputs": [
    {
     "data": {
      "text/plain": [
       "{'1sw2': 0.4645071029663086,\n",
       " '1fiv': 0.6156509518623352,\n",
       " '1a4r': 0.17319780588150024,\n",
       " '4gbd': 0.6333988904953003,\n",
       " '5g1z': 0.12134632468223572,\n",
       " '5gja': 0.3489736020565033,\n",
       " '2fqt': 0.29123446345329285,\n",
       " '4r75': 0.567950963973999,\n",
       " '4non': 0.15870153903961182,\n",
       " '3fjg': 0.5126749873161316,\n",
       " '3s0e': 0.493194043636322,\n",
       " '1dy4': 0.5372849106788635,\n",
       " '1dqn': 0.2584525942802429,\n",
       " '1m48': 0.027618248015642166,\n",
       " '5yz2': 0.20882698893547058,\n",
       " '4fxp': 0.48952972888946533,\n",
       " '5mxf': 0.0,\n",
       " '1ctt': 0.0,\n",
       " '1ceb': 0.2004687339067459,\n",
       " '5km9': 0.18358531594276428,\n",
       " '2dw7': 0.008737157098948956,\n",
       " '1t7d': 0.22022944688796997,\n",
       " '5tcj': 0.03971793130040169,\n",
       " '5vij': 0.4260115623474121,\n",
       " '4jwk': 0.23512376844882965,\n",
       " '5tuz': 0.09520634263753891}"
      ]
     },
     "execution_count": 32,
     "metadata": {},
     "output_type": "execute_result"
    }
   ],
   "source": [
    "UnetLoss.losses['MeanIoU'].losses"
   ]
  },
  {
   "cell_type": "code",
   "execution_count": null,
   "id": "498b7e0c",
   "metadata": {},
   "outputs": [],
   "source": [
    "thress = np.linspace(0.1,1.0,10)\n",
    "\n",
    "kwargs = {f\"MeanIoU_{thres}\": {'thres':thres} for thres in thress}\n",
    "initLosses = {f\"MeanIoU_{thres}\": MeanIoU for thres in thress}\n",
    "\n",
    "UnetLosses = AverageLosses(initLosses, kwargs)\n",
    "\n",
    "for name, (predT, labelT) in genDataSets():\n",
    "    UnetLosses.update(predT, labelT, name)"
   ]
  },
  {
   "cell_type": "code",
   "execution_count": null,
   "id": "c5d415ff",
   "metadata": {},
   "outputs": [],
   "source": [
    "UnetLosses.losses['MeanIoU'].losses"
   ]
  },
  {
   "cell_type": "markdown",
   "id": "aa9df97d",
   "metadata": {},
   "source": [
    "## Pdb scores"
   ]
  },
  {
   "cell_type": "code",
   "execution_count": 3,
   "id": "8070cbb6",
   "metadata": {},
   "outputs": [],
   "source": [
    "import h5py\n",
    "import numpy as np\n",
    "import prody\n",
    "import prody as pr\n",
    "import os\n",
    "from potsim2 import PotGrid\n",
    "import sklearn\n",
    "from sklearn.metrics import matthews_corrcoef as mcc \n",
    "from sklearn.metrics import f1_score\n",
    "\n",
    "predbase = f'/home/lorenzo/3dunet-cavity/runs/run_210720_gpu'\n",
    "predbaseKala = '/home/lorenzo/kalasanty/predictions_210723'\n",
    "\n",
    "datadir = '/home/lorenzo/deep_apbs/destData/refined-set_filter_1'"
   ]
  },
  {
   "cell_type": "code",
   "execution_count": 4,
   "id": "f7f66102",
   "metadata": {},
   "outputs": [],
   "source": [
    "def yieldDataTheirs():\n",
    "\n",
    "    for fname in os.listdir(predbaseKala):\n",
    "        name = fname.split('_')[0]\n",
    "\n",
    "        predfname = f'{predbaseKala}/{name}_predictions.pdb'\n",
    "        pdbfname = f'{datadir}/{name}/{name}_selected.pdb'\n",
    "        pocketfname = f'{datadir}/{name}/{name}_pocket.pdb'\n",
    "\n",
    "        structure = prody.parsePDB(pdbfname)\n",
    "        pred = prody.parsePDB(predfname)\n",
    "        pocket = prody.parsePDB(pocketfname)\n",
    "        \n",
    "        yield name, (structure, pred, pocket)\n",
    "\n",
    "def yieldDataMine():\n",
    "\n",
    "    for fname in os.listdir(f'{predbase}/predictions'):\n",
    "        name = fname.split('_')[0]\n",
    "\n",
    "        predfname = f'{predbase}/predictions/{name}_predictions.pdb'\n",
    "        pdbfname = f'{datadir}/{name}/{name}_selected.pdb'\n",
    "        pocketfname = f'{datadir}/{name}/{name}_pocket.pdb'\n",
    "\n",
    "        structure = prody.parsePDB(pdbfname)\n",
    "        pred = prody.parsePDB(predfname)\n",
    "        pocket = prody.parsePDB(pocketfname)\n",
    "        \n",
    "        yield name, (structure, pred, pocket)\n",
    "\n",
    "        \n",
    "def calcMetric(pred, pocket, structure, scoref):\n",
    "    prednums = set(t.getResnum() for t in pred.iterResidues())\n",
    "    truenums = set(t.getResnum() for t in pocket.iterResidues())\n",
    "    allnums = set(t.getResnum() for t in structure.iterResidues())\n",
    "\n",
    "    tp = 0\n",
    "    tn = 0\n",
    "    fp = 0\n",
    "    fn = 0\n",
    "\n",
    "    y_true = []\n",
    "    y_pred = []\n",
    "\n",
    "    for num in allnums:\n",
    "        if num not in prednums and num not in truenums:\n",
    "            tn += 1\n",
    "            y_pred.append(-1)\n",
    "            y_true.append(-1)\n",
    "        elif num not in prednums and num in truenums:\n",
    "            fn += 1\n",
    "            y_pred.append(-1)\n",
    "            y_true.append(1)\n",
    "        elif num in prednums and num not in truenums:\n",
    "            fp += 1\n",
    "            y_pred.append(1)\n",
    "            y_true.append(-1)\n",
    "        elif num in prednums and num in truenums:\n",
    "            tp += 1\n",
    "            y_pred.append(1)\n",
    "            y_true.append(1)\n",
    "        else:\n",
    "            raise Exception\n",
    "\n",
    "    return scoref(y_true, y_pred)"
   ]
  },
  {
   "cell_type": "code",
   "execution_count": 5,
   "id": "a7bc4251",
   "metadata": {},
   "outputs": [],
   "source": [
    "def scoresFromGen(gen):\n",
    "    names = [] \n",
    "    mcc_scores = []\n",
    "    f_scores = []\n",
    "    for name, (structure, pred, pocket) in gen():\n",
    "        yield name, (calcMetric(pred, pocket, structure, f1_score), calcMetric(pred, pocket, structure, mcc))"
   ]
  },
  {
   "cell_type": "code",
   "execution_count": 6,
   "id": "ec3fc141",
   "metadata": {},
   "outputs": [],
   "source": [
    "resTheirs = list(scoresFromGen(yieldDataTheirs))"
   ]
  },
  {
   "cell_type": "code",
   "execution_count": 7,
   "id": "c4568054",
   "metadata": {},
   "outputs": [],
   "source": [
    "resOurs = list(scoresFromGen(yieldDataMine))"
   ]
  },
  {
   "cell_type": "code",
   "execution_count": 8,
   "id": "71ad5b69",
   "metadata": {},
   "outputs": [
    {
     "data": {
      "text/plain": [
       "array([0.47458644, 0.4496932 ])"
      ]
     },
     "execution_count": 8,
     "metadata": {},
     "output_type": "execute_result"
    }
   ],
   "source": [
    "np.array([list(r[1]) for r in resTheirs]).mean(axis=0)"
   ]
  },
  {
   "cell_type": "code",
   "execution_count": 9,
   "id": "bf4b34fa",
   "metadata": {},
   "outputs": [
    {
     "data": {
      "text/plain": [
       "array([0.39136112, 0.37283942])"
      ]
     },
     "execution_count": 9,
     "metadata": {},
     "output_type": "execute_result"
    }
   ],
   "source": [
    "np.array([list(r[1]) for r in resOurs]).mean(axis=0)"
   ]
  },
  {
   "cell_type": "code",
   "execution_count": 10,
   "id": "1b9175f5",
   "metadata": {},
   "outputs": [],
   "source": [
    "def mergeDict(d1, d2):\n",
    "    keys = set(d1.keys()) | set(d2.keys())\n",
    "    return {key:(d1.get(key),d2.get(key)) for key in keys}"
   ]
  },
  {
   "cell_type": "code",
   "execution_count": 11,
   "id": "9f79c8a3",
   "metadata": {},
   "outputs": [
    {
     "data": {
      "text/plain": [
       "{'5wxh': (0.3333333333333333, None),\n",
       " '3b4p': (0.6060606060606061, 0.10000000000000002),\n",
       " '4pzv': (0.2156862745098039, 0.0),\n",
       " '5kly': (0.7333333333333334, 0.7619047619047621),\n",
       " '3hmp': (0.3466666666666666, 0.4680851063829787),\n",
       " '3wto': (0.22222222222222224, 0.14285714285714285),\n",
       " '5t7s': (0.23333333333333336, 0.5925925925925927),\n",
       " '1m48': (0.0, 0.08333333333333333),\n",
       " '5fnu': (0.65625, 0.5),\n",
       " '5vij': (0.46341463414634143, 0.7894736842105263),\n",
       " '1ctt': (0.6216216216216216, 0.0),\n",
       " '2gsu': (0.45945945945945943, 0.634920634920635),\n",
       " '2zx7': (0.56, 0.7346938775510204),\n",
       " '4rd6': (0.0, None),\n",
       " '2vzr': (0.4444444444444445, 0.7407407407407407),\n",
       " '2vc9': (0.5633802816901409, 0.0),\n",
       " '3t1a': (0.0, None),\n",
       " '2dw7': (0.13793103448275865, 0.06060606060606061),\n",
       " '1oba': (0.0, 0.0),\n",
       " '4bcn': (0.5217391304347826, 0.7499999999999999),\n",
       " '2d0k': (0.625, 0.6),\n",
       " '2gyi': (0.45714285714285713, 0.588235294117647),\n",
       " '3rm9': (0.47761194029850745, 0.48484848484848486),\n",
       " '3o9p': (0.6444444444444445, 0.6736842105263158),\n",
       " '5vi6': (0.08, 0.19354838709677416),\n",
       " '1a4r': (0.0, 0.6666666666666667),\n",
       " '4b8y': (0.2380952380952381, 0.21052631578947364),\n",
       " '2wca': (0.5333333333333333, 0.7346938775510204),\n",
       " '1n4k': (0.43636363636363634, 0.3448275862068966),\n",
       " '3ocz': (0.5, 0.5217391304347825),\n",
       " '3kr4': (0.4807692307692308, 0.7906976744186047),\n",
       " '3fur': (0.5365853658536586, 0.55),\n",
       " '3sw8': (0.5, 0.8333333333333334),\n",
       " '4da5': (0.5074626865671642, 0.21428571428571427),\n",
       " '1x8d': (0.53125, 0.6799999999999999),\n",
       " '2pv1': (0.34782608695652173, None),\n",
       " '4jwk': (0.29850746268656714, 0.4827586206896552),\n",
       " '6mjf': (0.4675324675324675, 0.3870967741935484),\n",
       " '1kyv': (0.6111111111111112, 0.8076923076923077),\n",
       " '4non': (0.02985074626865672, 0.0),\n",
       " '2yfx': (0.2711864406779661, 0.5106382978723405),\n",
       " '3arx': (0.21621621621621623, 0.43749999999999994),\n",
       " '4jal': (0.6075949367088608, 0.8095238095238096),\n",
       " '1qaw': (0.7017543859649122, 0.8181818181818182),\n",
       " '4axd': (0.2571428571428571, 0.6885245901639344),\n",
       " '2jfz': (0.23376623376623376, 0.0),\n",
       " '5ovp': (0.12903225806451613, None),\n",
       " '6evn': (0.2068965517241379, 0.5),\n",
       " '4mo4': (0.06557377049180328, 0.12121212121212122),\n",
       " '6gzd': (0.4473684210526316, 0.8095238095238095),\n",
       " '5sym': (0.4242424242424242, 0.0),\n",
       " '1o5e': (0.6086956521739131, 0.761904761904762),\n",
       " '2i80': (0.28571428571428575, 0.5373134328358209),\n",
       " '1wn6': (0.5357142857142857, 0.8717948717948718),\n",
       " '5ovx': (0.32142857142857145, 0.0),\n",
       " '3p2e': (0.2608695652173913, 0.0),\n",
       " '5d6j': (0.45833333333333337, 0.6551724137931034),\n",
       " '5ldp': (0.4528301886792453, 0.0),\n",
       " '4c2v': (0.4367816091954023, 0.14814814814814817),\n",
       " '3acl': (0.5185185185185185, 0.6666666666666667),\n",
       " '5kh3': (0.34375000000000006, 0.8),\n",
       " '1dy4': (0.5365853658536585, 0.04878048780487805),\n",
       " '5yhe': (0.5172413793103449, 0.05405405405405406),\n",
       " '5d0r': (0.3934426229508197, 0.0),\n",
       " '4ge1': (0.5454545454545454, 0.6),\n",
       " '4xu1': (0.31683168316831684, 0.36111111111111116),\n",
       " '5h1u': (0.0, 0.5714285714285713),\n",
       " '5mn1': (0.09999999999999999, 0.6538461538461539),\n",
       " '2fqt': (0.647887323943662, 0.7666666666666667),\n",
       " '5uk8': (0.09090909090909091, 0.0),\n",
       " '5km9': (0.5666666666666667, 0.8888888888888888),\n",
       " '1fiv': (0.3684210526315789, None),\n",
       " '2q8h': (0.24242424242424243, 0.6923076923076923),\n",
       " '5yas': (0.45945945945945943, 0.7906976744186047),\n",
       " '5ct2': (0.23880597014925373, 0.0),\n",
       " '1moq': (0.126984126984127, 0.8372093023255814),\n",
       " '2x6x': (0.4864864864864865, 0.6551724137931034),\n",
       " '5hcv': (0.49411764705882355, 0.049999999999999996),\n",
       " '1rnt': (0.6666666666666666, 0.07407407407407407),\n",
       " '1wc1': (0.6666666666666665, 0.76),\n",
       " '2am4': (0.5263157894736843, 0.0),\n",
       " '4gzx': (0.6052631578947368, 0.0),\n",
       " '4b73': (0.08888888888888888, None),\n",
       " '4hws': (0.6, 0.7666666666666666),\n",
       " '5hct': (0.4, 0.7999999999999999),\n",
       " '3uj9': (0.3614457831325301, 0.4523809523809524),\n",
       " '2wjg': (0.42622950819672134, 0.26666666666666666),\n",
       " '5yz2': (0.5581395348837209, 0.21052631578947367),\n",
       " '3oy8': (0.2898550724637681, 0.5806451612903225),\n",
       " '5oa2': (0.14814814814814814, 0.5714285714285715),\n",
       " '2jjb': (0.6024096385542169, 0.7575757575757575),\n",
       " '1lnm': (0.5135135135135135, 0.0),\n",
       " '2vb8': (0.46341463414634154, 0.7692307692307692),\n",
       " '5hbn': (0.17241379310344826, 0.0),\n",
       " '1o1s': (0.6585365853658536, 0.0),\n",
       " '5v79': (0.46808510638297873, 0.6545454545454545),\n",
       " '4bc5': (0.2758620689655173, 0.7499999999999999),\n",
       " '2e2p': (0.25, 0.1724137931034483),\n",
       " '6ayi': (0.4927536231884058, 0.8636363636363636),\n",
       " '2epn': (0.4923076923076923, None),\n",
       " '4l9i': (0.5970149253731344, None),\n",
       " '1pgp': (0.4578313253012049, None),\n",
       " '3axz': (0.45238095238095233, 0.7200000000000001),\n",
       " '6cfc': (0.626865671641791, 0.0),\n",
       " '3rlr': (0.4938271604938272, 0.6666666666666665),\n",
       " '4trc': (0.36734693877551017, 0.3870967741935484),\n",
       " '1ua4': (0.25, 0.0),\n",
       " '5ewk': (0.6, 0.6976744186046512),\n",
       " '3tb6': (0.42424242424242425, 0.5090909090909091),\n",
       " '3x00': (0.5666666666666667, 0.7222222222222222),\n",
       " '5n1z': (0.07547169811320754, 0.0),\n",
       " '2v54': (0.5428571428571428, 0.6557377049180327),\n",
       " '1h2k': (0.37647058823529417, 0.7272727272727273),\n",
       " '2q8m': (0.25806451612903225, 0.6666666666666667),\n",
       " '3ikg': (0.6666666666666666, 0.0),\n",
       " '4b3b': (0.0, 0.0),\n",
       " '5tcj': (0.0963855421686747, 0.4347826086956522),\n",
       " '5wbm': (0.2894736842105263, 0.29629629629629634),\n",
       " '5hwv': (0.4307692307692308, 0.967741935483871),\n",
       " '5e6o': (0.34920634920634924, 0.6666666666666665),\n",
       " '4z2b': (0.5507246376811594, 0.5957446808510638),\n",
       " '2yhw': (0.030303030303030304, 0.75),\n",
       " '3fjg': (0.38297872340425526, 0.631578947368421),\n",
       " '1l83': (0.08, 0.04347826086956522),\n",
       " '4nnr': (0.6274509803921569, 0.742857142857143),\n",
       " '2vmc': (0.0, 0.0),\n",
       " '4o6w': (0.10714285714285714, 0.10526315789473685),\n",
       " '5mxf': (0.0, 0.0),\n",
       " '2fxv': (0.5915492957746479, 0.7017543859649122),\n",
       " '1sw2': (0.30303030303030304, 0.7058823529411765),\n",
       " '5g1z': (0.28888888888888886, 0.0),\n",
       " '3w9k': (0.4222222222222222, 0.8292682926829269),\n",
       " '1g30': (0.6562500000000001, 0.0),\n",
       " '2jdu': (0.08333333333333333, None),\n",
       " '4r75': (0.5591397849462366, 0.04878048780487805),\n",
       " '5ko1': (0.47368421052631576, 0.75),\n",
       " '5f0f': (0.49411764705882355, 0.7547169811320755),\n",
       " '5kbe': (0.1724137931034483, 0.10256410256410255),\n",
       " '5vd2': (0.17857142857142858, 0.5185185185185185),\n",
       " '4aia': (0.35294117647058826, 0.5),\n",
       " '3aaq': (0.47368421052631576, 0.5423728813559322),\n",
       " '3ta0': (0.6666666666666667, 0.7857142857142856),\n",
       " '4dkp': (0.29310344827586204, 0.8000000000000002),\n",
       " '1t7d': (0.21052631578947367, 0.48780487804878053),\n",
       " '4g0y': (0.35, 0.64),\n",
       " '4pqa': (0.5573770491803279, 0.7647058823529412),\n",
       " '2rk8': (0.30952380952380953, 0.5531914893617021),\n",
       " '3v2n': (0.18750000000000003, 0.4347826086956522),\n",
       " '4kif': (0.42857142857142855, 0.5490196078431373),\n",
       " '5ouh': (0.2619047619047619, 0.05714285714285714),\n",
       " '4h85': (0.3611111111111111, 0.0),\n",
       " '3h8b': (0.2553191489361702, 0.6785714285714286),\n",
       " '4pf5': (0.13186813186813187, None),\n",
       " '2pqb': (0.5800000000000001, 0.8000000000000002),\n",
       " '1r9l': (0.38095238095238093, 0.7567567567567568),\n",
       " '4tte': (0.5652173913043478, 0.7586206896551724),\n",
       " '3s0e': (0.5, 0.7555555555555556),\n",
       " '2h21': (0.5185185185185185, 0.6666666666666665),\n",
       " '4d1j': (0.4745762711864407, 0.9032258064516129),\n",
       " '5x62': (0.6666666666666666, 0.7540983606557377),\n",
       " '1ceb': (0.35294117647058826, 0.8571428571428571),\n",
       " '5fol': (0.37037037037037035, 0.7499999999999999),\n",
       " '4eb8': (0.525, 0.8333333333333333),\n",
       " '4qrh': (0.6206896551724138, 0.6274509803921569),\n",
       " '4loo': (0.5238095238095238, 0.6666666666666667),\n",
       " '4gbd': (0.6436781609195402, 0.8474576271186439),\n",
       " '5g1a': (0.46875, 0.6666666666666667),\n",
       " '6exi': (0.47191011235955055, 0.5846153846153845),\n",
       " '4q3t': (0.3917525773195876, 0.8571428571428572),\n",
       " '5uxf': (0.5070422535211268, 0.0),\n",
       " '4qdk': (0.6987951807228916, 0.5882352941176471),\n",
       " '5ayt': (0.5714285714285715, 0.8695652173913043),\n",
       " '3m3c': (0.16438356164383564, 0.6875),\n",
       " '4ipj': (0.430379746835443, 0.6296296296296297),\n",
       " '1tkb': (0.5882352941176471, 0.7924528301886793),\n",
       " '2w9h': (0.5365853658536585, 0.711864406779661),\n",
       " '5tuz': (0.1095890410958904, 0.0),\n",
       " '4ieh': (0.5846153846153846, 0.9019607843137256),\n",
       " '5tcy': (0.3880597014925373, 0.34782608695652173),\n",
       " '4e67': (0.0, None),\n",
       " '2euk': (0.6446280991735537, 0.8),\n",
       " '3zll': (0.0, 0.0),\n",
       " '4keq': (0.41791044776119407, 0.6222222222222222),\n",
       " '5gja': (0.5245901639344263, 0.6274509803921569),\n",
       " '2vk6': (0.5866666666666668, 0.0),\n",
       " '5dnu': (0.3888888888888889, 0.717948717948718),\n",
       " '5hjq': (0.3235294117647059, 0.0),\n",
       " '4cl6': (0.411764705882353, 0.912280701754386),\n",
       " '4q19': (0.5633802816901409, 0.6984126984126985),\n",
       " '4jpy': (0.0967741935483871, 0.6363636363636364),\n",
       " '5ei3': (0.392156862745098, 0.0),\n",
       " '5ey0': (0.31578947368421056, 0.0),\n",
       " '2q89': (0.33707865168539325, 0.7692307692307693),\n",
       " '5er2': (0.4033613445378151, 0.8648648648648649),\n",
       " '3nyd': (0.43137254901960786, 0.5098039215686275),\n",
       " '1wuq': (0.627906976744186, 0.05405405405405406),\n",
       " '1dqn': (0.5066666666666666, 0.6818181818181819),\n",
       " '6hh3': (0.676056338028169, 0.0),\n",
       " '4fxp': (0.5352112676056338, 0.7391304347826088),\n",
       " '6g35': (0.29850746268656714, 0.6666666666666666),\n",
       " '1f74': (0.4722222222222222, 0.0),\n",
       " '5fsx': (0.47619047619047616, 0.0),\n",
       " '3e5a': (0.29885057471264365, 0.75),\n",
       " '5dxt': (0.050632911392405056, 0.0),\n",
       " '4ezx': (0.05128205128205127, 0.0),\n",
       " '5laq': (0.5070422535211268, 0.6129032258064516),\n",
       " '5b25': (0.4571428571428571, 0.48275862068965525),\n",
       " '5f8y': (0.11111111111111112, None),\n",
       " '4pft': (0.29545454545454547, 0.42105263157894735),\n",
       " '2ews': (0.4693877551020408, 0.5263157894736842),\n",
       " '4pb2': (0.4444444444444445, 0.9142857142857143)}"
      ]
     },
     "execution_count": 11,
     "metadata": {},
     "output_type": "execute_result"
    }
   ],
   "source": [
    "dictOurs = {x[0]: x[1][0] for x in resOurs}\n",
    "dictTheirs = {x[0]: x[1][0] for x in resTheirs}\n",
    "d2 = mergeDict(dictOurs, dictTheirs)\n",
    "\n",
    "d2"
   ]
  },
  {
   "cell_type": "code",
   "execution_count": 13,
   "id": "30aa4900",
   "metadata": {},
   "outputs": [
    {
     "data": {
      "text/plain": [
       "array([0.40322958, 0.47458644])"
      ]
     },
     "execution_count": 13,
     "metadata": {},
     "output_type": "execute_result"
    }
   ],
   "source": [
    "d3 = {k : v for k,v in d2.items() if v[0] is not None and v[1] is not None}\n",
    "d4 = np.array([list(v) for v in d3.values()])\n",
    "\n",
    "d4.mean(axis=0)"
   ]
  },
  {
   "cell_type": "code",
   "execution_count": 27,
   "id": "57fc60ed",
   "metadata": {},
   "outputs": [
    {
     "data": {
      "text/plain": [
       "0.1839451691877432"
      ]
     },
     "execution_count": 27,
     "metadata": {},
     "output_type": "execute_result"
    }
   ],
   "source": [
    "d4[:,0].std()"
   ]
  },
  {
   "cell_type": "code",
   "execution_count": 28,
   "id": "12986042",
   "metadata": {},
   "outputs": [
    {
     "data": {
      "text/plain": [
       "0.31767485863589817"
      ]
     },
     "execution_count": 28,
     "metadata": {},
     "output_type": "execute_result"
    }
   ],
   "source": [
    "d4[:,1].std()"
   ]
  },
  {
   "cell_type": "code",
   "execution_count": 24,
   "id": "ffc302a9",
   "metadata": {},
   "outputs": [
    {
     "data": {
      "text/plain": [
       "(-0.07135685487063302, 0.3125327462276734)"
      ]
     },
     "execution_count": 24,
     "metadata": {},
     "output_type": "execute_result"
    }
   ],
   "source": [
    "(d4[:,0]-d4[:,1]).mean(), (d4[:,0]-d4[:,1]).std()"
   ]
  },
  {
   "cell_type": "code",
   "execution_count": 14,
   "id": "c9d59f53",
   "metadata": {},
   "outputs": [
    {
     "data": {
      "text/plain": [
       "{'3b4p': (0.6060606060606061, 0.10000000000000002),\n",
       " '4pzv': (0.2156862745098039, 0.0),\n",
       " '5kly': (0.7333333333333334, 0.7619047619047621),\n",
       " '3hmp': (0.3466666666666666, 0.4680851063829787),\n",
       " '3wto': (0.22222222222222224, 0.14285714285714285),\n",
       " '5t7s': (0.23333333333333336, 0.5925925925925927),\n",
       " '1m48': (0.0, 0.08333333333333333),\n",
       " '5fnu': (0.65625, 0.5),\n",
       " '5vij': (0.46341463414634143, 0.7894736842105263),\n",
       " '1ctt': (0.6216216216216216, 0.0),\n",
       " '2gsu': (0.45945945945945943, 0.634920634920635),\n",
       " '2zx7': (0.56, 0.7346938775510204),\n",
       " '2vzr': (0.4444444444444445, 0.7407407407407407),\n",
       " '2vc9': (0.5633802816901409, 0.0),\n",
       " '2dw7': (0.13793103448275865, 0.06060606060606061),\n",
       " '1oba': (0.0, 0.0),\n",
       " '4bcn': (0.5217391304347826, 0.7499999999999999),\n",
       " '2d0k': (0.625, 0.6),\n",
       " '2gyi': (0.45714285714285713, 0.588235294117647),\n",
       " '3rm9': (0.47761194029850745, 0.48484848484848486),\n",
       " '3o9p': (0.6444444444444445, 0.6736842105263158),\n",
       " '5vi6': (0.08, 0.19354838709677416),\n",
       " '1a4r': (0.0, 0.6666666666666667),\n",
       " '4b8y': (0.2380952380952381, 0.21052631578947364),\n",
       " '2wca': (0.5333333333333333, 0.7346938775510204),\n",
       " '1n4k': (0.43636363636363634, 0.3448275862068966),\n",
       " '3ocz': (0.5, 0.5217391304347825),\n",
       " '3kr4': (0.4807692307692308, 0.7906976744186047),\n",
       " '3fur': (0.5365853658536586, 0.55),\n",
       " '3sw8': (0.5, 0.8333333333333334),\n",
       " '4da5': (0.5074626865671642, 0.21428571428571427),\n",
       " '1x8d': (0.53125, 0.6799999999999999),\n",
       " '4jwk': (0.29850746268656714, 0.4827586206896552),\n",
       " '6mjf': (0.4675324675324675, 0.3870967741935484),\n",
       " '1kyv': (0.6111111111111112, 0.8076923076923077),\n",
       " '4non': (0.02985074626865672, 0.0),\n",
       " '2yfx': (0.2711864406779661, 0.5106382978723405),\n",
       " '3arx': (0.21621621621621623, 0.43749999999999994),\n",
       " '4jal': (0.6075949367088608, 0.8095238095238096),\n",
       " '1qaw': (0.7017543859649122, 0.8181818181818182),\n",
       " '4axd': (0.2571428571428571, 0.6885245901639344),\n",
       " '2jfz': (0.23376623376623376, 0.0),\n",
       " '6evn': (0.2068965517241379, 0.5),\n",
       " '4mo4': (0.06557377049180328, 0.12121212121212122),\n",
       " '6gzd': (0.4473684210526316, 0.8095238095238095),\n",
       " '5sym': (0.4242424242424242, 0.0),\n",
       " '1o5e': (0.6086956521739131, 0.761904761904762),\n",
       " '2i80': (0.28571428571428575, 0.5373134328358209),\n",
       " '1wn6': (0.5357142857142857, 0.8717948717948718),\n",
       " '5ovx': (0.32142857142857145, 0.0),\n",
       " '3p2e': (0.2608695652173913, 0.0),\n",
       " '5d6j': (0.45833333333333337, 0.6551724137931034),\n",
       " '5ldp': (0.4528301886792453, 0.0),\n",
       " '4c2v': (0.4367816091954023, 0.14814814814814817),\n",
       " '3acl': (0.5185185185185185, 0.6666666666666667),\n",
       " '5kh3': (0.34375000000000006, 0.8),\n",
       " '1dy4': (0.5365853658536585, 0.04878048780487805),\n",
       " '5yhe': (0.5172413793103449, 0.05405405405405406),\n",
       " '5d0r': (0.3934426229508197, 0.0),\n",
       " '4ge1': (0.5454545454545454, 0.6),\n",
       " '4xu1': (0.31683168316831684, 0.36111111111111116),\n",
       " '5h1u': (0.0, 0.5714285714285713),\n",
       " '5mn1': (0.09999999999999999, 0.6538461538461539),\n",
       " '2fqt': (0.647887323943662, 0.7666666666666667),\n",
       " '5uk8': (0.09090909090909091, 0.0),\n",
       " '5km9': (0.5666666666666667, 0.8888888888888888),\n",
       " '2q8h': (0.24242424242424243, 0.6923076923076923),\n",
       " '5yas': (0.45945945945945943, 0.7906976744186047),\n",
       " '5ct2': (0.23880597014925373, 0.0),\n",
       " '1moq': (0.126984126984127, 0.8372093023255814),\n",
       " '2x6x': (0.4864864864864865, 0.6551724137931034),\n",
       " '5hcv': (0.49411764705882355, 0.049999999999999996),\n",
       " '1rnt': (0.6666666666666666, 0.07407407407407407),\n",
       " '1wc1': (0.6666666666666665, 0.76),\n",
       " '2am4': (0.5263157894736843, 0.0),\n",
       " '4gzx': (0.6052631578947368, 0.0),\n",
       " '4hws': (0.6, 0.7666666666666666),\n",
       " '5hct': (0.4, 0.7999999999999999),\n",
       " '3uj9': (0.3614457831325301, 0.4523809523809524),\n",
       " '2wjg': (0.42622950819672134, 0.26666666666666666),\n",
       " '5yz2': (0.5581395348837209, 0.21052631578947367),\n",
       " '3oy8': (0.2898550724637681, 0.5806451612903225),\n",
       " '5oa2': (0.14814814814814814, 0.5714285714285715),\n",
       " '2jjb': (0.6024096385542169, 0.7575757575757575),\n",
       " '1lnm': (0.5135135135135135, 0.0),\n",
       " '2vb8': (0.46341463414634154, 0.7692307692307692),\n",
       " '5hbn': (0.17241379310344826, 0.0),\n",
       " '1o1s': (0.6585365853658536, 0.0),\n",
       " '5v79': (0.46808510638297873, 0.6545454545454545),\n",
       " '4bc5': (0.2758620689655173, 0.7499999999999999),\n",
       " '2e2p': (0.25, 0.1724137931034483),\n",
       " '6ayi': (0.4927536231884058, 0.8636363636363636),\n",
       " '3axz': (0.45238095238095233, 0.7200000000000001),\n",
       " '6cfc': (0.626865671641791, 0.0),\n",
       " '3rlr': (0.4938271604938272, 0.6666666666666665),\n",
       " '4trc': (0.36734693877551017, 0.3870967741935484),\n",
       " '1ua4': (0.25, 0.0),\n",
       " '5ewk': (0.6, 0.6976744186046512),\n",
       " '3tb6': (0.42424242424242425, 0.5090909090909091),\n",
       " '3x00': (0.5666666666666667, 0.7222222222222222),\n",
       " '5n1z': (0.07547169811320754, 0.0),\n",
       " '2v54': (0.5428571428571428, 0.6557377049180327),\n",
       " '1h2k': (0.37647058823529417, 0.7272727272727273),\n",
       " '2q8m': (0.25806451612903225, 0.6666666666666667),\n",
       " '3ikg': (0.6666666666666666, 0.0),\n",
       " '4b3b': (0.0, 0.0),\n",
       " '5tcj': (0.0963855421686747, 0.4347826086956522),\n",
       " '5wbm': (0.2894736842105263, 0.29629629629629634),\n",
       " '5hwv': (0.4307692307692308, 0.967741935483871),\n",
       " '5e6o': (0.34920634920634924, 0.6666666666666665),\n",
       " '4z2b': (0.5507246376811594, 0.5957446808510638),\n",
       " '2yhw': (0.030303030303030304, 0.75),\n",
       " '3fjg': (0.38297872340425526, 0.631578947368421),\n",
       " '1l83': (0.08, 0.04347826086956522),\n",
       " '4nnr': (0.6274509803921569, 0.742857142857143),\n",
       " '2vmc': (0.0, 0.0),\n",
       " '4o6w': (0.10714285714285714, 0.10526315789473685),\n",
       " '5mxf': (0.0, 0.0),\n",
       " '2fxv': (0.5915492957746479, 0.7017543859649122),\n",
       " '1sw2': (0.30303030303030304, 0.7058823529411765),\n",
       " '5g1z': (0.28888888888888886, 0.0),\n",
       " '3w9k': (0.4222222222222222, 0.8292682926829269),\n",
       " '1g30': (0.6562500000000001, 0.0),\n",
       " '4r75': (0.5591397849462366, 0.04878048780487805),\n",
       " '5ko1': (0.47368421052631576, 0.75),\n",
       " '5f0f': (0.49411764705882355, 0.7547169811320755),\n",
       " '5kbe': (0.1724137931034483, 0.10256410256410255),\n",
       " '5vd2': (0.17857142857142858, 0.5185185185185185),\n",
       " '4aia': (0.35294117647058826, 0.5),\n",
       " '3aaq': (0.47368421052631576, 0.5423728813559322),\n",
       " '3ta0': (0.6666666666666667, 0.7857142857142856),\n",
       " '4dkp': (0.29310344827586204, 0.8000000000000002),\n",
       " '1t7d': (0.21052631578947367, 0.48780487804878053),\n",
       " '4g0y': (0.35, 0.64),\n",
       " '4pqa': (0.5573770491803279, 0.7647058823529412),\n",
       " '2rk8': (0.30952380952380953, 0.5531914893617021),\n",
       " '3v2n': (0.18750000000000003, 0.4347826086956522),\n",
       " '4kif': (0.42857142857142855, 0.5490196078431373),\n",
       " '5ouh': (0.2619047619047619, 0.05714285714285714),\n",
       " '4h85': (0.3611111111111111, 0.0),\n",
       " '3h8b': (0.2553191489361702, 0.6785714285714286),\n",
       " '2pqb': (0.5800000000000001, 0.8000000000000002),\n",
       " '1r9l': (0.38095238095238093, 0.7567567567567568),\n",
       " '4tte': (0.5652173913043478, 0.7586206896551724),\n",
       " '3s0e': (0.5, 0.7555555555555556),\n",
       " '2h21': (0.5185185185185185, 0.6666666666666665),\n",
       " '4d1j': (0.4745762711864407, 0.9032258064516129),\n",
       " '5x62': (0.6666666666666666, 0.7540983606557377),\n",
       " '1ceb': (0.35294117647058826, 0.8571428571428571),\n",
       " '5fol': (0.37037037037037035, 0.7499999999999999),\n",
       " '4eb8': (0.525, 0.8333333333333333),\n",
       " '4qrh': (0.6206896551724138, 0.6274509803921569),\n",
       " '4loo': (0.5238095238095238, 0.6666666666666667),\n",
       " '4gbd': (0.6436781609195402, 0.8474576271186439),\n",
       " '5g1a': (0.46875, 0.6666666666666667),\n",
       " '6exi': (0.47191011235955055, 0.5846153846153845),\n",
       " '4q3t': (0.3917525773195876, 0.8571428571428572),\n",
       " '5uxf': (0.5070422535211268, 0.0),\n",
       " '4qdk': (0.6987951807228916, 0.5882352941176471),\n",
       " '5ayt': (0.5714285714285715, 0.8695652173913043),\n",
       " '3m3c': (0.16438356164383564, 0.6875),\n",
       " '4ipj': (0.430379746835443, 0.6296296296296297),\n",
       " '1tkb': (0.5882352941176471, 0.7924528301886793),\n",
       " '2w9h': (0.5365853658536585, 0.711864406779661),\n",
       " '5tuz': (0.1095890410958904, 0.0),\n",
       " '4ieh': (0.5846153846153846, 0.9019607843137256),\n",
       " '5tcy': (0.3880597014925373, 0.34782608695652173),\n",
       " '2euk': (0.6446280991735537, 0.8),\n",
       " '3zll': (0.0, 0.0),\n",
       " '4keq': (0.41791044776119407, 0.6222222222222222),\n",
       " '5gja': (0.5245901639344263, 0.6274509803921569),\n",
       " '2vk6': (0.5866666666666668, 0.0),\n",
       " '5dnu': (0.3888888888888889, 0.717948717948718),\n",
       " '5hjq': (0.3235294117647059, 0.0),\n",
       " '4cl6': (0.411764705882353, 0.912280701754386),\n",
       " '4q19': (0.5633802816901409, 0.6984126984126985),\n",
       " '4jpy': (0.0967741935483871, 0.6363636363636364),\n",
       " '5ei3': (0.392156862745098, 0.0),\n",
       " '5ey0': (0.31578947368421056, 0.0),\n",
       " '2q89': (0.33707865168539325, 0.7692307692307693),\n",
       " '5er2': (0.4033613445378151, 0.8648648648648649),\n",
       " '3nyd': (0.43137254901960786, 0.5098039215686275),\n",
       " '1wuq': (0.627906976744186, 0.05405405405405406),\n",
       " '1dqn': (0.5066666666666666, 0.6818181818181819),\n",
       " '6hh3': (0.676056338028169, 0.0),\n",
       " '4fxp': (0.5352112676056338, 0.7391304347826088),\n",
       " '6g35': (0.29850746268656714, 0.6666666666666666),\n",
       " '1f74': (0.4722222222222222, 0.0),\n",
       " '5fsx': (0.47619047619047616, 0.0),\n",
       " '3e5a': (0.29885057471264365, 0.75),\n",
       " '5dxt': (0.050632911392405056, 0.0),\n",
       " '4ezx': (0.05128205128205127, 0.0),\n",
       " '5laq': (0.5070422535211268, 0.6129032258064516),\n",
       " '5b25': (0.4571428571428571, 0.48275862068965525),\n",
       " '4pft': (0.29545454545454547, 0.42105263157894735),\n",
       " '2ews': (0.4693877551020408, 0.5263157894736842),\n",
       " '4pb2': (0.4444444444444445, 0.9142857142857143)}"
      ]
     },
     "execution_count": 14,
     "metadata": {},
     "output_type": "execute_result"
    }
   ],
   "source": [
    "d3"
   ]
  },
  {
   "cell_type": "code",
   "execution_count": 75,
   "id": "e98c51e1",
   "metadata": {},
   "outputs": [
    {
     "data": {
      "text/plain": [
       "0.30456852791878175"
      ]
     },
     "execution_count": 75,
     "metadata": {},
     "output_type": "execute_result"
    }
   ],
   "source": [
    "d5 = np.array([v[0] > v[1] for v in d4])\n",
    "d5.sum()/len(d5)"
   ]
  },
  {
   "cell_type": "code",
   "execution_count": 78,
   "id": "744bd04e",
   "metadata": {},
   "outputs": [
    {
     "data": {
      "text/plain": [
       "array([ 8, 40])"
      ]
     },
     "execution_count": 78,
     "metadata": {},
     "output_type": "execute_result"
    }
   ],
   "source": [
    "(d4 == 0).sum(axis=0)"
   ]
  },
  {
   "cell_type": "code",
   "execution_count": 13,
   "id": "c592a797",
   "metadata": {},
   "outputs": [
    {
     "data": {
      "text/plain": [
       "(0.4745864352032055, 0.4496931992768822)"
      ]
     },
     "execution_count": 13,
     "metadata": {},
     "output_type": "execute_result"
    }
   ],
   "source": [
    "mcc_scores = []\n",
    "f_scores = []\n",
    "for name, (structure, pred, pocket) in yieldDataTheirs():\n",
    "    f_scores.append(calcMetric(pred, pocket, structure, f1_score))\n",
    "    mcc_scores.append(calcMetric(pred, pocket, structure, mcc))\n",
    "\n",
    "mcc_scores = np.array(mcc_scores)\n",
    "f_scores = np.array(f_scores)\n",
    "\n",
    "f_scores.mean(), mcc_scores.mean()"
   ]
  },
  {
   "cell_type": "markdown",
   "id": "861e508b",
   "metadata": {},
   "source": [
    "## Scratch"
   ]
  },
  {
   "cell_type": "code",
   "execution_count": 33,
   "id": "97469da2",
   "metadata": {},
   "outputs": [],
   "source": [
    "import yaml\n",
    "import h5py\n",
    "\n",
    "conf = yaml.safe_load(open(rf'/home/lorenzo/3dunet-cavity/runs/210805_pdb/run_config.yml','r'))"
   ]
  },
  {
   "cell_type": "code",
   "execution_count": null,
   "id": "49d2f0e7",
   "metadata": {},
   "outputs": [],
   "source": [
    "h5py.File()"
   ]
  },
  {
   "cell_type": "code",
   "execution_count": 32,
   "id": "5624b7c3",
   "metadata": {},
   "outputs": [
    {
     "data": {
      "text/plain": [
       "6977.725832"
      ]
     },
     "execution_count": 32,
     "metadata": {},
     "output_type": "execute_result"
    }
   ],
   "source": [
    "len(conf['val']) * (arr.size * 8) / 10**6"
   ]
  },
  {
   "cell_type": "code",
   "execution_count": 12,
   "id": "4a4334b8",
   "metadata": {},
   "outputs": [],
   "source": [
    "import numpy as np\n",
    "import sys\n",
    "\n",
    "arr = np.random.random(size=(161,161,161))"
   ]
  },
  {
   "cell_type": "code",
   "execution_count": 18,
   "id": "2b0780d8",
   "metadata": {},
   "outputs": [
    {
     "data": {
      "text/plain": [
       "dtype('float64')"
      ]
     },
     "execution_count": 18,
     "metadata": {},
     "output_type": "execute_result"
    }
   ],
   "source": [
    "arr.dtype"
   ]
  },
  {
   "cell_type": "code",
   "execution_count": 31,
   "id": "6536095b",
   "metadata": {},
   "outputs": [
    {
     "data": {
      "text/plain": [
       "33.386248"
      ]
     },
     "execution_count": 31,
     "metadata": {},
     "output_type": "execute_result"
    }
   ],
   "source": []
  },
  {
   "cell_type": "code",
   "execution_count": 21,
   "id": "41f0a516",
   "metadata": {},
   "outputs": [
    {
     "data": {
      "text/plain": [
       "58"
      ]
     },
     "execution_count": 21,
     "metadata": {},
     "output_type": "execute_result"
    }
   ],
   "source": [
    "314 - 256"
   ]
  },
  {
   "cell_type": "code",
   "execution_count": 15,
   "id": "041801b4",
   "metadata": {},
   "outputs": [
    {
     "data": {
      "text/plain": [
       "33386376"
      ]
     },
     "execution_count": 15,
     "metadata": {},
     "output_type": "execute_result"
    }
   ],
   "source": [
    "sys.getsizeof(arr)"
   ]
  },
  {
   "cell_type": "code",
   "execution_count": 2,
   "id": "1b6962ee",
   "metadata": {},
   "outputs": [
    {
     "ename": "FileNotFoundError",
     "evalue": "[Errno 2] Unable to open file (unable to open file: name = '/home/lorenzo/3dunet-cavity/runs/run_210628_gpu/predictions/1a4r_grids_predictions.h5', errno = 2, error message = 'No such file or directory', flags = 0, o_flags = 0)",
     "output_type": "error",
     "traceback": [
      "\u001b[0;31m---------------------------------------------------------------------------\u001b[0m",
      "\u001b[0;31mFileNotFoundError\u001b[0m                         Traceback (most recent call last)",
      "\u001b[0;32m/tmp/ipykernel_41860/3439235494.py\u001b[0m in \u001b[0;36m<module>\u001b[0;34m\u001b[0m\n\u001b[1;32m     14\u001b[0m \u001b[0mligandfname\u001b[0m \u001b[0;34m=\u001b[0m \u001b[0;34mf'{datadir}/{name}/{name}_ligand.pdb'\u001b[0m\u001b[0;34m\u001b[0m\u001b[0;34m\u001b[0m\u001b[0m\n\u001b[1;32m     15\u001b[0m \u001b[0;34m\u001b[0m\u001b[0m\n\u001b[0;32m---> 16\u001b[0;31m \u001b[0mgrids\u001b[0m \u001b[0;34m=\u001b[0m \u001b[0mh5py\u001b[0m\u001b[0;34m.\u001b[0m\u001b[0mFile\u001b[0m\u001b[0;34m(\u001b[0m\u001b[0mpredfname\u001b[0m\u001b[0;34m)\u001b[0m\u001b[0;34m\u001b[0m\u001b[0;34m\u001b[0m\u001b[0m\n\u001b[0m\u001b[1;32m     17\u001b[0m \u001b[0mpred\u001b[0m \u001b[0;34m=\u001b[0m \u001b[0mnp\u001b[0m\u001b[0;34m.\u001b[0m\u001b[0marray\u001b[0m\u001b[0;34m(\u001b[0m\u001b[0mgrids\u001b[0m\u001b[0;34m[\u001b[0m\u001b[0;34m'predictions'\u001b[0m\u001b[0;34m]\u001b[0m\u001b[0;34m[\u001b[0m\u001b[0;36m0\u001b[0m\u001b[0;34m]\u001b[0m\u001b[0;34m)\u001b[0m\u001b[0;34m\u001b[0m\u001b[0;34m\u001b[0m\u001b[0m\n\u001b[1;32m     18\u001b[0m \u001b[0mpredbin\u001b[0m \u001b[0;34m=\u001b[0m \u001b[0mpred\u001b[0m  \u001b[0;34m>\u001b[0m \u001b[0;36m0.5\u001b[0m\u001b[0;34m\u001b[0m\u001b[0;34m\u001b[0m\u001b[0m\n",
      "\u001b[0;32m~/miniconda3/envs/apbs/lib/python3.8/site-packages/h5py/_hl/files.py\u001b[0m in \u001b[0;36m__init__\u001b[0;34m(self, name, mode, driver, libver, userblock_size, swmr, rdcc_nslots, rdcc_nbytes, rdcc_w0, track_order, fs_strategy, fs_persist, fs_threshold, **kwds)\u001b[0m\n\u001b[1;32m    440\u001b[0m             \u001b[0;32mwith\u001b[0m \u001b[0mphil\u001b[0m\u001b[0;34m:\u001b[0m\u001b[0;34m\u001b[0m\u001b[0;34m\u001b[0m\u001b[0m\n\u001b[1;32m    441\u001b[0m                 \u001b[0mfapl\u001b[0m \u001b[0;34m=\u001b[0m \u001b[0mmake_fapl\u001b[0m\u001b[0;34m(\u001b[0m\u001b[0mdriver\u001b[0m\u001b[0;34m,\u001b[0m \u001b[0mlibver\u001b[0m\u001b[0;34m,\u001b[0m \u001b[0mrdcc_nslots\u001b[0m\u001b[0;34m,\u001b[0m \u001b[0mrdcc_nbytes\u001b[0m\u001b[0;34m,\u001b[0m \u001b[0mrdcc_w0\u001b[0m\u001b[0;34m,\u001b[0m \u001b[0;34m**\u001b[0m\u001b[0mkwds\u001b[0m\u001b[0;34m)\u001b[0m\u001b[0;34m\u001b[0m\u001b[0;34m\u001b[0m\u001b[0m\n\u001b[0;32m--> 442\u001b[0;31m                 fid = make_fid(name, mode, userblock_size,\n\u001b[0m\u001b[1;32m    443\u001b[0m                                fapl, fcpl=make_fcpl(track_order=track_order, fs_strategy=fs_strategy,\n\u001b[1;32m    444\u001b[0m                                fs_persist=fs_persist, fs_threshold=fs_threshold),\n",
      "\u001b[0;32m~/miniconda3/envs/apbs/lib/python3.8/site-packages/h5py/_hl/files.py\u001b[0m in \u001b[0;36mmake_fid\u001b[0;34m(name, mode, userblock_size, fapl, fcpl, swmr)\u001b[0m\n\u001b[1;32m    193\u001b[0m         \u001b[0;32mif\u001b[0m \u001b[0mswmr\u001b[0m \u001b[0;32mand\u001b[0m \u001b[0mswmr_support\u001b[0m\u001b[0;34m:\u001b[0m\u001b[0;34m\u001b[0m\u001b[0;34m\u001b[0m\u001b[0m\n\u001b[1;32m    194\u001b[0m             \u001b[0mflags\u001b[0m \u001b[0;34m|=\u001b[0m \u001b[0mh5f\u001b[0m\u001b[0;34m.\u001b[0m\u001b[0mACC_SWMR_READ\u001b[0m\u001b[0;34m\u001b[0m\u001b[0;34m\u001b[0m\u001b[0m\n\u001b[0;32m--> 195\u001b[0;31m         \u001b[0mfid\u001b[0m \u001b[0;34m=\u001b[0m \u001b[0mh5f\u001b[0m\u001b[0;34m.\u001b[0m\u001b[0mopen\u001b[0m\u001b[0;34m(\u001b[0m\u001b[0mname\u001b[0m\u001b[0;34m,\u001b[0m \u001b[0mflags\u001b[0m\u001b[0;34m,\u001b[0m \u001b[0mfapl\u001b[0m\u001b[0;34m=\u001b[0m\u001b[0mfapl\u001b[0m\u001b[0;34m)\u001b[0m\u001b[0;34m\u001b[0m\u001b[0;34m\u001b[0m\u001b[0m\n\u001b[0m\u001b[1;32m    196\u001b[0m     \u001b[0;32melif\u001b[0m \u001b[0mmode\u001b[0m \u001b[0;34m==\u001b[0m \u001b[0;34m'r+'\u001b[0m\u001b[0;34m:\u001b[0m\u001b[0;34m\u001b[0m\u001b[0;34m\u001b[0m\u001b[0m\n\u001b[1;32m    197\u001b[0m         \u001b[0mfid\u001b[0m \u001b[0;34m=\u001b[0m \u001b[0mh5f\u001b[0m\u001b[0;34m.\u001b[0m\u001b[0mopen\u001b[0m\u001b[0;34m(\u001b[0m\u001b[0mname\u001b[0m\u001b[0;34m,\u001b[0m \u001b[0mh5f\u001b[0m\u001b[0;34m.\u001b[0m\u001b[0mACC_RDWR\u001b[0m\u001b[0;34m,\u001b[0m \u001b[0mfapl\u001b[0m\u001b[0;34m=\u001b[0m\u001b[0mfapl\u001b[0m\u001b[0;34m)\u001b[0m\u001b[0;34m\u001b[0m\u001b[0;34m\u001b[0m\u001b[0m\n",
      "\u001b[0;32mh5py/_objects.pyx\u001b[0m in \u001b[0;36mh5py._objects.with_phil.wrapper\u001b[0;34m()\u001b[0m\n",
      "\u001b[0;32mh5py/_objects.pyx\u001b[0m in \u001b[0;36mh5py._objects.with_phil.wrapper\u001b[0;34m()\u001b[0m\n",
      "\u001b[0;32mh5py/h5f.pyx\u001b[0m in \u001b[0;36mh5py.h5f.open\u001b[0;34m()\u001b[0m\n",
      "\u001b[0;31mFileNotFoundError\u001b[0m: [Errno 2] Unable to open file (unable to open file: name = '/home/lorenzo/3dunet-cavity/runs/run_210628_gpu/predictions/1a4r_grids_predictions.h5', errno = 2, error message = 'No such file or directory', flags = 0, o_flags = 0)"
     ]
    }
   ],
   "source": [
    "import h5py\n",
    "import numpy as np\n",
    "import prody\n",
    "import os\n",
    "from potsim2 import PotGrid\n",
    "\n",
    "predbase = f'/home/lorenzo/3dunet-cavity/runs/run_210628_gpu'\n",
    "\n",
    "datadir = '/home/lorenzo/deep_apbs/destData/refined-set_filter'\n",
    "name = '1a4r'\n",
    "\n",
    "predfname = f'{predbase}/predictions/{name}_grids_predictions.h5'\n",
    "pdbfname = f'{datadir}/{name}/{name}_selected.pdb'\n",
    "ligandfname = f'{datadir}/{name}/{name}_ligand.pdb'\n",
    "\n",
    "grids = h5py.File(predfname)\n",
    "pred = np.array(grids['predictions'][0])\n",
    "predbin = pred  > 0.5\n",
    "\n",
    "structure = prody.parsePDB(pdbfname)\n",
    "grid = PotGrid(f\"{datadir}/{name}/{name}_selected.pdb\", f\"{datadir}/{name}/{name}_grid.dx.gz\")\n",
    "\n",
    "ligand = prody.parsePDB(ligandfname)"
   ]
  },
  {
   "cell_type": "code",
   "execution_count": 4,
   "id": "9b619490",
   "metadata": {},
   "outputs": [
    {
     "data": {
      "text/plain": [
       "<Selection: 'same residue as... of resname GNH' from 1a4r_ligand + 1a4r_selected (246 atoms)>"
      ]
     },
     "execution_count": 4,
     "metadata": {},
     "output_type": "execute_result"
    }
   ],
   "source": [
    "complx = ligand + structure\n",
    "lresname = ligand.getResnames()[0]\n",
    "pocket = complx.select(f'same residue as exwithin 4.5 of resname {lresname}')\n",
    "prody.writePDB(f'{datadir}/{name}/{name}_pocket.pdb', pocket)\n",
    "pocket"
   ]
  },
  {
   "cell_type": "code",
   "execution_count": 5,
   "id": "ddf6257d",
   "metadata": {},
   "outputs": [
    {
     "name": "stdout",
     "output_type": "stream",
     "text": [
      "8.8395 169.8395\n",
      "-53.3765 107.6235\n",
      "-86.7575 74.2425\n"
     ]
    }
   ],
   "source": [
    "print(min(grid.edges[0]), max(grid.edges[0]))\n",
    "print(min(grid.edges[1]), max(grid.edges[1]))\n",
    "print(min(grid.edges[2]), max(grid.edges[2]))"
   ]
  },
  {
   "cell_type": "code",
   "execution_count": 6,
   "id": "a9983ac5",
   "metadata": {},
   "outputs": [
    {
     "name": "stdout",
     "output_type": "stream",
     "text": [
      "60.64 118.039\n",
      "6.425 47.822\n",
      "-27.466 14.951\n"
     ]
    }
   ],
   "source": [
    "print(min(x[0] for x in structure.getCoords()), max(x[0] for x in structure.getCoords()))\n",
    "print(min(x[1] for x in structure.getCoords()), max(x[1] for x in structure.getCoords()))\n",
    "print(min(x[2] for x in structure.getCoords()), max(x[2] for x in structure.getCoords()))"
   ]
  },
  {
   "cell_type": "code",
   "execution_count": 71,
   "id": "61b50384",
   "metadata": {},
   "outputs": [],
   "source": [
    "coords = []\n",
    "\n",
    "for i,coord in enumerate(structure.getCoords()):\n",
    "    x,y,z = coord\n",
    "    binx = int((x - min(grid.edges[0])) / grid.delta[0])\n",
    "    biny = int((y - min(grid.edges[1])) / grid.delta[1])\n",
    "    binz = int((z - min(grid.edges[2])) / grid.delta[2])\n",
    "    \n",
    "    try:\n",
    "        if predbin[binx,biny,binz]:\n",
    "            coords.append(i)\n",
    "    except IndexError as e:\n",
    "        print(x,  min(grid.edges[0]), max(grid.edges[0]), grid.delta[0])\n",
    "        print(binx,biny,binz)\n",
    "        raise e"
   ]
  },
  {
   "cell_type": "code",
   "execution_count": 73,
   "id": "efab4952",
   "metadata": {},
   "outputs": [],
   "source": [
    "s = structure[[coords]]\n",
    "lresname = s.getResnames()[0]"
   ]
  },
  {
   "cell_type": "code",
   "execution_count": 90,
   "id": "d297cf86",
   "metadata": {},
   "outputs": [
    {
     "data": {
      "text/plain": [
       "0"
      ]
     },
     "execution_count": 90,
     "metadata": {},
     "output_type": "execute_result"
    }
   ],
   "source": [
    "len(prody.AtomGroup())"
   ]
  },
  {
   "cell_type": "code",
   "execution_count": 84,
   "id": "bd043b65",
   "metadata": {},
   "outputs": [
    {
     "data": {
      "text/plain": [
       "<AtomGroup: 1a4r_selected (3004 atoms)>"
      ]
     },
     "execution_count": 84,
     "metadata": {},
     "output_type": "execute_result"
    }
   ],
   "source": [
    "structure.copy()"
   ]
  },
  {
   "cell_type": "code",
   "execution_count": 64,
   "id": "fa86c019",
   "metadata": {},
   "outputs": [],
   "source": [
    "fname1 = '/home/lorenzo/deep_apbs/destData/refined-set_filter_1/2ydw/2ydw_selected.pdb'\n",
    "fname2 = '/home/lorenzo/deep_apbs/destData/refined-set_filter_1/2ydw/2ydw_grid.dx.gz'\n",
    "\n",
    "grid2  = PotGrid(fname1, fname2)"
   ]
  },
  {
   "cell_type": "code",
   "execution_count": 58,
   "id": "f8bc11fe",
   "metadata": {},
   "outputs": [
    {
     "data": {
      "text/plain": [
       "<Selection: 'same residue as... 2780 2781 2783' from 1a4r_selected (845 atoms)>"
      ]
     },
     "execution_count": 58,
     "metadata": {},
     "output_type": "execute_result"
    }
   ],
   "source": [
    "idxstr = ' '.join(map(str,s.getIndices()))\n",
    "s2 = structure.select(f'same residue as index {idxstr}')\n",
    "s2"
   ]
  },
  {
   "cell_type": "code",
   "execution_count": null,
   "id": "34879f99",
   "metadata": {},
   "outputs": [],
   "source": [
    "pocket = structure.select(f'same residue as {lresname}')"
   ]
  },
  {
   "cell_type": "code",
   "execution_count": 79,
   "id": "aa98db91",
   "metadata": {},
   "outputs": [],
   "source": [
    "grid.grid = predbin.astype(int)\n",
    "grid.export(f'{predbase}/{name}_predicted.dx')"
   ]
  },
  {
   "cell_type": "code",
   "execution_count": null,
   "id": "704f7e39",
   "metadata": {},
   "outputs": [],
   "source": [
    "prody.parsePDB(pdbfname)"
   ]
  },
  {
   "cell_type": "code",
   "execution_count": 64,
   "id": "0c866c28",
   "metadata": {},
   "outputs": [
    {
     "data": {
      "text/plain": [
       "<AtomGroup: 1a4r_selected (3004 atoms)>"
      ]
     },
     "execution_count": 64,
     "metadata": {},
     "output_type": "execute_result"
    }
   ],
   "source": [
    "structure"
   ]
  },
  {
   "cell_type": "code",
   "execution_count": 63,
   "id": "8c475b7e",
   "metadata": {},
   "outputs": [
    {
     "data": {
      "text/plain": [
       "<AtomGroup: Selection 'index 57 61 64 ...80 to 2781 2783' (0 atoms; no coordinates)>"
      ]
     },
     "execution_count": 63,
     "metadata": {},
     "output_type": "execute_result"
    }
   ],
   "source": [
    "prody.AtomGroup(s)"
   ]
  },
  {
   "cell_type": "code",
   "execution_count": 54,
   "id": "bbac104d",
   "metadata": {},
   "outputs": [
    {
     "data": {
      "text/plain": [
       "(3004, 519)"
      ]
     },
     "execution_count": 54,
     "metadata": {},
     "output_type": "execute_result"
    }
   ],
   "source": [
    "len(structure.getCoords()), len(coords)"
   ]
  }
 ],
 "metadata": {
  "kernelspec": {
   "display_name": "Python 3 (ipykernel)",
   "language": "python",
   "name": "python3"
  },
  "language_info": {
   "codemirror_mode": {
    "name": "ipython",
    "version": 3
   },
   "file_extension": ".py",
   "mimetype": "text/x-python",
   "name": "python",
   "nbconvert_exporter": "python",
   "pygments_lexer": "ipython3",
   "version": "3.8.10"
  }
 },
 "nbformat": 4,
 "nbformat_minor": 5
}
