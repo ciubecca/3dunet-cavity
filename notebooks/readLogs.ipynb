{
 "cells": [
  {
   "cell_type": "code",
   "execution_count": 1,
   "id": "4b6c9dff",
   "metadata": {},
   "outputs": [
    {
     "data": {
      "text/html": [
       "<style>.container { width:100% !important; }</style>"
      ],
      "text/plain": [
       "<IPython.core.display.HTML object>"
      ]
     },
     "metadata": {},
     "output_type": "display_data"
    }
   ],
   "source": [
    "from tensorboard.backend.event_processing import event_accumulator\n",
    "from IPython.core.display import display, HTML\n",
    "from scipy.spatial.transform import Rotation\n",
    "display(HTML(\"<style>.container { width:100% !important; }</style>\"))\n",
    "import h5py\n",
    "from matplotlib import pyplot as plt\n",
    "import torch\n",
    "import numpy as np\n",
    "from pathlib import Path\n",
    "import glob\n",
    "import os\n",
    "import h5py\n",
    "import numpy as np\n",
    "import glob\n",
    "import os\n",
    "import pandas as pd\n",
    "\n",
    "\n",
    "import matplotlib\n",
    "#matplotlib.use('TkAgg')\n",
    "\n",
    "%matplotlib inline"
   ]
  },
  {
   "cell_type": "code",
   "execution_count": 2,
   "id": "09e7947b",
   "metadata": {},
   "outputs": [],
   "source": [
    "results = []\n",
    "\n",
    "folders = ['3dunet-cavity','3dunet-refactor']\n",
    "\n",
    "for folder in folders:\n",
    "\n",
    "    for fname in glob.glob(f'/home/lorenzo/{folder}/runs/*/checkpoint/logs/events.out.tfevents.*.ebi.ac.uk'):\n",
    "        # fname = '/home/lorenzo/3dunet-cavity/runs/210812_pdb_cr_cpu/checkpoint/logs/events.out.tfevents.1628766898.hl-codon-22-04.ebi.ac.uk'\n",
    "        name = str(Path(fname).parent.parent.parent.name)\n",
    "        runn = str(Path(fname).name).split('.')[3]\n",
    "        fullname = f'{name}_{runn}'\n",
    "        ea = event_accumulator.EventAccumulator(fname)\n",
    "        ea.Reload()\n",
    "        try:\n",
    "            # print(max([se.value for se in ea.Scalars('val_eval_score_avg')]), name)\n",
    "            results.append((folder, name,runn,ea))\n",
    "        except KeyError as e:\n",
    "            print(e, fname)\n",
    "            pass"
   ]
  },
  {
   "cell_type": "code",
   "execution_count": 3,
   "id": "c3d9e4ea",
   "metadata": {},
   "outputs": [
    {
     "name": "stdout",
     "output_type": "stream",
     "text": [
      "('3dunet-refactor', '210929_potkala', '1633139440') does not have data\n",
      "('3dunet-refactor', '210929_kala', '1633048681') does not have data\n"
     ]
    }
   ],
   "source": [
    "scores = []\n",
    "fscores = []\n",
    "\n",
    "for folder,name, runn, ea in results:\n",
    "    found = False\n",
    "    if 'val_PocketFScore_avg' in ea.Tags()['scalars']:\n",
    "        fscores.append((max(ea.Scalars('val_PocketFScore_avg')).value,name,runn))\n",
    "        found = True\n",
    "    if 'val_eval_score_avg' in ea.Tags()['scalars']:\n",
    "        scores.append((max(ea.Scalars('val_eval_score_avg')).value,name,runn))\n",
    "        found = True\n",
    "        \n",
    "    if not found:\n",
    "        print(f'{(folder,name, runn)} does not have data')"
   ]
  },
  {
   "cell_type": "code",
   "execution_count": 4,
   "id": "b04f3a6b",
   "metadata": {},
   "outputs": [
    {
     "data": {
      "text/plain": [
       "[(0.5089152455329895, '210929_base_gpu', '1633043249'),\n",
       " (0.5780309438705444, '210915_feat_rotprob', '1631932202'),\n",
       " (0.5780403017997742, '210926_feat_nosched', '1632665412'),\n",
       " (0.5800273418426514, '210916_feat_160', '1632236756'),\n",
       " (0.585411012172699, '210914_features_rot_log', '1631784317'),\n",
       " (0.6527523398399353, '210916_feat_45radius', '1632045500')]"
      ]
     },
     "execution_count": 4,
     "metadata": {},
     "output_type": "execute_result"
    }
   ],
   "source": [
    "fscores.sort()\n",
    "fscores"
   ]
  },
  {
   "cell_type": "code",
   "execution_count": 5,
   "id": "8f306075",
   "metadata": {},
   "outputs": [
    {
     "data": {
      "text/plain": [
       "[(0.32278871536254883, '210928_base_cpu', '1632851954'),\n",
       " (0.3572787940502167, '210929_base_gpu', '1633043249'),\n",
       " (0.3913488984107971, '210916_feat_45radius', '1632045500'),\n",
       " (0.39243870973587036, '210818_res_cpu', '1629300629'),\n",
       " (0.39823853969573975, '210822_0_dielec', '1629647183'),\n",
       " (0.4043527841567993, '210818_noise_cpu', '1629375445'),\n",
       " (0.41265398263931274, '210817_el_cpu', '1629224213'),\n",
       " (0.4340473413467407, '210909_features_norot', '1631275428'),\n",
       " (0.443082720041275, '210915_feat_rotprob', '1631932202'),\n",
       " (0.44605427980422974, '210914_features_rot_log', '1631784317'),\n",
       " (0.4511594772338867, '210909_features_rot_dbg', '1631295683'),\n",
       " (0.4540306031703949, '210916_feat_160', '1632236756'),\n",
       " (0.4614601731300354, '210817_features_cpu', '1629224426'),\n",
       " (0.4641192555427551, '210926_feat_nosched', '1632665412')]"
      ]
     },
     "execution_count": 5,
     "metadata": {},
     "output_type": "execute_result"
    }
   ],
   "source": [
    "scores.sort()\n",
    "scores"
   ]
  },
  {
   "cell_type": "markdown",
   "id": "2a7674cb",
   "metadata": {},
   "source": [
    "# Scratch"
   ]
  },
  {
   "cell_type": "code",
   "execution_count": 6,
   "id": "ca7b2df7",
   "metadata": {},
   "outputs": [
    {
     "data": {
      "text/plain": [
       "<tensorboard.backend.event_processing.event_accumulator.EventAccumulator at 0x7f256dfe2b80>"
      ]
     },
     "execution_count": 6,
     "metadata": {},
     "output_type": "execute_result"
    }
   ],
   "source": [
    "fname = '/home/lorenzo/3dunet-cavity/test_runs/test_kala/checkpoint/logs/events.out.tfevents.1632955747.lorenzo-Amd-Am4-Gen3'\n",
    "\n",
    "ea = event_accumulator.EventAccumulator(fname)\n",
    "ea.Reload()"
   ]
  },
  {
   "cell_type": "code",
   "execution_count": 9,
   "id": "8ac6ec3b",
   "metadata": {},
   "outputs": [
    {
     "data": {
      "text/plain": [
       "[ScalarEvent(wall_time=1632955762.65648, step=2, value=0.21556885540485382),\n",
       " ScalarEvent(wall_time=1632955778.072037, step=4, value=0.21556885540485382),\n",
       " ScalarEvent(wall_time=1632955793.044596, step=6, value=0.11695906519889832),\n",
       " ScalarEvent(wall_time=1632955808.731772, step=8, value=0.0)]"
      ]
     },
     "execution_count": 9,
     "metadata": {},
     "output_type": "execute_result"
    }
   ],
   "source": [
    "ea.Scalars('val_PocketFScore_avg')"
   ]
  },
  {
   "cell_type": "code",
   "execution_count": null,
   "id": "407c3369",
   "metadata": {},
   "outputs": [],
   "source": [
    "[(0.24707265198230743, 'run_210628_gpu', '1624884749'),\n",
    " (0.26016420125961304, 'run_210623_gpu', '1624449624'),\n",
    " (0.3012675940990448, '210928_base_cpu', '1632851954'),\n",
    " (0.314955472946167, '210831_nostd', '1630422643'),\n",
    " (0.32128146290779114, '210812_fmaps16', '1629144884'),\n",
    " (0.3487488925457001, '210812_pool3', '1629145223'),\n",
    " (0.3557639718055725, '210812_pdb_cr_cpu', '1628871798'),\n",
    " (0.3687640428543091, '210831_features', '1630424631'),\n",
    " (0.37195539474487305, '210831_features_nostd', '1630424047'),\n",
    " (0.38577449321746826, '210810_pdb', '1628633033'),\n",
    " (0.3913488984107971, '210916_feat_45radius', '1632045500'),\n",
    " (0.39243870973587036, '210818_res_cpu', '1629300629'),\n",
    " (0.39823853969573975, '210822_0_dielec', '1629647183'),\n",
    " (0.4043527841567993, '210818_noise_cpu', '1629375445'),\n",
    " (0.41265398263931274, '210817_el_cpu', '1629224213'),\n",
    " (0.4340473413467407, '210909_features_norot', '1631275428'),\n",
    " (0.43476900458335876, '210926_feat_nosched', '1632665412'),\n",
    " (0.443082720041275, '210915_feat_rotprob', '1631932202'),\n",
    " (0.44605427980422974, '210914_features_rot_log', '1631784317'),\n",
    " (0.4511594772338867, '210909_features_rot_dbg', '1631295683'),\n",
    " (0.4540306031703949, '210916_feat_160', '1632236756'),\n",
    " (0.4614601731300354, '210817_features_cpu', '1629224426')]\n",
    "​\n"
   ]
  },
  {
   "cell_type": "code",
   "execution_count": 30,
   "id": "1f3aacc2",
   "metadata": {},
   "outputs": [
    {
     "name": "stdout",
     "output_type": "stream",
     "text": [
      "(161, 161, 161)\n"
     ]
    }
   ],
   "source": [
    "fname = '/home/lorenzo/3dunet-cavity/test_runs/test_refactor_big/tmp/2yfe/grids.h5'\n",
    "newfname = '/'.join(fname.split('/')[:-1]) + '/chimera.h5'\n",
    "\n",
    "with h5py.File(fname, 'r') as h5:\n",
    "    with h5py.File(newfname, 'w') as h52:\n",
    "        h52.create_dataset('raws', data=h5['raws'][0])\n",
    "        h52.create_dataset('labels', data=h5['labels'][0])\n",
    "        print(h52['raws'].shape)"
   ]
  },
  {
   "cell_type": "code",
   "execution_count": 22,
   "id": "8c55c712",
   "metadata": {},
   "outputs": [
    {
     "name": "stdout",
     "output_type": "stream",
     "text": [
      "(65, 65, 65)\n",
      "(65, 65, 65)\n"
     ]
    }
   ],
   "source": [
    "with h5py.File('/home/lorenzo/3dunet-cavity/test_runs/test_refactor/tmp/1t7d/chimera.h5', 'r') as h5:\n",
    "    print(h5['raws'].shape)\n",
    "    print(h5['labels'].shape)"
   ]
  },
  {
   "cell_type": "code",
   "execution_count": null,
   "id": "c20a8996",
   "metadata": {},
   "outputs": [],
   "source": []
  }
 ],
 "metadata": {
  "kernelspec": {
   "display_name": "Python 3",
   "language": "python",
   "name": "python3"
  },
  "language_info": {
   "codemirror_mode": {
    "name": "ipython",
    "version": 3
   },
   "file_extension": ".py",
   "mimetype": "text/x-python",
   "name": "python",
   "nbconvert_exporter": "python",
   "pygments_lexer": "ipython3",
   "version": "3.8.10"
  }
 },
 "nbformat": 4,
 "nbformat_minor": 5
}
