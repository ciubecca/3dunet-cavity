{
 "cells": [
  {
   "cell_type": "code",
   "execution_count": 19,
   "id": "4b6c9dff",
   "metadata": {},
   "outputs": [
    {
     "data": {
      "text/html": [
       "<style>.container { width:100% !important; }</style>"
      ],
      "text/plain": [
       "<IPython.core.display.HTML object>"
      ]
     },
     "metadata": {},
     "output_type": "display_data"
    }
   ],
   "source": [
    "from tensorboard.backend.event_processing import event_accumulator\n",
    "from IPython.core.display import display, HTML\n",
    "from scipy.spatial.transform import Rotation\n",
    "display(HTML(\"<style>.container { width:100% !important; }</style>\"))\n",
    "import h5py\n",
    "from matplotlib import pyplot as plt\n",
    "import torch\n",
    "import numpy as np\n",
    "from pathlib import Path\n",
    "import glob\n",
    "import os\n",
    "import h5py\n",
    "import numpy as np\n",
    "import glob\n",
    "import os\n",
    "import pandas as pd\n",
    "\n",
    "\n",
    "import matplotlib\n",
    "#matplotlib.use('TkAgg')\n",
    "\n",
    "%matplotlib inline"
   ]
  },
  {
   "cell_type": "code",
   "execution_count": null,
   "id": "09e7947b",
   "metadata": {},
   "outputs": [
    {
     "name": "stdout",
     "output_type": "stream",
     "text": [
      "'Key val_eval_score_avg was not found in Reservoir' /home/lorenzo/3dunet-cavity/runs/run_210628_baseline/checkpoint/logs/events.out.tfevents.1624891091.codon-gpu-001.ebi.ac.uk\n",
      "0.0010920785134658217 run_210628_baseline_1625062256\n"
     ]
    }
   ],
   "source": [
    "results = {}\n",
    "\n",
    "for fname in glob.glob('/home/lorenzo/3dunet-cavity/runs/*/checkpoint/logs/events.out.tfevents.*.ebi.ac.uk'):\n",
    "    # fname = '/home/lorenzo/3dunet-cavity/runs/210812_pdb_cr_cpu/checkpoint/logs/events.out.tfevents.1628766898.hl-codon-22-04.ebi.ac.uk'\n",
    "    name = str(Path(fname).parent.parent.parent.name)\n",
    "    runn = str(Path(fname).name).split('.')[3]\n",
    "    name = f'{name}_{runn}'\n",
    "    ea = event_accumulator.EventAccumulator(fname)\n",
    "    ea.Reload()\n",
    "    try:\n",
    "        print(max([se.value for se in ea.Scalars('val_eval_score_avg')]), name)\n",
    "        results[name] = ea.Scalars('val_eval_score_avg')\n",
    "    except KeyError as e:\n",
    "        print(e, fname)\n",
    "        pass"
   ]
  },
  {
   "cell_type": "code",
   "execution_count": null,
   "id": "20f37e25",
   "metadata": {},
   "outputs": [],
   "source": []
  }
 ],
 "metadata": {
  "kernelspec": {
   "display_name": "Python 3",
   "language": "python",
   "name": "python3"
  },
  "language_info": {
   "codemirror_mode": {
    "name": "ipython",
    "version": 3
   },
   "file_extension": ".py",
   "mimetype": "text/x-python",
   "name": "python",
   "nbconvert_exporter": "python",
   "pygments_lexer": "ipython3",
   "version": "3.8.10"
  }
 },
 "nbformat": 4,
 "nbformat_minor": 5
}
