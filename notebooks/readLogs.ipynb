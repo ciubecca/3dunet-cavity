{
 "cells": [
  {
   "cell_type": "code",
   "execution_count": 35,
   "id": "5a19617e",
   "metadata": {},
   "outputs": [
    {
     "data": {
      "text/html": [
       "<style>.container { width:100% !important; }</style>"
      ],
      "text/plain": [
       "<IPython.core.display.HTML object>"
      ]
     },
     "metadata": {},
     "output_type": "display_data"
    }
   ],
   "source": [
    "from tensorboard.backend.event_processing import event_accumulator\n",
    "from IPython.core.display import display, HTML\n",
    "from scipy.spatial.transform import Rotation\n",
    "display(HTML(\"<style>.container { width:100% !important; }</style>\"))\n",
    "import h5py\n",
    "from matplotlib import pyplot as plt\n",
    "import torch\n",
    "import numpy as np\n",
    "from pathlib import Path\n",
    "import glob\n",
    "import os\n",
    "import h5py\n",
    "import numpy as np\n",
    "import glob\n",
    "import os\n",
    "import pandas as pd\n",
    "\n",
    "\n",
    "import matplotlib\n",
    "#matplotlib.use('TkAgg')\n",
    "\n",
    "%matplotlib inline"
   ]
  },
  {
   "cell_type": "code",
   "execution_count": 36,
   "id": "4b868ff7",
   "metadata": {},
   "outputs": [
    {
     "name": "stdout",
     "output_type": "stream",
     "text": [
      "0.3165707588195801 /home/lorenzo/3dunet-cavity/runs/210808_pdb/checkpoint/logs/events.out.tfevents.1628468066.codon-gpu-001.ebi.ac.uk\n",
      "0.0010920785134658217 /home/lorenzo/3dunet-cavity/runs/run_210628_baseline/checkpoint/logs/events.out.tfevents.1625062256.codon-gpu-001.ebi.ac.uk\n",
      "0.262359082698822 /home/lorenzo/3dunet-cavity/runs/210812_fmaps16/checkpoint/logs/events.out.tfevents.1629144884.codon-gpu-001.ebi.ac.uk\n",
      "0.2625729441642761 /home/lorenzo/3dunet-cavity/runs/210812_pool3/checkpoint/logs/events.out.tfevents.1629145223.codon-gpu-001.ebi.ac.uk\n",
      "0.24437758326530457 /home/lorenzo/3dunet-cavity/runs/210817_el_cpu/checkpoint/logs/events.out.tfevents.1629224213.hl-codon-27-03.ebi.ac.uk\n",
      "0.38577449321746826 /home/lorenzo/3dunet-cavity/runs/210810_pdb/checkpoint/logs/events.out.tfevents.1628633033.codon-gpu-001.ebi.ac.uk\n",
      "0.0 /home/lorenzo/3dunet-cavity/runs/210809_pdb/checkpoint/logs/events.out.tfevents.1628534167.codon-gpu-001.ebi.ac.uk\n",
      "0.31719285249710083 /home/lorenzo/3dunet-cavity/runs/run_210628_gpu/checkpoint/logs/events.out.tfevents.1624884749.codon-gpu-001.ebi.ac.uk\n",
      "0.29546457529067993 /home/lorenzo/3dunet-cavity/runs/210817_features_cpu/checkpoint/logs/events.out.tfevents.1629224426.hl-codon-36-04.ebi.ac.uk\n",
      "0.2910344898700714 /home/lorenzo/3dunet-cavity/runs/210812_pdb_cr_cpu/checkpoint/logs/events.out.tfevents.1628871798.hl-codon-39-01.ebi.ac.uk\n",
      "0.1631384640932083 /home/lorenzo/3dunet-cavity/runs/210812_pdb_cr_cpu/checkpoint/logs/events.out.tfevents.1628766898.hl-codon-22-04.ebi.ac.uk\n",
      "0.21502575278282166 /home/lorenzo/3dunet-cavity/runs/run_210611_cpu/checkpoint/logs/events.out.tfevents.1623426795.hl-codon-38-01.ebi.ac.uk\n",
      "0.29855120182037354 /home/lorenzo/3dunet-cavity/runs/run_210614_cpu/checkpoint/logs/events.out.tfevents.1623662139.hl-codon-07-03.ebi.ac.uk\n",
      "0.34328678250312805 /home/lorenzo/3dunet-cavity/runs/run_210623_gpu/checkpoint/logs/events.out.tfevents.1624449624.codon-gpu-001.ebi.ac.uk\n",
      "0.3299517035484314 /home/lorenzo/3dunet-cavity/runs/run_210628_gpu_1/checkpoint/logs/events.out.tfevents.1625062256.codon-gpu-001.ebi.ac.uk\n"
     ]
    }
   ],
   "source": [
    "for fname in glob.glob('/home/lorenzo/3dunet-cavity/runs/*/checkpoint/logs/events.out.tfevents.*.ebi.ac.uk'):\n",
    "    # fname = '/home/lorenzo/3dunet-cavity/runs/210812_pdb_cr_cpu/checkpoint/logs/events.out.tfevents.1628766898.hl-codon-22-04.ebi.ac.uk'\n",
    "    ea = event_accumulator.EventAccumulator(fname)\n",
    "    ea.Reload()\n",
    "    try:\n",
    "        print(max([se.value for se in ea.Scalars('val_eval_score_avg')]), fname)\n",
    "    except KeyError:\n",
    "        pass"
   ]
  },
  {
   "cell_type": "code",
   "execution_count": null,
   "id": "9cb9bbc5",
   "metadata": {},
   "outputs": [],
   "source": []
  }
 ],
 "metadata": {
  "kernelspec": {
   "display_name": "Python 3",
   "language": "python",
   "name": "python3"
  },
  "language_info": {
   "codemirror_mode": {
    "name": "ipython",
    "version": 3
   },
   "file_extension": ".py",
   "mimetype": "text/x-python",
   "name": "python",
   "nbconvert_exporter": "python",
   "pygments_lexer": "ipython3",
   "version": "3.8.10"
  }
 },
 "nbformat": 4,
 "nbformat_minor": 5
}
