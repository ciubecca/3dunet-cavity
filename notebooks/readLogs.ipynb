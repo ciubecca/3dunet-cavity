{
 "cells": [
  {
   "cell_type": "code",
   "execution_count": 12,
   "id": "4b6c9dff",
   "metadata": {},
   "outputs": [
    {
     "data": {
      "text/html": [
       "<style>.container { width:100% !important; }</style>"
      ],
      "text/plain": [
       "<IPython.core.display.HTML object>"
      ]
     },
     "metadata": {},
     "output_type": "display_data"
    }
   ],
   "source": [
    "from tensorboard.backend.event_processing import event_accumulator\n",
    "from IPython.core.display import display, HTML\n",
    "from scipy.spatial.transform import Rotation\n",
    "display(HTML(\"<style>.container { width:100% !important; }</style>\"))\n",
    "import h5py\n",
    "from matplotlib import pyplot as plt\n",
    "import torch\n",
    "import numpy as np\n",
    "from pathlib import Path\n",
    "import glob\n",
    "import os\n",
    "import h5py\n",
    "import numpy as np\n",
    "import glob\n",
    "import os\n",
    "import pandas as pd\n",
    "\n",
    "\n",
    "import matplotlib\n",
    "#matplotlib.use('TkAgg')\n",
    "\n",
    "%matplotlib inline"
   ]
  },
  {
   "cell_type": "code",
   "execution_count": 13,
   "id": "09e7947b",
   "metadata": {},
   "outputs": [
    {
     "name": "stdout",
     "output_type": "stream",
     "text": [
      "'Key val_eval_score_avg was not found in Reservoir' /home/lorenzo/3dunet-cavity/runs/run_210628_baseline/checkpoint/logs/events.out.tfevents.1624891091.codon-gpu-001.ebi.ac.uk\n",
      "0.0010920785134658217 run_210628_baseline_1625062256\n",
      "0.40080419182777405 210831_features_1630424631\n",
      "0.0 210907_features_rot_1631143075\n",
      "0.3410890996456146 210812_fmaps16_1629144884\n",
      "0.2913040220737457 210820_pdb_cr_1629763095\n",
      "0.44252970814704895 210909_features_norot_1631275428\n",
      "0.3487488925457001 210812_pool3_1629145223\n",
      "0.41488146781921387 210817_el_cpu_1629224213\n",
      "0.38577449321746826 210810_pdb_1628633033\n",
      "0.0 210909_features_rot_dbg_1631182507\n",
      "0.4574761986732483 210909_features_rot_dbg_1631295683\n",
      "0.38386842608451843 210831_features_nostd_1630424047\n",
      "0.39823853969573975 210822_0_dielec_1629647183\n",
      "0.31719285249710083 run_210628_gpu_1624884749\n",
      "0.46237483620643616 210817_features_cpu_1629224426\n",
      "0.3557639718055725 210812_pdb_cr_cpu_1628871798\n",
      "0.1631384640932083 210812_pdb_cr_cpu_1628766898\n",
      "'Key val_eval_score_avg was not found in Reservoir' /home/lorenzo/3dunet-cavity/runs/210818_noise_cpu/checkpoint/logs/events.out.tfevents.1629302705.hl-codon-40-01.ebi.ac.uk\n",
      "0.4043527841567993 210818_noise_cpu_1629375445\n",
      "0.4014698565006256 210818_res_cpu_1629300629\n",
      "'Key val_eval_score_avg was not found in Reservoir' /home/lorenzo/3dunet-cavity/runs/210805_pdb/checkpoint/logs/events.out.tfevents.1628379933.codon-gpu-001.ebi.ac.uk\n",
      "0.3244960308074951 210831_nostd_1630422643\n",
      "0.4485515058040619 210915_feat_rotprob_1631932202\n",
      "0.45707017183303833 210914_features_rot_log_1631784317\n",
      "'Key val_eval_score_avg was not found in Reservoir' /home/lorenzo/3dunet-cavity/runs/210914_features_rot_log/checkpoint/logs/events.out.tfevents.1631634159.codon-gpu-001.ebi.ac.uk\n",
      "0.30115392804145813 210822_4_5_ligandradius_1629635767\n",
      "0.34328678250312805 run_210623_gpu_1624449624\n"
     ]
    }
   ],
   "source": [
    "results = {}\n",
    "\n",
    "for fname in glob.glob('/home/lorenzo/3dunet-cavity/runs/*/checkpoint/logs/events.out.tfevents.*.ebi.ac.uk'):\n",
    "    # fname = '/home/lorenzo/3dunet-cavity/runs/210812_pdb_cr_cpu/checkpoint/logs/events.out.tfevents.1628766898.hl-codon-22-04.ebi.ac.uk'\n",
    "    name = str(Path(fname).parent.parent.parent.name)\n",
    "    runn = str(Path(fname).name).split('.')[3]\n",
    "    name = f'{name}_{runn}'\n",
    "    ea = event_accumulator.EventAccumulator(fname)\n",
    "    ea.Reload()\n",
    "    try:\n",
    "        print(max([se.value for se in ea.Scalars('val_eval_score_avg')]), name)\n",
    "        results[name] = ea.Scalars('val_eval_score_avg')\n",
    "    except KeyError as e:\n",
    "        print(e, fname)\n",
    "        pass"
   ]
  },
  {
   "cell_type": "code",
   "execution_count": null,
   "id": "c3d9e4ea",
   "metadata": {},
   "outputs": [],
   "source": []
  }
 ],
 "metadata": {
  "kernelspec": {
   "display_name": "Python 3",
   "language": "python",
   "name": "python3"
  },
  "language_info": {
   "codemirror_mode": {
    "name": "ipython",
    "version": 3
   },
   "file_extension": ".py",
   "mimetype": "text/x-python",
   "name": "python",
   "nbconvert_exporter": "python",
   "pygments_lexer": "ipython3",
   "version": "3.8.10"
  }
 },
 "nbformat": 4,
 "nbformat_minor": 5
}
