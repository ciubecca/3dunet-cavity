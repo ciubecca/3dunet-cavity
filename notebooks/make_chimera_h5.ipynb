{
 "cells": [
  {
   "cell_type": "code",
   "execution_count": 9,
   "id": "39914171",
   "metadata": {},
   "outputs": [],
   "source": [
    "import h5py\n",
    "\n",
    "suffixes = ['', '_denoise', '_denoise_hard', '_denoise_vs']"
   ]
  },
  {
   "cell_type": "code",
   "execution_count": 10,
   "id": "dc07133e",
   "metadata": {},
   "outputs": [],
   "source": [
    "g = {}\n",
    "\n",
    "for suffix in suffixes:\n",
    "    orig = f'/home/lorenzo/3dunet-cavity/test_runs/test_full{suffix}/tmp/4qij/grids.h5'\n",
    "    dest = f'/home/lorenzo/grids{suffix}.h5'\n",
    "\n",
    "    with h5py.File(dest, 'w') as h5:\n",
    "        h5.create_dataset('raws', data=h5py.File(orig)['raws'][0])\n",
    "        h5.create_dataset('labels', data=h5py.File(orig)['labels'][0])\n",
    "    \n",
    "    g[suffix] = h5py.File(orig)['raws'][0]"
   ]
  },
  {
   "cell_type": "code",
   "execution_count": 11,
   "id": "eaf152fa",
   "metadata": {},
   "outputs": [],
   "source": [
    "gs = list(g.values())"
   ]
  },
  {
   "cell_type": "code",
   "execution_count": 12,
   "id": "54cf122e",
   "metadata": {},
   "outputs": [
    {
     "data": {
      "text/plain": [
       "3.771514e-11"
      ]
     },
     "execution_count": 12,
     "metadata": {},
     "output_type": "execute_result"
    }
   ],
   "source": [
    "(abs(gs[0]-gs[1]).max())/abs(gs[0]).max()"
   ]
  },
  {
   "cell_type": "code",
   "execution_count": 13,
   "id": "57a05bdb",
   "metadata": {},
   "outputs": [
    {
     "data": {
      "text/plain": [
       "0.0"
      ]
     },
     "execution_count": 13,
     "metadata": {},
     "output_type": "execute_result"
    }
   ],
   "source": [
    "(abs(gs[0]-gs[2]).max())/abs(gs[0]).max()"
   ]
  },
  {
   "cell_type": "code",
   "execution_count": 14,
   "id": "6c1a0aec",
   "metadata": {},
   "outputs": [
    {
     "data": {
      "text/plain": [
       "7.724061e-08"
      ]
     },
     "execution_count": 14,
     "metadata": {},
     "output_type": "execute_result"
    }
   ],
   "source": [
    "(abs(gs[0]-gs[3]).max())/abs(gs[0]).max()"
   ]
  }
 ],
 "metadata": {
  "kernelspec": {
   "display_name": "Python 3 (ipykernel)",
   "language": "python",
   "name": "python3"
  },
  "language_info": {
   "codemirror_mode": {
    "name": "ipython",
    "version": 3
   },
   "file_extension": ".py",
   "mimetype": "text/x-python",
   "name": "python",
   "nbconvert_exporter": "python",
   "pygments_lexer": "ipython3",
   "version": "3.8.10"
  }
 },
 "nbformat": 4,
 "nbformat_minor": 5
}
