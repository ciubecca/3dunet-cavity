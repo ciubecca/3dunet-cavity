{
 "cells": [
  {
   "cell_type": "code",
   "execution_count": 28,
   "id": "5f6c80c1",
   "metadata": {},
   "outputs": [
    {
     "data": {
      "text/plain": [
       "<AtomGroup: 1a1e_protein (3279 atoms)>"
      ]
     },
     "execution_count": 28,
     "metadata": {},
     "output_type": "execute_result"
    }
   ],
   "source": [
    "import prody as pr\n",
    "\n",
    "base = '/home/lorenzo/deep_apbs/srcData/pdbbind_v2019_refined'\n",
    "name = '1a1e'\n",
    "file = f'{base}/{name}/{name}_protein.pdb'\n",
    "\n",
    "structure = pr.parsePDB(file)\n",
    "structure"
   ]
  },
  {
   "cell_type": "code",
   "execution_count": 21,
   "id": "941ccb31",
   "metadata": {},
   "outputs": [
    {
     "data": {
      "text/plain": [
       "array([42.66277646, 10.68376822, 30.48335102])"
      ]
     },
     "execution_count": 21,
     "metadata": {},
     "output_type": "execute_result"
    }
   ],
   "source": [
    "structure.getCoords().mean(axis=0)"
   ]
  },
  {
   "cell_type": "code",
   "execution_count": 22,
   "id": "0b0744e3",
   "metadata": {},
   "outputs": [],
   "source": [
    "coords = structure.getCoords()"
   ]
  },
  {
   "cell_type": "code",
   "execution_count": 23,
   "id": "3a6ec31e",
   "metadata": {},
   "outputs": [
    {
     "data": {
      "text/plain": [
       "array([42.66277646, 10.68376822, 30.48335102])"
      ]
     },
     "execution_count": 23,
     "metadata": {},
     "output_type": "execute_result"
    }
   ],
   "source": [
    "import scipy\n",
    "import numpy as np\n",
    "from scipy.spatial.transform import Rotation\n",
    "coords.mean(axis=0)"
   ]
  },
  {
   "cell_type": "code",
   "execution_count": 24,
   "id": "fcb50b36",
   "metadata": {},
   "outputs": [],
   "source": [
    "r = Rotation.random().as_matrix()"
   ]
  },
  {
   "cell_type": "code",
   "execution_count": 29,
   "id": "4d260e0c",
   "metadata": {},
   "outputs": [
    {
     "data": {
      "text/plain": [
       "'/home/lorenzo/deep_apbs/srcData/pdbbind_v2019_refined/1a1e/1a1e_rotated.pdb'"
      ]
     },
     "execution_count": 29,
     "metadata": {},
     "output_type": "execute_result"
    }
   ],
   "source": [
    "coords2 = np.einsum('ij,kj->ki', r, coords)\n",
    "structure2 = structure.copy()\n",
    "structure2.setCoords(coords2)\n",
    "\n",
    "dst = f'{base}/{name}/{name}_rotated.pdb'\n",
    "pr.writePDB(dst, structure2)"
   ]
  },
  {
   "cell_type": "code",
   "execution_count": 27,
   "id": "13e93d90",
   "metadata": {},
   "outputs": [
    {
     "data": {
      "text/plain": [
       "array([ -7.30299945, -33.14711497,  41.36937341])"
      ]
     },
     "execution_count": 27,
     "metadata": {},
     "output_type": "execute_result"
    }
   ],
   "source": [
    "structure2.getCoords().mean(axis=0)"
   ]
  },
  {
   "cell_type": "code",
   "execution_count": null,
   "id": "1b008661",
   "metadata": {},
   "outputs": [],
   "source": []
  },
  {
   "cell_type": "code",
   "execution_count": 9,
   "id": "672a052a",
   "metadata": {},
   "outputs": [
    {
     "data": {
      "text/plain": [
       "array([42.66277646, 10.68376822, 30.48335102])"
      ]
     },
     "execution_count": 9,
     "metadata": {},
     "output_type": "execute_result"
    }
   ],
   "source": [
    "coords.mean(axis=0)"
   ]
  },
  {
   "cell_type": "code",
   "execution_count": 42,
   "id": "35b29a8a",
   "metadata": {},
   "outputs": [
    {
     "data": {
      "text/plain": [
       "42960.029711536896"
      ]
     },
     "execution_count": 42,
     "metadata": {},
     "output_type": "execute_result"
    }
   ],
   "source": [
    "((coords - coords.mean(axis=0))**2).sum()"
   ]
  },
  {
   "cell_type": "code",
   "execution_count": 43,
   "id": "db669a43",
   "metadata": {},
   "outputs": [
    {
     "data": {
      "text/plain": [
       "42960.0297115369"
      ]
     },
     "execution_count": 43,
     "metadata": {},
     "output_type": "execute_result"
    }
   ],
   "source": [
    "((coords2 - coords2.mean(axis=0))**2).sum()"
   ]
  },
  {
   "cell_type": "code",
   "execution_count": 36,
   "id": "e285d167",
   "metadata": {},
   "outputs": [
    {
     "data": {
      "text/plain": [
       "array([18.62146267, 19.00431087, 50.17221991])"
      ]
     },
     "execution_count": 36,
     "metadata": {},
     "output_type": "execute_result"
    }
   ],
   "source": [
    "coords2.mean(axis=0)"
   ]
  },
  {
   "cell_type": "code",
   "execution_count": 37,
   "id": "907c70b3",
   "metadata": {},
   "outputs": [
    {
     "data": {
      "text/plain": [
       "array([18.62146267, 19.00431087, 50.17221991])"
      ]
     },
     "execution_count": 37,
     "metadata": {},
     "output_type": "execute_result"
    }
   ],
   "source": [
    "np.einsum('ij,j->i', r, coords.mean(axis=0))"
   ]
  },
  {
   "cell_type": "raw",
   "id": "3ec2904a",
   "metadata": {},
   "source": [
    "r2 = r"
   ]
  },
  {
   "cell_type": "code",
   "execution_count": 10,
   "id": "e4a3060d",
   "metadata": {},
   "outputs": [
    {
     "ename": "NameError",
     "evalue": "name 'r2' is not defined",
     "output_type": "error",
     "traceback": [
      "\u001b[0;31m---------------------------------------------------------------------------\u001b[0m",
      "\u001b[0;31mNameError\u001b[0m                                 Traceback (most recent call last)",
      "\u001b[0;32m/tmp/ipykernel_3315243/11344956.py\u001b[0m in \u001b[0;36m<module>\u001b[0;34m\u001b[0m\n\u001b[0;32m----> 1\u001b[0;31m \u001b[0mnp\u001b[0m\u001b[0;34m.\u001b[0m\u001b[0mdot\u001b[0m\u001b[0;34m(\u001b[0m\u001b[0mr2\u001b[0m\u001b[0;34m,\u001b[0m \u001b[0mnp\u001b[0m\u001b[0;34m.\u001b[0m\u001b[0mtranspose\u001b[0m\u001b[0;34m(\u001b[0m\u001b[0mr2\u001b[0m\u001b[0;34m)\u001b[0m\u001b[0;34m)\u001b[0m\u001b[0;34m\u001b[0m\u001b[0;34m\u001b[0m\u001b[0m\n\u001b[0m",
      "\u001b[0;31mNameError\u001b[0m: name 'r2' is not defined"
     ]
    }
   ],
   "source": [
    "np.dot(r2, np.transpose(r2))"
   ]
  },
  {
   "cell_type": "code",
   "execution_count": null,
   "id": "abb9f096",
   "metadata": {},
   "outputs": [],
   "source": []
  }
 ],
 "metadata": {
  "kernelspec": {
   "display_name": "Python 3 (ipykernel)",
   "language": "python",
   "name": "python3"
  },
  "language_info": {
   "codemirror_mode": {
    "name": "ipython",
    "version": 3
   },
   "file_extension": ".py",
   "mimetype": "text/x-python",
   "name": "python",
   "nbconvert_exporter": "python",
   "pygments_lexer": "ipython3",
   "version": "3.8.10"
  }
 },
 "nbformat": 4,
 "nbformat_minor": 5
}
