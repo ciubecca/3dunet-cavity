{
 "cells": [
  {
   "cell_type": "code",
   "execution_count": 1,
   "id": "3035a2f0",
   "metadata": {},
   "outputs": [
    {
     "data": {
      "text/html": [
       "<style>.container { width:100% !important; }</style>"
      ],
      "text/plain": [
       "<IPython.core.display.HTML object>"
      ]
     },
     "metadata": {},
     "output_type": "display_data"
    }
   ],
   "source": [
    "from IPython.core.display import display, HTML\n",
    "from scipy.spatial.transform import Rotation\n",
    "display(HTML(\"<style>.container { width:100% !important; }</style>\"))\n",
    "import h5py\n",
    "from matplotlib import pyplot as plt\n",
    "import torch\n",
    "import numpy as np\n",
    "from pathlib import Path\n",
    "import glob\n",
    "import os\n",
    "import h5py\n",
    "import numpy as np\n",
    "import prody\n",
    "import prody as pr\n",
    "from potsim2 import PotGrid\n",
    "import sklearn\n",
    "from sklearn.metrics import matthews_corrcoef as mcc \n",
    "from sklearn.metrics import f1_score\n",
    "import os\n",
    "import pandas as pd\n",
    "\n",
    "\n",
    "import matplotlib\n",
    "#matplotlib.use('TkAgg')\n",
    "\n",
    "%matplotlib inline"
   ]
  },
  {
   "cell_type": "code",
   "execution_count": 2,
   "id": "6db3abb4",
   "metadata": {},
   "outputs": [],
   "source": [
    "def yieldDataTheirs():\n",
    "\n",
    "    for fname in os.listdir(predbaseKala):\n",
    "        name = fname.split('_')[0]\n",
    "\n",
    "        predfname = f'{predbaseKala}/{name}_predictions.pdb'\n",
    "        pdbfname = f'{datadir}/{name}/{name}_selected.pdb'\n",
    "        pocketfname = f'{datadir}/{name}/{name}_pocket.pdb'\n",
    "\n",
    "        structure = prody.parsePDB(pdbfname)\n",
    "        pred = prody.parsePDB(predfname)\n",
    "        pocket = prody.parsePDB(pocketfname)\n",
    "        \n",
    "        yield name, (structure, pred, pocket)\n",
    "\n",
    "def yieldDataMine():\n",
    "\n",
    "    for fname in os.listdir(f'{predbase}/predictions'):\n",
    "        name = fname.split('_')[0]\n",
    "\n",
    "        predfname = f'{predbase}/predictions/{name}_predictions.pdb'\n",
    "        pdbfname = f'{datadir}/{name}/{name}_selected.pdb'\n",
    "        pocketfname = f'{datadir}/{name}/{name}_pocket.pdb'\n",
    "\n",
    "        structure = prody.parsePDB(pdbfname)\n",
    "        pred = prody.parsePDB(predfname)\n",
    "        pocket = prody.parsePDB(pocketfname)\n",
    "        \n",
    "        yield name, (structure, pred, pocket)\n",
    "\n",
    "        \n",
    "def calcMetric(pred, pocket, structure, scoref):\n",
    "    prednums = set(t.getResnum() for t in pred.iterResidues())\n",
    "    truenums = set(t.getResnum() for t in pocket.iterResidues())\n",
    "    allnums = set(t.getResnum() for t in structure.iterResidues())\n",
    "\n",
    "    tp = 0\n",
    "    tn = 0\n",
    "    fp = 0\n",
    "    fn = 0\n",
    "\n",
    "    y_true = []\n",
    "    y_pred = []\n",
    "\n",
    "    for num in allnums:\n",
    "        if num not in prednums and num not in truenums:\n",
    "            tn += 1\n",
    "            y_pred.append(-1)\n",
    "            y_true.append(-1)\n",
    "        elif num not in prednums and num in truenums:\n",
    "            fn += 1\n",
    "            y_pred.append(-1)\n",
    "            y_true.append(1)\n",
    "        elif num in prednums and num not in truenums:\n",
    "            fp += 1\n",
    "            y_pred.append(1)\n",
    "            y_true.append(-1)\n",
    "        elif num in prednums and num in truenums:\n",
    "            tp += 1\n",
    "            y_pred.append(1)\n",
    "            y_true.append(1)\n",
    "        else:\n",
    "            raise Exception\n",
    "\n",
    "    return scoref(y_true, y_pred)"
   ]
  },
  {
   "cell_type": "code",
   "execution_count": null,
   "id": "2e703f52",
   "metadata": {},
   "outputs": [],
   "source": [
    "predbase = f'/home/lorenzo/3dunet-cavity/runs/210810_pdb'\n",
    "predbaseKala = '/home/lorenzo/kalasanty/predictions_210723'\n",
    "\n",
    "datadir = '/home/lorenzo/deep_apbs/destData/refined-set_filter_1'"
   ]
  },
  {
   "cell_type": "code",
   "execution_count": null,
   "id": "bf31f713",
   "metadata": {},
   "outputs": [],
   "source": [
    "def scoresFromGen(gen):\n",
    "    names = []\n",
    "    mcc_scores = []\n",
    "    f_scores = []\n",
    "    for name, (structure, pred, pocket) in gen():\n",
    "        yield name, (calcMetric(pred, pocket, structure, f1_score), calcMetric(pred, pocket, structure, mcc))"
   ]
  },
  {
   "cell_type": "code",
   "execution_count": null,
   "id": "c9fd810c",
   "metadata": {},
   "outputs": [],
   "source": [
    "resTheirs = list(scoresFromGen(yieldDataTheirs))\n",
    "resOurs = list(scoresFromGen(yieldDataMine))"
   ]
  },
  {
   "cell_type": "code",
   "execution_count": null,
   "id": "f844e95f",
   "metadata": {},
   "outputs": [],
   "source": [
    "def mergeDict(d1, d2):\n",
    "    keys = set(d1.keys()) | set(d2.keys())\n",
    "    return {key:(d1.get(key),d2.get(key)) for key in keys}"
   ]
  },
  {
   "cell_type": "code",
   "execution_count": null,
   "id": "437420f1",
   "metadata": {},
   "outputs": [],
   "source": [
    "dictOurs = {x[0]: x[1][0] for x in resOurs}\n",
    "dictTheirs = {x[0]: x[1][0] for x in resTheirs}\n",
    "d2 = mergeDict(dictOurs, dictTheirs)\n",
    "\n",
    "d2"
   ]
  },
  {
   "cell_type": "code",
   "execution_count": null,
   "id": "d4861fe6",
   "metadata": {},
   "outputs": [],
   "source": [
    "mcc_scores = []\n",
    "f_scores = []\n",
    "for name, (structure, pred, pocket) in yieldDataTheirs():\n",
    "    f_scores.append(calcMetric(pred, pocket, structure, f1_score))\n",
    "    mcc_scores.append(calcMetric(pred, pocket, structure, mcc))\n",
    "\n",
    "mcc_scores = np.array(mcc_scores)\n",
    "f_scores = np.array(f_scores)\n",
    "\n",
    "f_scores.mean(), mcc_scores.mean()"
   ]
  }
 ],
 "metadata": {
  "kernelspec": {
   "display_name": "Python 3 (ipykernel)",
   "language": "python",
   "name": "python3"
  },
  "language_info": {
   "codemirror_mode": {
    "name": "ipython",
    "version": 3
   },
   "file_extension": ".py",
   "mimetype": "text/x-python",
   "name": "python",
   "nbconvert_exporter": "python",
   "pygments_lexer": "ipython3",
   "version": "3.8.10"
  }
 },
 "nbformat": 4,
 "nbformat_minor": 5
}
