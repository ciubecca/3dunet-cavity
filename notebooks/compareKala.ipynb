{
 "cells": [
  {
   "cell_type": "code",
   "execution_count": 1,
   "id": "3035a2f0",
   "metadata": {},
   "outputs": [
    {
     "data": {
      "text/html": [
       "<style>.container { width:100% !important; }</style>"
      ],
      "text/plain": [
       "<IPython.core.display.HTML object>"
      ]
     },
     "metadata": {},
     "output_type": "display_data"
    }
   ],
   "source": [
    "from IPython.core.display import display, HTML\n",
    "from scipy.spatial.transform import Rotation\n",
    "display(HTML(\"<style>.container { width:100% !important; }</style>\"))\n",
    "import h5py\n",
    "from matplotlib import pyplot as plt\n",
    "import torch\n",
    "import numpy as np\n",
    "from pathlib import Path\n",
    "import glob\n",
    "import os\n",
    "import h5py\n",
    "import numpy as np\n",
    "import prody\n",
    "import prody as pr\n",
    "from potsim2 import PotGrid\n",
    "import sklearn\n",
    "from statsmodels.nonparametric.smoothers_lowess import lowess\n",
    "from sklearn.metrics import matthews_corrcoef as mcc\n",
    "from sklearn.metrics import f1_score\n",
    "import os\n",
    "import pandas as pd\n",
    "import re\n",
    "\n",
    "import matplotlib\n",
    "#matplotlib.use('TkAgg')\n",
    "\n",
    "%matplotlib inline"
   ]
  },
  {
   "cell_type": "code",
   "execution_count": 82,
   "id": "e83ad74c",
   "metadata": {},
   "outputs": [],
   "source": [
    "indexfname = '/home/lorenzo/3dunet-cavity/INDEX_refined_set.2020'\n",
    "\n",
    "bind_cons = {}\n",
    "\n",
    "mult = {\n",
    "    'mM':10**-3,\n",
    "    'uM':10**-6,\n",
    "    'nM':10**-9,\n",
    "    'pM':10**-12,\n",
    "    'fM':10**-15\n",
    "}\n",
    "\n",
    "with open(indexfname) as f:\n",
    "    for line in f.readlines():\n",
    "        try:\n",
    "            cols = line.split()\n",
    "            name = cols[0]\n",
    "            k = cols[3].split('=')\n",
    "            ktype = k[0]\n",
    "            value = k[1]\n",
    "            numeric = {*{str(x) for x in range(10)}, *{'.'}}\n",
    "            num = ''.join(c for c in value if c in numeric)\n",
    "            units = ''.join(c for c in value if c not in num)\n",
    "            bind_cons[name] = float(num) * mult[units]\n",
    "        except IndexError:\n",
    "            pass"
   ]
  },
  {
   "cell_type": "code",
   "execution_count": 2,
   "id": "6db3abb4",
   "metadata": {},
   "outputs": [],
   "source": [
    "def yieldData(predbase, testData):\n",
    "\n",
    "    for fname in glob.glob(f'{testData}/*/*_pocket.pdb'):\n",
    "        pocketfname = Path(fname)\n",
    "        name = pocketfname.parent.name\n",
    "        predfname = f'{predbase}/{name}/pocket_pred.pdb'\n",
    "        pdbfname = f'{testData}/{name}/{name}_selected.pdb'\n",
    "\n",
    "        \n",
    "        pocket = prody.parsePDB(pocketfname)\n",
    "        structure = prody.parsePDB(pdbfname)\n",
    "        \n",
    "        size = len(structure)\n",
    "\n",
    "        try:\n",
    "            pred = prody.parsePDB(predfname)\n",
    "            yield name, (structure, pred, pocket), size\n",
    "            \n",
    "        except OSError:\n",
    "            if os.path.exists(predfname+'.empty'):\n",
    "                print(f'No pockets predicted for {name}, {predbase}')\n",
    "                yield name, (structure, None, pocket), size\n",
    "            else:\n",
    "                print(f'Prediction for name {name} was not found')\n",
    "        \n",
    "\n",
    "        \n",
    "def calcMetric(pred, pocket, structure, scoref):\n",
    "    if pred is None:\n",
    "        prednums = set()\n",
    "    else:\n",
    "        prednums = set(t.getResnum() for t in pred.iterResidues())\n",
    "    truenums = set(t.getResnum() for t in pocket.iterResidues())\n",
    "    allnums = set(t.getResnum() for t in structure.iterResidues())\n",
    "\n",
    "    tp = 0\n",
    "    tn = 0\n",
    "    fp = 0\n",
    "    fn = 0\n",
    "\n",
    "    y_true = []\n",
    "    y_pred = []\n",
    "\n",
    "    for num in allnums:\n",
    "        if num not in prednums and num not in truenums:\n",
    "            tn += 1\n",
    "            y_pred.append(-1)\n",
    "            y_true.append(-1)\n",
    "        elif num not in prednums and num in truenums:\n",
    "            fn += 1\n",
    "            y_pred.append(-1)\n",
    "            y_true.append(1)\n",
    "        elif num in prednums and num not in truenums:\n",
    "            fp += 1\n",
    "            y_pred.append(1)\n",
    "            y_true.append(-1)\n",
    "        elif num in prednums and num in truenums:\n",
    "            tp += 1\n",
    "            y_pred.append(1)\n",
    "            y_true.append(1)\n",
    "        else:\n",
    "            raise Exception\n",
    "\n",
    "    return scoref(y_true, y_pred)\n",
    "\n",
    "def scoresFromGen(gen):\n",
    "    names = []\n",
    "    mcc_scores = []\n",
    "    f_scores = []\n",
    "    for (name, (structure, pred, pocket), size) in gen:\n",
    "        yield name, (calcMetric(pred, pocket, structure, f1_score), calcMetric(pred, pocket, structure, mcc)), size"
   ]
  },
  {
   "cell_type": "code",
   "execution_count": 3,
   "id": "2e703f52",
   "metadata": {},
   "outputs": [],
   "source": [
    "testData = f'/home/lorenzo/3dunet-cavity/procData_210821'\n",
    "\n",
    "predname = '210914_features_rot_log'\n",
    "predbase = f'/home/lorenzo/3dunet-cavity/runs/{predname}/predictions'\n",
    "\n",
    "predbaseKala = '/home/lorenzo/kalasanty/predictions_210821'"
   ]
  },
  {
   "cell_type": "code",
   "execution_count": 4,
   "id": "c9fd810c",
   "metadata": {},
   "outputs": [
    {
     "name": "stderr",
     "output_type": "stream",
     "text": [
      "/home/lorenzo/miniconda3/envs/apbs/lib/python3.8/site-packages/sklearn/metrics/_classification.py:873: RuntimeWarning: invalid value encountered in double_scalars\n",
      "  mcc = cov_ytyp / np.sqrt(cov_ytyt * cov_ypyp)\n"
     ]
    },
    {
     "name": "stdout",
     "output_type": "stream",
     "text": [
      "No pockets predicted for 2jdu, /home/lorenzo/kalasanty/predictions_210821\n",
      "No pockets predicted for 4pf5, /home/lorenzo/kalasanty/predictions_210821\n"
     ]
    },
    {
     "name": "stderr",
     "output_type": "stream",
     "text": [
      "/home/lorenzo/miniconda3/envs/apbs/lib/python3.8/site-packages/sklearn/metrics/_classification.py:873: RuntimeWarning: invalid value encountered in double_scalars\n",
      "  mcc = cov_ytyp / np.sqrt(cov_ytyt * cov_ypyp)\n",
      "/home/lorenzo/miniconda3/envs/apbs/lib/python3.8/site-packages/sklearn/metrics/_classification.py:873: RuntimeWarning: invalid value encountered in double_scalars\n",
      "  mcc = cov_ytyp / np.sqrt(cov_ytyt * cov_ypyp)\n"
     ]
    },
    {
     "name": "stdout",
     "output_type": "stream",
     "text": [
      "No pockets predicted for 3t1a, /home/lorenzo/kalasanty/predictions_210821\n"
     ]
    },
    {
     "name": "stderr",
     "output_type": "stream",
     "text": [
      "/home/lorenzo/miniconda3/envs/apbs/lib/python3.8/site-packages/sklearn/metrics/_classification.py:873: RuntimeWarning: invalid value encountered in double_scalars\n",
      "  mcc = cov_ytyp / np.sqrt(cov_ytyt * cov_ypyp)\n"
     ]
    },
    {
     "name": "stdout",
     "output_type": "stream",
     "text": [
      "No pockets predicted for 4l9i, /home/lorenzo/kalasanty/predictions_210821\n"
     ]
    },
    {
     "name": "stderr",
     "output_type": "stream",
     "text": [
      "/home/lorenzo/miniconda3/envs/apbs/lib/python3.8/site-packages/sklearn/metrics/_classification.py:873: RuntimeWarning: invalid value encountered in double_scalars\n",
      "  mcc = cov_ytyp / np.sqrt(cov_ytyt * cov_ypyp)\n"
     ]
    },
    {
     "name": "stdout",
     "output_type": "stream",
     "text": [
      "No pockets predicted for 5f8y, /home/lorenzo/kalasanty/predictions_210821\n"
     ]
    },
    {
     "name": "stderr",
     "output_type": "stream",
     "text": [
      "/home/lorenzo/miniconda3/envs/apbs/lib/python3.8/site-packages/sklearn/metrics/_classification.py:873: RuntimeWarning: invalid value encountered in double_scalars\n",
      "  mcc = cov_ytyp / np.sqrt(cov_ytyt * cov_ypyp)\n"
     ]
    },
    {
     "name": "stdout",
     "output_type": "stream",
     "text": [
      "No pockets predicted for 4b73, /home/lorenzo/kalasanty/predictions_210821\n"
     ]
    },
    {
     "name": "stderr",
     "output_type": "stream",
     "text": [
      "/home/lorenzo/miniconda3/envs/apbs/lib/python3.8/site-packages/sklearn/metrics/_classification.py:873: RuntimeWarning: invalid value encountered in double_scalars\n",
      "  mcc = cov_ytyp / np.sqrt(cov_ytyt * cov_ypyp)\n",
      "/home/lorenzo/miniconda3/envs/apbs/lib/python3.8/site-packages/sklearn/metrics/_classification.py:873: RuntimeWarning: invalid value encountered in double_scalars\n",
      "  mcc = cov_ytyp / np.sqrt(cov_ytyt * cov_ypyp)\n"
     ]
    },
    {
     "name": "stdout",
     "output_type": "stream",
     "text": [
      "No pockets predicted for 5wxh, /home/lorenzo/kalasanty/predictions_210821\n"
     ]
    },
    {
     "name": "stderr",
     "output_type": "stream",
     "text": [
      "/home/lorenzo/miniconda3/envs/apbs/lib/python3.8/site-packages/sklearn/metrics/_classification.py:873: RuntimeWarning: invalid value encountered in double_scalars\n",
      "  mcc = cov_ytyp / np.sqrt(cov_ytyt * cov_ypyp)\n"
     ]
    },
    {
     "name": "stdout",
     "output_type": "stream",
     "text": [
      "No pockets predicted for 1pgp, /home/lorenzo/kalasanty/predictions_210821\n"
     ]
    },
    {
     "name": "stderr",
     "output_type": "stream",
     "text": [
      "/home/lorenzo/miniconda3/envs/apbs/lib/python3.8/site-packages/sklearn/metrics/_classification.py:873: RuntimeWarning: invalid value encountered in double_scalars\n",
      "  mcc = cov_ytyp / np.sqrt(cov_ytyt * cov_ypyp)\n"
     ]
    },
    {
     "name": "stdout",
     "output_type": "stream",
     "text": [
      "No pockets predicted for 2epn, /home/lorenzo/kalasanty/predictions_210821\n"
     ]
    },
    {
     "name": "stderr",
     "output_type": "stream",
     "text": [
      "/home/lorenzo/miniconda3/envs/apbs/lib/python3.8/site-packages/sklearn/metrics/_classification.py:873: RuntimeWarning: invalid value encountered in double_scalars\n",
      "  mcc = cov_ytyp / np.sqrt(cov_ytyt * cov_ypyp)\n"
     ]
    },
    {
     "name": "stdout",
     "output_type": "stream",
     "text": [
      "No pockets predicted for 4rd6, /home/lorenzo/kalasanty/predictions_210821\n"
     ]
    },
    {
     "name": "stderr",
     "output_type": "stream",
     "text": [
      "/home/lorenzo/miniconda3/envs/apbs/lib/python3.8/site-packages/sklearn/metrics/_classification.py:873: RuntimeWarning: invalid value encountered in double_scalars\n",
      "  mcc = cov_ytyp / np.sqrt(cov_ytyt * cov_ypyp)\n"
     ]
    }
   ],
   "source": [
    "resOurs = list(scoresFromGen(yieldData(predbase, testData)))\n",
    "resTheirs = list(scoresFromGen(yieldData(predbaseKala, testData)))"
   ]
  },
  {
   "cell_type": "code",
   "execution_count": 5,
   "id": "6d36a1e6",
   "metadata": {},
   "outputs": [],
   "source": [
    "# Our F scores\n",
    "\n",
    "codes = [code for code,_,_ in resOurs]\n",
    "sizes = [size for _,_,size in resOurs]\n",
    "scores = [score for _,(score,_),_ in resOurs]"
   ]
  },
  {
   "cell_type": "code",
   "execution_count": 86,
   "id": "63da4ccb",
   "metadata": {},
   "outputs": [
    {
     "data": {
      "text/plain": [
       "Text(0, 0.5, 'f score')"
      ]
     },
     "execution_count": 86,
     "metadata": {},
     "output_type": "execute_result"
    },
    {
     "data": {
      "image/png": "[encoded data removed]",
      "text/plain": [
       "<Figure size 432x288 with 1 Axes>"
      ]
     },
     "metadata": {
      "needs_background": "light"
     },
     "output_type": "display_data"
    }
   ],
   "source": [
    "logkds = [np.log(bind_cons[code]) for code in codes]\n",
    "\n",
    "ys = lowess(scores, logkds)\n",
    "plt.scatter(logkds,scores)\n",
    "plt.plot(ys[:,0],ys[:,1], c='g')\n",
    "plt.grid(b=1)\n",
    "plt.xlabel('log(Kd)')\n",
    "plt.ylabel('f score')"
   ]
  },
  {
   "cell_type": "code",
   "execution_count": 89,
   "id": "f4ee67da",
   "metadata": {},
   "outputs": [
    {
     "data": {
      "text/plain": [
       "Text(0, 0.5, 'f score')"
      ]
     },
     "execution_count": 89,
     "metadata": {},
     "output_type": "execute_result"
    },
    {
     "data": {
      "image/png": "[encoded data removed]",
      "text/plain": [
       "<Figure size 432x288 with 1 Axes>"
      ]
     },
     "metadata": {
      "needs_background": "light"
     },
     "output_type": "display_data"
    }
   ],
   "source": [
    "ys = lowess(scores, np.log(sizes))\n",
    "plt.scatter(np.log(sizes),scores)\n",
    "plt.plot(ys[:,0],ys[:,1], c='g')\n",
    "plt.grid(b=1)\n",
    "plt.xlabel('log # residues')\n",
    "plt.ylabel('f score')"
   ]
  },
  {
   "cell_type": "code",
   "execution_count": 7,
   "id": "93a86639",
   "metadata": {},
   "outputs": [
    {
     "data": {
      "text/plain": [
       "[('4q19', 0.619718309859155),\n",
       " ('1sw2', 0.5454545454545454),\n",
       " ('4bcn', 0.5454545454545454),\n",
       " ('4da5', 0.6538461538461539),\n",
       " ('2q89', 0.6037735849056604),\n",
       " ('2wca', 0.7241379310344828),\n",
       " ('5yhe', 0.5882352941176471),\n",
       " ('5vi6', 0.07692307692307691),\n",
       " ('5hjq', 0.375),\n",
       " ('3fjg', 0.6),\n",
       " ('2vb8', 0.6896551724137931),\n",
       " ('1lnm', 0.5846153846153846),\n",
       " ('6mjf', 0.3636363636363637),\n",
       " ('1rnt', 0.8108108108108109),\n",
       " ('5hcv', 0.6567164179104478),\n",
       " ('2jfz', 0.25),\n",
       " ('2x6x', 0.7142857142857143),\n",
       " ('2dw7', 0.10256410256410256),\n",
       " ('2gsu', 0.7000000000000001),\n",
       " ('2jdu', 0.8235294117647058),\n",
       " ('2yfx', 0.6792452830188678),\n",
       " ('4pf5', 0.3111111111111111),\n",
       " ('3aaq', 0.5205479452054794),\n",
       " ('1r9l', 0.5833333333333334),\n",
       " ('5ey0', 0.0),\n",
       " ('6exi', 0.5882352941176471),\n",
       " ('5fol', 0.6666666666666666),\n",
       " ('4kif', 0.5769230769230769),\n",
       " ('4g0y', 0.7368421052631579),\n",
       " ('4o6w', 0.05),\n",
       " ('2fqt', 0.6984126984126985),\n",
       " ('3ta0', 0.7936507936507937),\n",
       " ('5fnu', 0.5833333333333334),\n",
       " ('5tuz', 0.3673469387755102),\n",
       " ('4xu1', 0.7692307692307692),\n",
       " ('1tkb', 0.676470588235294),\n",
       " ('4z2b', 0.6428571428571428),\n",
       " ('3tb6', 0.49122807017543857),\n",
       " ('3x00', 0.7999999999999999),\n",
       " ('3t1a', 0.7906976744186046),\n",
       " ('3zll', 0.0),\n",
       " ('5e6o', 0.5555555555555556),\n",
       " ('4d1j', 0.6190476190476191),\n",
       " ('3b4p', 0.7272727272727273),\n",
       " ('1wc1', 0.6923076923076924),\n",
       " ('3s0e', 0.6428571428571429),\n",
       " ('2vzr', 0.5882352941176471),\n",
       " ('4l9i', 0.6885245901639345),\n",
       " ('2zx7', 0.6557377049180327),\n",
       " ('5km9', 0.5777777777777777),\n",
       " ('5er2', 0.7804878048780488),\n",
       " ('1kyv', 0.676923076923077),\n",
       " ('3rm9', 0.5714285714285715),\n",
       " ('5f8y', 0.0),\n",
       " ('4cl6', 0.7499999999999999),\n",
       " ('3oy8', 0.4878048780487805),\n",
       " ('5uxf', 0.43333333333333335),\n",
       " ('3hmp', 0.42424242424242425),\n",
       " ('2rk8', 0.5306122448979591),\n",
       " ('4ipj', 0.6538461538461539),\n",
       " ('3acl', 0.6666666666666666),\n",
       " ('2euk', 0.7608695652173912),\n",
       " ('4b73', 0.05555555555555555),\n",
       " ('4fxp', 0.6909090909090909),\n",
       " ('1ctt', 0.7796610169491525),\n",
       " ('5hbn', 0.0625),\n",
       " ('5ei3', 0.4782608695652174),\n",
       " ('5d6j', 0.619718309859155),\n",
       " ('4hws', 0.6933333333333335),\n",
       " ('1n4k', 0.5),\n",
       " ('4dkp', 0.43478260869565216),\n",
       " ('2pv1', 0.1951219512195122),\n",
       " ('5oa2', 0.3389830508474576),\n",
       " ('3axz', 0.676923076923077),\n",
       " ('4c2v', 0.6111111111111112),\n",
       " ('3p2e', 0.5897435897435898),\n",
       " ('2vk6', 0.7857142857142858),\n",
       " ('5wbm', 0.22580645161290322),\n",
       " ('5hct', 0.711864406779661),\n",
       " ('5hwv', 0.6274509803921569),\n",
       " ('1o5e', 0.7741935483870968),\n",
       " ('4non', 0.5333333333333333),\n",
       " ('6cfc', 0.03846153846153846),\n",
       " ('2yhw', 0.7719298245614036),\n",
       " ('5vij', 0.5666666666666667),\n",
       " ('3uj9', 0.5507246376811594),\n",
       " ('4loo', 0.6666666666666666),\n",
       " ('4h85', 0.47619047619047616),\n",
       " ('3wto', 0.5660377358490566),\n",
       " ('5ct2', 0.4727272727272727),\n",
       " ('4e67', 0.16216216216216214),\n",
       " ('3sw8', 0.7241379310344828),\n",
       " ('4pqa', 0.7555555555555554),\n",
       " ('5mxf', 0.0),\n",
       " ('3rlr', 0.6774193548387097),\n",
       " ('5kh3', 0.5789473684210525),\n",
       " ('1a4r', 0.5185185185185186),\n",
       " ('5laq', 0.6129032258064516),\n",
       " ('1fiv', 0.3888888888888889),\n",
       " ('3ikg', 0.7111111111111111),\n",
       " ('1t7d', 0.558139534883721),\n",
       " ('3m3c', 0.5499999999999999),\n",
       " ('2vc9', 0.6779661016949152),\n",
       " ('4q3t', 0.6785714285714285),\n",
       " ('4axd', 0.6470588235294118),\n",
       " ('4ieh', 0.8064516129032258),\n",
       " ('3kr4', 0.7692307692307693),\n",
       " ('4b3b', 0.0),\n",
       " ('2q8m', 0.5079365079365079),\n",
       " ('1qaw', 0.7924528301886793),\n",
       " ('4pb2', 0.6274509803921569),\n",
       " ('4b8y', 0.2222222222222222),\n",
       " ('5t7s', 0.4347826086956522),\n",
       " ('4bc5', 0.5),\n",
       " ('2fxv', 0.7000000000000001),\n",
       " ('3nyd', 0.49122807017543857),\n",
       " ('3e5a', 0.684931506849315),\n",
       " ('4nnr', 0.6956521739130436),\n",
       " ('6gzd', 0.7857142857142858),\n",
       " ('4aia', 0.42857142857142855),\n",
       " ('5x62', 0.6764705882352942),\n",
       " ('3h8b', 0.5294117647058822),\n",
       " ('4ezx', 0.0),\n",
       " ('2wjg', 0.6046511627906976),\n",
       " ('6hh3', 0.8571428571428571),\n",
       " ('5kly', 0.7547169811320756),\n",
       " ('4pft', 0.65625),\n",
       " ('5ayt', 0.7407407407407408),\n",
       " ('5f0f', 0.625),\n",
       " ('4jpy', 0.05714285714285714),\n",
       " ('5ewk', 0.5964912280701755),\n",
       " ('3arx', 0.2857142857142857),\n",
       " ('1ceb', 0.5806451612903226),\n",
       " ('5wxh', 0.18749999999999997),\n",
       " ('3w9k', 0.6557377049180327),\n",
       " ('6evn', 0.6451612903225806),\n",
       " ('2pqb', 0.8000000000000002),\n",
       " ('2v54', 0.5882352941176471),\n",
       " ('2q8h', 0.5263157894736842),\n",
       " ('5uk8', 0.14285714285714288),\n",
       " ('2i80', 0.5901639344262295),\n",
       " ('1dy4', 0.6197183098591549),\n",
       " ('1l83', 0.11320754716981131),\n",
       " ('5tcy', 0.30188679245283023),\n",
       " ('5h1u', 0.4166666666666667),\n",
       " ('5yz2', 0.8108108108108109),\n",
       " ('5dxt', 0.13559322033898305),\n",
       " ('4qdk', 0.6753246753246753),\n",
       " ('5vd2', 0.5074626865671642),\n",
       " ('5b25', 0.5538461538461539),\n",
       " ('5g1a', 0.6153846153846153),\n",
       " ('2d0k', 0.5970149253731344),\n",
       " ('3v2n', 0.45454545454545453),\n",
       " ('2e2p', 0.22535211267605632),\n",
       " ('4pzv', 0.0),\n",
       " ('5v79', 0.7333333333333334),\n",
       " ('1dqn', 0.6666666666666666),\n",
       " ('4trc', 0.391304347826087),\n",
       " ('5ldp', 0.5333333333333333),\n",
       " ('1wuq', 0.6060606060606061),\n",
       " ('3fur', 0.6233766233766235),\n",
       " ('2ews', 0.5538461538461539),\n",
       " ('2jjb', 0.7142857142857143),\n",
       " ('4gbd', 0.8181818181818182),\n",
       " ('1pgp', 0.9361702127659574),\n",
       " ('5g1z', 0.16326530612244897),\n",
       " ('2gyi', 0.6399999999999999),\n",
       " ('2h21', 0.5797101449275361),\n",
       " ('5d0r', 0.5333333333333333),\n",
       " ('1wn6', 0.7727272727272727),\n",
       " ('5fsx', 0.7000000000000001),\n",
       " ('6g35', 0.59375),\n",
       " ('2am4', 0.5588235294117647),\n",
       " ('6ayi', 0.6551724137931034),\n",
       " ('1o1s', 0.5405405405405406),\n",
       " ('5ko1', 0.6969696969696969),\n",
       " ('3ocz', 0.6666666666666666),\n",
       " ('4ge1', 0.5675675675675675),\n",
       " ('4tte', 0.5652173913043478),\n",
       " ('3o9p', 0.761904761904762),\n",
       " ('1m48', 0.3414634146341463),\n",
       " ('5yas', 0.6666666666666666),\n",
       " ('4keq', 0.5833333333333334),\n",
       " ('1f74', 0.3333333333333333),\n",
       " ('1ua4', 0.5542168674698796),\n",
       " ('5gja', 0.5333333333333333),\n",
       " ('4r75', 0.787878787878788),\n",
       " ('5tcj', 0.09374999999999999),\n",
       " ('2epn', 0.7272727272727273),\n",
       " ('5kbe', 0.6976744186046512),\n",
       " ('1moq', 0.15094339622641512),\n",
       " ('1oba', 0.0),\n",
       " ('5ovx', 0.5),\n",
       " ('1h2k', 0.6956521739130436),\n",
       " ('4eb8', 0.6666666666666666),\n",
       " ('4jwk', 0.6046511627906976),\n",
       " ('5mn1', 0.5818181818181818),\n",
       " ('5ouh', 0.627450980392157),\n",
       " ('1g30', 0.6885245901639344),\n",
       " ('4rd6', 0.0),\n",
       " ('4gzx', 0.8518518518518519),\n",
       " ('4mo4', 0.1568627450980392),\n",
       " ('5ovp', 0.06896551724137931),\n",
       " ('5n1z', 0.5499999999999999),\n",
       " ('4qrh', 0.7666666666666667),\n",
       " ('2w9h', 0.6285714285714286),\n",
       " ('1x8d', 0.7555555555555554),\n",
       " ('4jal', 0.7333333333333334),\n",
       " ('2vmc', 0.0),\n",
       " ('5sym', 0.6875000000000001),\n",
       " ('5dnu', 0.5714285714285715)]"
      ]
     },
     "execution_count": 7,
     "metadata": {},
     "output_type": "execute_result"
    }
   ],
   "source": [
    "list(zip(codes,scores))"
   ]
  },
  {
   "cell_type": "code",
   "execution_count": 8,
   "id": "f844e95f",
   "metadata": {},
   "outputs": [
    {
     "data": {
      "text/plain": [
       "{'2yfx': ((0.6792452830188678, 0.6661754945554865),\n",
       "  (0.5106382978723405, 0.4714942324003128)),\n",
       " '6g35': ((0.59375, 0.6227432261696311),\n",
       "  (0.6666666666666666, 0.6669392173152435)),\n",
       " '1pgp': ((0.9361702127659574, 0.9330686366606287), (0.0, 0.0)),\n",
       " '3p2e': ((0.5897435897435898, 0.541453657486834),\n",
       "  (0.0, -0.09478220329632557)),\n",
       " '3nyd': ((0.49122807017543857, 0.5412121560827023),\n",
       "  (0.5098039215686275, 0.5421237760064133)),\n",
       " '4pqa': ((0.7555555555555554, 0.7671294738756601),\n",
       "  (0.7647058823529412, 0.7535326979953992)),\n",
       " '5yz2': ((0.8108108108108109, 0.791335061857001),\n",
       "  (0.21052631578947367, 0.2559239653166382)),\n",
       " '5gja': ((0.5333333333333333, 0.5724143669727942),\n",
       "  (0.6274509803921569, 0.6530323783922757)),\n",
       " '5ldp': ((0.5333333333333333, 0.5424627182360618),\n",
       "  (0.0, -0.06200131873438054)),\n",
       " '3wto': ((0.5660377358490566, 0.5892394133539062),\n",
       "  (0.14285714285714285, 0.057241221486376385)),\n",
       " '6evn': ((0.6451612903225806, 0.6432979088622046),\n",
       "  (0.6923076923076923, 0.6700036675495997)),\n",
       " '4b73': ((0.05555555555555555, 0.009409244463657072), (0.0, 0.0)),\n",
       " '4jal': ((0.7333333333333334, 0.6941615585440246),\n",
       "  (0.8095238095238096, 0.7913791286064908)),\n",
       " '4ipj': ((0.6538461538461539, 0.6778923710469793),\n",
       "  (0.6296296296296297, 0.657226686141743)),\n",
       " '4r75': ((0.787878787878788, 0.786661055625837),\n",
       "  (0.04878048780487805, -0.012257092199811127)),\n",
       " '2fqt': ((0.6984126984126985, 0.6658297073585127),\n",
       "  (0.7666666666666667, 0.7451099090488748)),\n",
       " '3e5a': ((0.684931506849315, 0.6771301743531142), (0.75, 0.7229391750003547)),\n",
       " '5b25': ((0.5538461538461539, 0.5388824334112032),\n",
       "  (0.48275862068965525, 0.44756401234963217)),\n",
       " '2epn': ((0.7272727272727273, 0.7484195318914648), (0.0, 0.0)),\n",
       " '1dqn': ((0.6666666666666666, 0.6745193127832112),\n",
       "  (0.6818181818181819, 0.6563296241851247)),\n",
       " '5ey0': ((0.0, -0.09930420492387221), (0.0, -0.06072628528652461)),\n",
       " '1fiv': ((0.3888888888888889, 0.43735765413646316),\n",
       "  (0.43478260869565216, 0.4221340562842295)),\n",
       " '5g1z': ((0.16326530612244897, 0.11848097694604587),\n",
       "  (0.0, -0.048970756058274036)),\n",
       " '5ouh': ((0.627450980392157, 0.6268223101006732),\n",
       "  (0.05714285714285714, -0.030793633220923242)),\n",
       " '4pf5': ((0.3111111111111111, 0.2962438988627256), (0.0, 0.0)),\n",
       " '4l9i': ((0.6885245901639345, 0.7101745039685362), (0.0, 0.0)),\n",
       " '2zx7': ((0.6557377049180327, 0.6709594430353778),\n",
       "  (0.7346938775510204, 0.7278128778333739)),\n",
       " '5dxt': ((0.13559322033898305, 0.10869064985620533),\n",
       "  (0.0, -0.019710772154903317)),\n",
       " '5hjq': ((0.375, 0.41021299179703113), (0.0, -0.056721380487319305)),\n",
       " '4bc5': ((0.5, 0.5636562191028618), (0.7499999999999999, 0.7685213074469699)),\n",
       " '6gzd': ((0.7857142857142858, 0.786653373101371),\n",
       "  (0.8095238095238095, 0.7961119417686905)),\n",
       " '3aaq': ((0.5205479452054794, 0.48955121816931857),\n",
       "  (0.5423728813559322, 0.5026058745937014)),\n",
       " '2vb8': ((0.6896551724137931, 0.6987592602757465),\n",
       "  (0.7692307692307692, 0.7600554308082809)),\n",
       " '5km9': ((0.5777777777777777, 0.5028299685740515),\n",
       "  (0.8888888888888888, 0.8695954479696555)),\n",
       " '1ceb': ((0.5806451612903226, 0.5771627873632214),\n",
       "  (0.8571428571428571, 0.8472645058404977)),\n",
       " '4non': ((0.5333333333333333, 0.5104002109504024),\n",
       "  (0.0, -0.06309831882601742)),\n",
       " '1wuq': ((0.6060606060606061, 0.5365522987692208),\n",
       "  (0.05405405405405406, -0.03166592062533745)),\n",
       " '3zll': ((0.0, -0.0806920400665578), (0.0, -0.041959067914834454)),\n",
       " '5t7s': ((0.4347826086956522, 0.4739970491621009),\n",
       "  (0.5925925925925927, 0.5778854650707658)),\n",
       " '5kbe': ((0.6976744186046512, 0.7055954271622642),\n",
       "  (0.10256410256410255, 0.011161033466795488)),\n",
       " '5er2': ((0.7804878048780488, 0.753299094023548),\n",
       "  (0.8648648648648649, 0.8471970203418967)),\n",
       " '4qrh': ((0.7666666666666667, 0.7538108565778362),\n",
       "  (0.6274509803921569, 0.5726157202728149)),\n",
       " '1r9l': ((0.5833333333333334, 0.619555045686896),\n",
       "  (0.7567567567567568, 0.768196118413051)),\n",
       " '3x00': ((0.7999999999999999, 0.7749520320028254),\n",
       "  (0.7222222222222222, 0.67665160736894)),\n",
       " '3oy8': ((0.4878048780487805, 0.517209726189928), (0.6, 0.5979823740165809)),\n",
       " '2pv1': ((0.1951219512195122, 0.06886874053839753),\n",
       "  (0.16666666666666666, 0.06011470308353028)),\n",
       " '4pft': ((0.65625, 0.6837762989762398),\n",
       "  (0.42105263157894735, 0.476744385891635)),\n",
       " '5vd2': ((0.5074626865671642, 0.5015585522701544),\n",
       "  (0.5185185185185185, 0.48696418590408025)),\n",
       " '4q19': ((0.619718309859155, 0.6129162366791003),\n",
       "  (0.6984126984126985, 0.6878760347820342)),\n",
       " '5uxf': ((0.43333333333333335, 0.3958349097059406),\n",
       "  (0.0, -0.0468370725042226)),\n",
       " '1kyv': ((0.676923076923077, 0.6524372909365705),\n",
       "  (0.8076923076923077, 0.7811777612289629)),\n",
       " '2vk6': ((0.7857142857142858, 0.7929891641226299),\n",
       "  (0.0, -0.04912467092860838)),\n",
       " '5wbm': ((0.22580645161290322, 0.16233738908822296),\n",
       "  (0.29629629629629634, 0.24216050482649165)),\n",
       " '6ayi': ((0.6551724137931034, 0.6540392607455785),\n",
       "  (0.8636363636363636, 0.8556840082362294)),\n",
       " '1sw2': ((0.5454545454545454, 0.5815799980377996),\n",
       "  (0.7058823529411765, 0.6918757424376261)),\n",
       " '2fxv': ((0.7000000000000001, 0.6936213703245888),\n",
       "  (0.7017543859649122, 0.6862463343243385)),\n",
       " '1m48': ((0.3414634146341463, 0.24285797269836548),\n",
       "  (0.08333333333333333, -0.012945905509298623)),\n",
       " '3axz': ((0.676923076923077, 0.6801232952330777),\n",
       "  (0.7200000000000001, 0.6943431471528947)),\n",
       " '2q89': ((0.6037735849056604, 0.6282926054563274),\n",
       "  (0.7692307692307693, 0.7654407656447454)),\n",
       " '3hmp': ((0.42424242424242425, 0.4431298158481092),\n",
       "  (0.4680851063829787, 0.44866835653773096)),\n",
       " '5tcy': ((0.30188679245283023, 0.2997658247389885),\n",
       "  (0.34782608695652173, 0.34201657235840927)),\n",
       " '4dkp': ((0.43478260869565216, 0.4311275569654093),\n",
       "  (0.8000000000000002, 0.7874608150470219)),\n",
       " '2jfz': ((0.25, 0.18563301917298686), (0.0, -0.052712762982891744)),\n",
       " '5g1a': ((0.6153846153846153, 0.6475055645248553),\n",
       "  (0.6666666666666667, 0.6795287079872531)),\n",
       " '5ko1': ((0.6969696969696969, 0.7004844428948093),\n",
       "  (0.75, 0.7362260889786937)),\n",
       " '2gsu': ((0.7000000000000001, 0.7152713056588481),\n",
       "  (0.634920634920635, 0.6495174679988132)),\n",
       " '6hh3': ((0.8571428571428571, 0.8465092919992411),\n",
       "  (0.0, -0.05941464335858274)),\n",
       " '3arx': ((0.2857142857142857, 0.3056202587287126),\n",
       "  (0.43749999999999994, 0.49714580067640407)),\n",
       " '1tkb': ((0.676470588235294, 0.671602863670236),\n",
       "  (0.7924528301886793, 0.7854023941400566)),\n",
       " '4loo': ((0.6666666666666666, 0.6792788478131935),\n",
       "  (0.6666666666666667, 0.6519857441852178)),\n",
       " '3t1a': ((0.7906976744186046, 0.7824807757697823), (0.0, 0.0)),\n",
       " '5hwv': ((0.6274509803921569, 0.613774858331275),\n",
       "  (0.967741935483871, 0.9637941079757686)),\n",
       " '5x62': ((0.6764705882352942, 0.6834139928951471),\n",
       "  (0.7540983606557377, 0.7538484696476938)),\n",
       " '4g0y': ((0.7368421052631579, 0.7105866446799446),\n",
       "  (0.64, 0.6396218043974834)),\n",
       " '4da5': ((0.6538461538461539, 0.6779500016157767),\n",
       "  (0.21428571428571427, 0.18801797900560543)),\n",
       " '5oa2': ((0.3389830508474576, 0.29868716916879573),\n",
       "  (0.5714285714285715, 0.6024105369336608)),\n",
       " '3w9k': ((0.6557377049180327, 0.616678877015055),\n",
       "  (0.8292682926829269, 0.7990524381753092)),\n",
       " '5e6o': ((0.5555555555555556, 0.5719290198427753),\n",
       "  (0.0, -0.14298225496069383)),\n",
       " '3s0e': ((0.6428571428571429, 0.6163484054954212),\n",
       "  (0.7555555555555556, 0.7232711335067522)),\n",
       " '4c2v': ((0.6111111111111112, 0.5945097316237621),\n",
       "  (0.14814814814814817, 0.0681850200329168)),\n",
       " '2pqb': ((0.8000000000000002, 0.7973227841769766),\n",
       "  (0.8000000000000002, 0.7973227841769766)),\n",
       " '4cl6': ((0.7499999999999999, 0.7242068243779014),\n",
       "  (0.912280701754386, 0.8964635911812799)),\n",
       " '4pb2': ((0.6274509803921569, 0.6593610510044841),\n",
       "  (0.9142857142857143, 0.9141083852526177)),\n",
       " '5hcv': ((0.6567164179104478, 0.6605639681143108),\n",
       "  (0.049999999999999996, -0.03722521855282973)),\n",
       " '2vc9': ((0.6779661016949152, 0.7081879286729557),\n",
       "  (0.0, -0.01932251840263145)),\n",
       " '4qdk': ((0.6753246753246753, 0.6396993843370014),\n",
       "  (0.5882352941176471, 0.5430125955842234)),\n",
       " '4axd': ((0.6470588235294118, 0.6710687204354041),\n",
       "  (0.6885245901639344, 0.6986359631630848)),\n",
       " '2am4': ((0.5588235294117647, 0.5516802789841359),\n",
       "  (0.0, -0.05120380436136782)),\n",
       " '1a4r': ((0.5185185185185186, 0.49775523203846556),\n",
       "  (0.6666666666666667, 0.6357374341840732)),\n",
       " '6cfc': ((0.03846153846153846, -0.011840221686616371),\n",
       "  (0.0, -0.029545948726218928)),\n",
       " '4z2b': ((0.6428571428571428, 0.6437901315408092),\n",
       "  (0.5957446808510638, 0.5773291723078083)),\n",
       " '3ikg': ((0.7111111111111111, 0.6758583272382469),\n",
       "  (0.0, -0.12379224220753589)),\n",
       " '3v2n': ((0.45454545454545453, 0.45374260648651504),\n",
       "  (0.4347826086956522, 0.4330127018922193)),\n",
       " '5sym': ((0.6875000000000001, 0.6867963112755561),\n",
       "  (0.0, -0.07168421108051001)),\n",
       " '1rnt': ((0.8108108108108109, 0.7925856626803279),\n",
       "  (0.07407407407407407, -0.06260203092259642)),\n",
       " '5fnu': ((0.5833333333333334, 0.6045651400735912),\n",
       "  (0.5, 0.49050443909780655)),\n",
       " '4d1j': ((0.6190476190476191, 0.6450549514661205),\n",
       "  (0.9032258064516129, 0.9048886834366782)),\n",
       " '5ovx': ((0.5, 0.4750753565775061), (0.0, -0.05892556509887895)),\n",
       " '1dy4': ((0.6197183098591549, 0.6476762942659161),\n",
       "  (0.04878048780487805, 0.001778615352368379)),\n",
       " '4trc': ((0.391304347826087, 0.45737204679471744),\n",
       "  (0.3870967741935484, 0.38805700005813276)),\n",
       " '5mn1': ((0.5818181818181818, 0.5882836683127962),\n",
       "  (0.6538461538461539, 0.6653164840335855)),\n",
       " '3h8b': ((0.5294117647058822, 0.4413741510778726),\n",
       "  (0.6785714285714286, 0.6458252914186307)),\n",
       " '4gbd': ((0.8181818181818182, 0.8146079479621304),\n",
       "  (0.8474576271186439, 0.8376375734715008)),\n",
       " '4hws': ((0.6933333333333335, 0.6916366337295157),\n",
       "  (0.7666666666666666, 0.750228265845258)),\n",
       " '5mxf': ((0.0, -0.0675536236148148), (0.0, -0.0692377343236081)),\n",
       " '3fur': ((0.6233766233766235, 0.6294651817966896),\n",
       "  (0.55, 0.5429954019769822)),\n",
       " '6mjf': ((0.3636363636363637, 0.33114650968623066),\n",
       "  (0.3870967741935484, 0.33804848269421023)),\n",
       " '1wc1': ((0.6923076923076924, 0.6481189239135698),\n",
       "  (0.76, 0.7257394225858529)),\n",
       " '5yas': ((0.6666666666666666, 0.681494788273186),\n",
       "  (0.7906976744186047, 0.7932366180107941)),\n",
       " '1qaw': ((0.7924528301886793, 0.7133922984085065),\n",
       "  (0.8181818181818182, 0.7367166488157183)),\n",
       " '3rm9': ((0.5714285714285715, 0.6110705378399997),\n",
       "  (0.48484848484848486, 0.5383878674755546)),\n",
       " '5n1z': ((0.5499999999999999, 0.4909059605785198),\n",
       "  (0.0, -0.09154903633375856)),\n",
       " '2dw7': ((0.10256410256410256, 0.05512724578337721),\n",
       "  (0.06060606060606061, 0.02013585282176178)),\n",
       " '4h85': ((0.47619047619047616, 0.5261336417646564),\n",
       "  (0.0, -0.05190311418685121)),\n",
       " '4eb8': ((0.6666666666666666, 0.6772345358451187),\n",
       "  (0.8333333333333333, 0.8216947062312632)),\n",
       " '4e67': ((0.16216216216216214, 0.17112791665007165),\n",
       "  (0.0, -0.05630532705768135)),\n",
       " '4jwk': ((0.6046511627906976, 0.6264243030146638),\n",
       "  (0.4827586206896552, 0.4440089017395818)),\n",
       " '4mo4': ((0.1568627450980392, 0.10850282432138385),\n",
       "  (0.12121212121212122, 0.07715373569150903)),\n",
       " '5dnu': ((0.5714285714285715, 0.605638851934329),\n",
       "  (0.717948717948718, 0.7318826230435065)),\n",
       " '4ge1': ((0.5675675675675675, 0.5686450468700693), (0.6, 0.5996715028497263)),\n",
       " '2rk8': ((0.5306122448979591, 0.5894684799481642),\n",
       "  (0.5531914893617021, 0.6075922621281246)),\n",
       " '4kif': ((0.5769230769230769, 0.6144377786104821),\n",
       "  (0.5490196078431373, 0.5773519453480912)),\n",
       " '5f8y': ((0.0, -0.10465437877927868), (0.0, 0.0)),\n",
       " '4keq': ((0.5833333333333334, 0.6161132917210066),\n",
       "  (0.6222222222222222, 0.6493250217502539)),\n",
       " '4jpy': ((0.05714285714285714, -0.04032951375768499),\n",
       "  (0.6363636363636364, 0.6318275823092588)),\n",
       " '1ua4': ((0.5542168674698796, 0.572922737077632),\n",
       "  (0.0, -0.03622845997970811)),\n",
       " '3b4p': ((0.7272727272727273, 0.7136643259868994),\n",
       "  (0.10000000000000002, -0.030434782608695653)),\n",
       " '4b8y': ((0.2222222222222222, 0.33325032166890745),\n",
       "  (0.1904761904761905, 0.30166936112054216)),\n",
       " '5v79': ((0.7333333333333334, 0.7355158778417887),\n",
       "  (0.6545454545454545, 0.6322644083390593)),\n",
       " '2e2p': ((0.22535211267605632, 0.16298341368363195),\n",
       "  (0.1724137931034483, 0.09849336880461805)),\n",
       " '3fjg': ((0.6, 0.6166698388447786), (0.631578947368421, 0.645007495736132)),\n",
       " '3m3c': ((0.5499999999999999, 0.5375145438146728),\n",
       "  (0.625, 0.5977052772375457)),\n",
       " '3o9p': ((0.761904761904762, 0.7678426436656028),\n",
       "  (0.6736842105263158, 0.6891487206711544)),\n",
       " '5tcj': ((0.09374999999999999, 0.03839782891337447),\n",
       "  (0.4347826086956522, 0.47122982741968855)),\n",
       " '3kr4': ((0.7692307692307693, 0.7721283961085101),\n",
       "  (0.7906976744186047, 0.8013116837757355)),\n",
       " '5wxh': ((0.18749999999999997, -0.05593362830739303), (0.0, 0.0)),\n",
       " '5fol': ((0.6666666666666666, 0.6381561868086821),\n",
       "  (0.7499999999999999, 0.7268036560898464)),\n",
       " '4gzx': ((0.8518518518518519, 0.851864944826632),\n",
       "  (0.0, -0.04856749481906371)),\n",
       " '5d0r': ((0.5333333333333333, 0.5836988441862299),\n",
       "  (0.0, -0.034852515603774246)),\n",
       " '1g30': ((0.6885245901639344, 0.6632279414527595),\n",
       "  (0.0, -0.06920518032979132)),\n",
       " '1o5e': ((0.7741935483870968, 0.7483382527259936),\n",
       "  (0.761904761904762, 0.7354309813403119)),\n",
       " '4bcn': ((0.5454545454545454, 0.5783877368173701),\n",
       "  (0.7499999999999999, 0.7363187752128869)),\n",
       " '5f0f': ((0.625, 0.6126290638256116),\n",
       "  (0.7547169811320755, 0.739020549498719)),\n",
       " '5kly': ((0.7547169811320756, 0.6834237728342129),\n",
       "  (0.7619047619047621, 0.7308490424128535)),\n",
       " '1o1s': ((0.5405405405405406, 0.5208346447673873),\n",
       "  (0.0, -0.08045983573336705)),\n",
       " '5hbn': ((0.0625, -0.04389643182639465), (0.0, -0.0595267495298437)),\n",
       " '5ct2': ((0.4727272727272727, 0.5034109842341733), (0.0, -0.09713641887041)),\n",
       " '3ocz': ((0.6666666666666666, 0.6641631511829303),\n",
       "  (0.5217391304347825, 0.5106165048008157)),\n",
       " '4xu1': ((0.7692307692307692, 0.7368151160675155),\n",
       "  (0.36111111111111116, 0.2634191707672242)),\n",
       " '2wca': ((0.7241379310344828, 0.7424715555959284),\n",
       "  (0.7346938775510204, 0.7313696670072085)),\n",
       " '5ayt': ((0.7407407407407408, 0.7123884496034246),\n",
       "  (0.8695652173913043, 0.856102036977207)),\n",
       " '2vzr': ((0.5882352941176471, 0.6049314250272565),\n",
       "  (0.7407407407407407, 0.7432561251138006)),\n",
       " '2gyi': ((0.6399999999999999, 0.6690535939827496),\n",
       "  (0.588235294117647, 0.6132154579199536)),\n",
       " '5vi6': ((0.07692307692307691, 0.140380600784787),\n",
       "  (0.10256410256410256, 0.17196196883160098)),\n",
       " '2h21': ((0.5797101449275361, 0.6045888751972412),\n",
       "  (0.6666666666666665, 0.6640325499743901)),\n",
       " '2d0k': ((0.5970149253731344, 0.585554981586737), (0.6, 0.5668429983916048)),\n",
       " '5ewk': ((0.5964912280701755, 0.5832124369381466),\n",
       "  (0.6976744186046512, 0.665420360794413)),\n",
       " '2yhw': ((0.7719298245614036, 0.7670358288568034),\n",
       "  (0.75, 0.7402022112241655)),\n",
       " '5h1u': ((0.4166666666666667, 0.46714933166435596),\n",
       "  (0.5714285714285713, 0.5446716957319965)),\n",
       " '2wjg': ((0.6046511627906976, 0.5665577237325317),\n",
       "  (0.26666666666666666, 0.19921452813853732)),\n",
       " '4aia': ((0.42857142857142855, 0.4859634631915609),\n",
       "  (0.5, 0.5475525365302472)),\n",
       " '1f74': ((0.3333333333333333, 0.2818627450980392),\n",
       "  (0.0, -0.04347015600597581)),\n",
       " '5hct': ((0.711864406779661, 0.7226533746179451),\n",
       "  (0.7999999999999999, 0.7960277096748538)),\n",
       " '1lnm': ((0.5846153846153846, 0.5778841114388498),\n",
       "  (0.0, -0.10452664462450584)),\n",
       " '3sw8': ((0.7241379310344828, 0.717687793828925),\n",
       "  (0.8333333333333334, 0.8185564204535143)),\n",
       " '2i80': ((0.5901639344262295, 0.6219290852602648),\n",
       "  (0.5373134328358209, 0.5768307389375924)),\n",
       " '4ieh': ((0.8064516129032258, 0.7688086336323217),\n",
       "  (0.9019607843137256, 0.8800035804830222)),\n",
       " '4b3b': ((0.0, -0.058025885318565944), (0.0, -0.03208051620104573)),\n",
       " '1ctt': ((0.7796610169491525, 0.7798981230973852),\n",
       "  (0.0, -0.06266106742511872)),\n",
       " '1x8d': ((0.7555555555555554, 0.7282703263958396),\n",
       "  (0.6799999999999999, 0.6483910907915863)),\n",
       " '5yhe': ((0.5882352941176471, 0.6315424710468118),\n",
       "  (0.05405405405405406, 0.019874319670401076)),\n",
       " '4ezx': ((0.0, 0.0), (0.0, 0.0)),\n",
       " '1moq': ((0.15094339622641512, 0.0867960010898536),\n",
       "  (0.8372093023255814, 0.8293822400297192)),\n",
       " '1wn6': ((0.7727272727272727, 0.729994480213835),\n",
       "  (0.8717948717948718, 0.848946619260884)),\n",
       " '3tb6': ((0.49122807017543857, 0.5389633960842473),\n",
       "  (0.5090909090909091, 0.5542473591262091)),\n",
       " '2jjb': ((0.7142857142857143, 0.729629413757165),\n",
       "  (0.7575757575757575, 0.7677163940768128)),\n",
       " '1t7d': ((0.558139534883721, 0.5240068049958819),\n",
       "  (0.48780487804878053, 0.4415507191451599)),\n",
       " '2q8m': ((0.5079365079365079, 0.512658550296095),\n",
       "  (0.6666666666666667, 0.6568245380166414)),\n",
       " '3rlr': ((0.6774193548387097, 0.6785707339298135),\n",
       "  (0.6666666666666665, 0.6431229781880295)),\n",
       " '5vij': ((0.5666666666666667, 0.5715341012288443),\n",
       "  (0.7894736842105263, 0.7743221690590112)),\n",
       " '4tte': ((0.5652173913043478, 0.5714886933258843),\n",
       "  (0.7586206896551724, 0.7336588857389936)),\n",
       " '2q8h': ((0.5263157894736842, 0.5822664383522276),\n",
       "  (0.6923076923076923, 0.7018804410993403)),\n",
       " '3uj9': ((0.5507246376811594, 0.5750750360354113),\n",
       "  (0.4523809523809524, 0.4858473364895543)),\n",
       " '6exi': ((0.5882352941176471, 0.5964360400404731),\n",
       "  (0.5846153846153845, 0.5857073847353125)),\n",
       " '1oba': ((0.0, -0.048633742368893874), (0.0, -0.03346624357352853)),\n",
       " '5tuz': ((0.3673469387755102, 0.3201958444971498),\n",
       "  (0.0, -0.08117997254493793)),\n",
       " '5laq': ((0.6129032258064516, 0.6175548671479134),\n",
       "  (0.6129032258064516, 0.6175548671479134)),\n",
       " '4nnr': ((0.6956521739130436, 0.6682152556676454),\n",
       "  (0.742857142857143, 0.6937864796917325)),\n",
       " '4o6w': ((0.05, 0.0512626716662932),\n",
       "  (0.09090909090909091, 0.10295396405968699)),\n",
       " '2vmc': ((0.0, -0.062136976600120006), (0.0, -0.03611218770402312)),\n",
       " '3acl': ((0.6666666666666666, 0.6757246285173463),\n",
       "  (0.6666666666666667, 0.6672768517274593)),\n",
       " '3ta0': ((0.7936507936507937, 0.7364228638655222),\n",
       "  (0.7857142857142856, 0.7104548830346195)),\n",
       " '4rd6': ((0.0, -0.06316861331260286), (0.0, 0.0)),\n",
       " '1h2k': ((0.6956521739130436, 0.7151031736886698),\n",
       "  (0.7272727272727273, 0.7424691941095473)),\n",
       " '1n4k': ((0.5, 0.5348698319960542), (0.3448275862068966, 0.3169050742349906)),\n",
       " '4pzv': ((0.0, -0.08231012103396647), (0.0, -0.06673674201699342)),\n",
       " '2w9h': ((0.6285714285714286, 0.6083269913418783),\n",
       "  (0.711864406779661, 0.6837652253282677)),\n",
       " '2v54': ((0.5882352941176471, 0.5943575267170572),\n",
       "  (0.6557377049180327, 0.657367093204395)),\n",
       " '1l83': ((0.11320754716981131, -0.0020078459286335735),\n",
       "  (0.04347826086956522, -0.08789302488553577)),\n",
       " '2euk': ((0.7608695652173912, 0.6991797421521893), (0.8, 0.7488327055157842)),\n",
       " '5ei3': ((0.4782608695652174, 0.5219012860502955),\n",
       "  (0.0, -0.06680696847039794)),\n",
       " '4q3t': ((0.6785714285714285, 0.6959561893381263),\n",
       "  (0.8571428571428572, 0.8528453416781859)),\n",
       " '2ews': ((0.5538461538461539, 0.5257156629396641),\n",
       "  (0.5263157894736842, 0.48177509059274365)),\n",
       " '4fxp': ((0.6909090909090909, 0.6898660895999755),\n",
       "  (0.7391304347826088, 0.718897352391301)),\n",
       " '5ovp': ((0.06896551724137931, 0.025260079291513346),\n",
       "  (0.0, -0.05776712868787001)),\n",
       " '5fsx': ((0.7000000000000001, 0.7019566268300722),\n",
       "  (0.0, -0.06664833208129858)),\n",
       " '2x6x': ((0.7142857142857143, 0.7192526926979076),\n",
       "  (0.6551724137931034, 0.6601353611506948)),\n",
       " '2jdu': ((0.8235294117647058, 0.8111719916269299), (0.0, 0.0)),\n",
       " '5uk8': ((0.14285714285714288, 0.12018411838123857),\n",
       "  (0.0, -0.013059906055209672)),\n",
       " '5kh3': ((0.5789473684210525, 0.5787740697960758), (0.8, 0.7795294429934886)),\n",
       " '5d6j': ((0.619718309859155, 0.6305398215268728),\n",
       "  (0.6551724137931034, 0.6456367543874768))}"
      ]
     },
     "execution_count": 8,
     "metadata": {},
     "output_type": "execute_result"
    }
   ],
   "source": [
    "def mergeDict(dx, dy):\n",
    "    keys = set(dx.keys()) | set(dy.keys())\n",
    "    return {key:(dx.get(key),dy.get(key)) for key in keys}\n",
    "\n",
    "dictOurs = {x[0]: x[1] for x in resOurs}\n",
    "dictTheirs = {x[0]: x[1] for x in resTheirs}\n",
    "d2 = mergeDict(dictOurs, dictTheirs)\n",
    "\n",
    "d2"
   ]
  },
  {
   "cell_type": "code",
   "execution_count": 9,
   "id": "437420f1",
   "metadata": {},
   "outputs": [
    {
     "data": {
      "text/plain": [
       "(0.5418252737092744, 0.22316135750805463)"
      ]
     },
     "execution_count": 9,
     "metadata": {},
     "output_type": "execute_result"
    }
   ],
   "source": [
    "# f1_score ours\n",
    "np.mean([x[0][0] for k,x in d2.items()]), np.std([x[0][0] for k,x in d2.items()])"
   ]
  },
  {
   "cell_type": "code",
   "execution_count": 10,
   "id": "dfc93bd4",
   "metadata": {},
   "outputs": [
    {
     "data": {
      "text/plain": [
       "(0.4429008739237578, 0.328475892638977)"
      ]
     },
     "execution_count": 10,
     "metadata": {},
     "output_type": "execute_result"
    }
   ],
   "source": [
    "# f1_score theirs\n",
    "np.mean([x[1][0] for k,x in d2.items()]), np.std([x[1][0] for k,x in d2.items()])"
   ]
  },
  {
   "cell_type": "code",
   "execution_count": 17,
   "id": "35cca2c8",
   "metadata": {},
   "outputs": [
    {
     "data": {
      "text/plain": [
       "(0.5330663002669616, 0.24060644445515278)"
      ]
     },
     "execution_count": 17,
     "metadata": {},
     "output_type": "execute_result"
    }
   ],
   "source": [
    "# mcc ours\n",
    "np.mean([x[0][1] for k,x in d2.items()]), np.std([x[0][1] for k,x in d2.items()])"
   ]
  },
  {
   "cell_type": "code",
   "execution_count": 18,
   "id": "f004a986",
   "metadata": {},
   "outputs": [
    {
     "data": {
      "text/plain": [
       "(0.41869395956563593, 0.34744801749667464)"
      ]
     },
     "execution_count": 18,
     "metadata": {},
     "output_type": "execute_result"
    }
   ],
   "source": [
    "# mcc theirs\n",
    "np.mean([x[1][1] for k,x in d2.items()]), np.std([x[1][1] for k,x in d2.items()])"
   ]
  },
  {
   "cell_type": "markdown",
   "id": "c5d60868",
   "metadata": {},
   "source": [
    "# Scratch"
   ]
  },
  {
   "cell_type": "code",
   "execution_count": null,
   "id": "5413e1b9",
   "metadata": {},
   "outputs": [],
   "source": [
    "testData = f'/home/lorenzo/3dunet-cavity/procData_210821'\n",
    "predname = '210817_features_cpu'\n",
    "predbase = f'/home/lorenzo/3dunet-cavity/runs/{predname}/predictions'"
   ]
  },
  {
   "cell_type": "code",
   "execution_count": null,
   "id": "b93df8cd",
   "metadata": {},
   "outputs": [],
   "source": [
    "def getSample(predbase, testData, name):\n",
    "\n",
    "    pocketfname = f'{testData}/{name}/{name}_pocket.pdb'\n",
    "    predfname = f'{predbase}/{name}/pocket_pred.pdb'\n",
    "    pdbfname = f'{testData}/{name}/{name}_selected.pdb'\n",
    "\n",
    "    pocket = prody.parsePDB(pocketfname)\n",
    "    structure = prody.parsePDB(pdbfname)\n",
    "\n",
    "    try:\n",
    "        pred = prody.parsePDB(predfname)\n",
    "        return structure, pocket, pred\n",
    "\n",
    "    except OSError:\n",
    "        return structure, pocket, None"
   ]
  }
 ],
 "metadata": {
  "kernelspec": {
   "display_name": "Python 3 (ipykernel)",
   "language": "python",
   "name": "python3"
  },
  "language_info": {
   "codemirror_mode": {
    "name": "ipython",
    "version": 3
   },
   "file_extension": ".py",
   "mimetype": "text/x-python",
   "name": "python",
   "nbconvert_exporter": "python",
   "pygments_lexer": "ipython3",
   "version": "3.8.10"
  }
 },
 "nbformat": 4,
 "nbformat_minor": 5
}
