{
 "cells": [
  {
   "cell_type": "code",
   "execution_count": 322,
   "id": "e7c9e6d2",
   "metadata": {},
   "outputs": [],
   "source": [
    "import scipy\n",
    "import numpy as np\n",
    "from scipy.ndimage import rotate\n",
    "from matplotlib import pyplot as plt\n",
    "from scipy.spatial.transform import Rotation\n",
    "from numpy import cos, sin, pi\n",
    "import torch\n",
    "import copy\n",
    "import pickle"
   ]
  },
  {
   "cell_type": "code",
   "execution_count": 176,
   "id": "0092cfc0",
   "metadata": {},
   "outputs": [],
   "source": [
    "v = np.array([1,2,3])"
   ]
  },
  {
   "cell_type": "code",
   "execution_count": 177,
   "id": "45403f79",
   "metadata": {},
   "outputs": [
    {
     "data": {
      "text/plain": [
       "array([-2.97267173, -0.26871357,  1.34937866])"
      ]
     },
     "execution_count": 177,
     "metadata": {},
     "output_type": "execute_result"
    }
   ],
   "source": [
    "m = Rotation.random()\n",
    "r = m.as_matrix()\n",
    "angles = m.as_euler('zxy')\n",
    "angles"
   ]
  },
  {
   "cell_type": "code",
   "execution_count": 210,
   "id": "30ac6ea0",
   "metadata": {},
   "outputs": [],
   "source": [
    "def zrot(thz):\n",
    "    return np.array([[cos(thz), sin(thz), 0],\n",
    "                 [-sin(thz), cos(thz), 0],\n",
    "                 [0,0,1]\n",
    "                ])\n",
    "\n",
    "def yrot(thy):\n",
    "    return np.array([[cos(thy), 0, sin(thy)],\n",
    "                 [0, 1, 0],\n",
    "                 [-sin(thy),0,cos(thy)]\n",
    "                ])\n",
    "\n",
    "def xrot(thx):\n",
    "    return np.array([\n",
    "                 [1, 0, 0],\n",
    "                 [0, cos(thx), sin(thx)],\n",
    "                 [0, -sin(thx), cos(thx)]\n",
    "                ])\n",
    "\n",
    "\n",
    "def rot(v, thz, thx, thy, signs):\n",
    "    yr = yrot(signs[0]*thy)\n",
    "    zr = zrot(signs[1]*thz)\n",
    "    xr = xrot(signs[2]*thx)\n",
    "    \n",
    "    return np.einsum('ij,jk,kl,l-> i', yr,xr,zr, v)"
   ]
  },
  {
   "cell_type": "code",
   "execution_count": 211,
   "id": "976f1067",
   "metadata": {},
   "outputs": [
    {
     "data": {
      "text/plain": [
       "array([ 3.23327553, -1.26639284,  1.39362065])"
      ]
     },
     "execution_count": 211,
     "metadata": {},
     "output_type": "execute_result"
    }
   ],
   "source": [
    "v1 = np.einsum('ij,j->i', r, v)\n",
    "v1"
   ]
  },
  {
   "cell_type": "code",
   "execution_count": 213,
   "id": "1154b2c1",
   "metadata": {},
   "outputs": [
    {
     "name": "stdout",
     "output_type": "stream",
     "text": [
      "(1, -1, -1) (array([ 3.23327553, -1.26639284,  1.39362065]),)\n"
     ]
    }
   ],
   "source": [
    "signss = [(i,j,k) for i in (-1,1) for j in (-1,1) for k in (-1,1)]\n",
    "res = []\n",
    "for signs in signss:\n",
    "    v2 = rot(v,*angles,signs=signs)\n",
    "    if ((v2-v1)**2).sum() < 0.01:\n",
    "        print(signs, v2)\n",
    "    # res.append()"
   ]
  },
  {
   "cell_type": "code",
   "execution_count": 214,
   "id": "40c0ec92",
   "metadata": {},
   "outputs": [],
   "source": [
    "d = 10\n",
    "m = np.array([[(i-d/2)**2 + (j-d/2)**2 for i in range(d)] for j in range(d)])"
   ]
  },
  {
   "cell_type": "code",
   "execution_count": 215,
   "id": "efc051ea",
   "metadata": {},
   "outputs": [
    {
     "data": {
      "image/png": "[encoded data removed]",
      "text/plain": [
       "<Figure size 432x288 with 1 Axes>"
      ]
     },
     "metadata": {
      "needs_background": "light"
     },
     "output_type": "display_data"
    }
   ],
   "source": [
    "plt.imshow(m, cmap='hot', interpolation='nearest')\n",
    "plt.show()"
   ]
  },
  {
   "cell_type": "code",
   "execution_count": 216,
   "id": "2f02dae5",
   "metadata": {},
   "outputs": [
    {
     "data": {
      "image/png": "[encoded data removed]",
      "text/plain": [
       "<Figure size 432x288 with 1 Axes>"
      ]
     },
     "metadata": {
      "needs_background": "light"
     },
     "output_type": "display_data"
    }
   ],
   "source": [
    "mode = 'constant'\n",
    "angle = 45\n",
    "m2 = rotate(m, angle, axes=[0,1], reshape=False, order=3, mode=mode)\n",
    "\n",
    "plt.imshow(m2, cmap='hot', interpolation='nearest')\n",
    "plt.show()"
   ]
  },
  {
   "cell_type": "code",
   "execution_count": 16,
   "id": "ab4841db",
   "metadata": {},
   "outputs": [
    {
     "data": {
      "image/png": "[encoded data removed]",
      "text/plain": [
       "<Figure size 432x288 with 1 Axes>"
      ]
     },
     "metadata": {
      "needs_background": "light"
     },
     "output_type": "display_data"
    }
   ],
   "source": [
    "mode = 'grid-constant'\n",
    "angle = 45\n",
    "m2 = rotate(m, angle, axes=[0,1], reshape=False, order=3, mode=mode)\n",
    "\n",
    "plt.imshow(m2, cmap='hot', interpolation='nearest')\n",
    "plt.show()"
   ]
  },
  {
   "cell_type": "code",
   "execution_count": 18,
   "id": "9447a64b",
   "metadata": {},
   "outputs": [
    {
     "data": {
      "image/png": "[encoded data removed]",
      "text/plain": [
       "<Figure size 432x288 with 1 Axes>"
      ]
     },
     "metadata": {
      "needs_background": "light"
     },
     "output_type": "display_data"
    }
   ],
   "source": [
    "mode = 'nearest'\n",
    "angle = 45\n",
    "m2 = rotate(m, angle, axes=[0,1], reshape=False, order=3, mode=mode)\n",
    "\n",
    "plt.imshow(m2, cmap='hot', interpolation='nearest')\n",
    "plt.show()"
   ]
  },
  {
   "cell_type": "code",
   "execution_count": 361,
   "id": "de5c0226",
   "metadata": {},
   "outputs": [],
   "source": [
    "class PickledGenerator(torch.Generator):\n",
    "    def __getstate__(self):\n",
    "        return self.get_state()\n",
    "    def __setstate__(self, state):\n",
    "        return self.set_state(state)"
   ]
  },
  {
   "cell_type": "code",
   "execution_count": 365,
   "id": "e4b3e5ce",
   "metadata": {},
   "outputs": [
    {
     "data": {
      "text/plain": [
       "tensor([0.2673])"
      ]
     },
     "execution_count": 365,
     "metadata": {},
     "output_type": "execute_result"
    }
   ],
   "source": [
    "gen1 = PickledGenerator()\n",
    "gen2 = PickledGenerator()\n",
    "torch.rand(size=(1,), generator=gen1)"
   ]
  },
  {
   "cell_type": "code",
   "execution_count": 366,
   "id": "d1e8755c",
   "metadata": {},
   "outputs": [],
   "source": [
    "pic = pickle.dumps(gen1)\n",
    "gen3 = pickle.loads(pic)"
   ]
  },
  {
   "cell_type": "code",
   "execution_count": null,
   "id": "d5e980e0",
   "metadata": {},
   "outputs": [],
   "source": []
  },
  {
   "cell_type": "code",
   "execution_count": 324,
   "id": "4c68ff5c",
   "metadata": {},
   "outputs": [
    {
     "data": {
      "text/plain": [
       "b'\\x80\\x04\\x95C\\x15\\x00\\x00\\x00\\x00\\x00\\x00\\x8c\\x0ctorch._utils\\x94\\x8c\\x12_rebuild_tensor_v2\\x94\\x93\\x94(\\x8c\\rtorch.storage\\x94\\x8c\\x10_load_from_bytes\\x94\\x93\\x94B\\xbb\\x14\\x00\\x00\\x80\\x02\\x8a\\nl\\xfc\\x9cF\\xf9 j\\xa8P\\x19.\\x80\\x02M\\xe9\\x03.\\x80\\x02}q\\x00(X\\x10\\x00\\x00\\x00protocol_versionq\\x01M\\xe9\\x03X\\r\\x00\\x00\\x00little_endianq\\x02\\x88X\\n\\x00\\x00\\x00type_sizesq\\x03}q\\x04(X\\x05\\x00\\x00\\x00shortq\\x05K\\x02X\\x03\\x00\\x00\\x00intq\\x06K\\x04X\\x04\\x00\\x00\\x00longq\\x07K\\x04uu.\\x80\\x02(X\\x07\\x00\\x00\\x00storageq\\x00ctorch\\nByteStorage\\nq\\x01X\\x0e\\x00\\x00\\x0094890330381200q\\x02X\\x03\\x00\\x00\\x00cpuq\\x03M\\xc0\\x13Ntq\\x04Q.\\x80\\x02]q\\x00X\\x0e\\x00\\x00\\x0094890330381200q\\x01a.\\xc0\\x13\\x00\\x00\\x00\\x00\\x00\\x00\\x01\\xd1\\x9c\\xf10=\\x00\\x00p\\x02\\x00\\x00\\x01\\x00\\x00\\x00\\x01\\x00\\x00\\x00\\x00\\x00\\x00\\x00\\x1d\\xd7_\\xae\\x00\\x00\\x00\\x00yVN\\xea\\x00\\x00\\x00\\x00\\x0f9\\x1d\\x04\\x00\\x00\\x00\\x00\\x85\\x87\\xc0N\\x00\\x00\\x00\\x00{#ev\\x00\\x00\\x00\\x00\\x92\\xe6\\x00\\x9d\\x00\\x00\\x00\\x00\\xdbj\\xd9\\x0b\\x00\\x00\\x00\\x00\\xbfx\\x19l\\x00\\x00\\x00\\x00\\xb4\\x95\\xea\\xd1\\x00\\x00\\x00\\x008\\xd0\\xaf\\x17\\x00\\x00\\x00\\x00;E=E\\x00\\x00\\x00\\x00\\xe0\\x12\\x8a\\xbf\\x00\\x00\\x00\\x00\\xd2\\xfc\\x12\\x90\\x00\\x00\\x00\\x00\\x85\\xb2Ev\\x00\\x00\\x00\\x00\\x19\\x91\\x1a]\\x00\\x00\\x00\\x00\\x91\\xf7\\xdf\\xf3\\x00\\x00\\x00\\x00\\x056\\xc1\\x9a\\x00\\x00\\x00\\x00D[\\x12\\xc4\\x00\\x00\\x00\\x00<\\x1dE\\xe5\\x00\\x00\\x00\\x00\\x98\\x08\\r\\x8f\\x00\\x00\\x00\\x00\\xads3\\xa1\\x00\\x00\\x00\\x009\\xcc\\xf9\\xf3\\x00\\x00\\x00\\x00\\xdf$\\x88&\\x00\\x00\\x00\\x00/\\x15\\xa3\\x1e\\x00\\x00\\x00\\x00\\xc0\\xa4\\x1b\\xc5\\x00\\x00\\x00\\x00\\xe2\\x15\\x91/\\x00\\x00\\x00\\x00\\xd0\\x99\\x1bm\\x00\\x00\\x00\\x00\\x93\\x84>\\xc3\\x00\\x00\\x00\\x00\\'\\xc6l\\xde\\x00\\x00\\x00\\x00\\xb5\\xf5dw\\x00\\x00\\x00\\x00\\xfaqJ\\xdc\\x00\\x00\\x00\\x00L\\r\\x88\\xcc\\x00\\x00\\x00\\x00\\xf6<\\xc0\\x1b\\x00\\x00\\x00\\x00\\x00|\\xaf\\x08\\x00\\x00\\x00\\x00\\x17\\xa7\\xe2h\\x00\\x00\\x00\\x000\\x90\\x12\\x01\\x00\\x00\\x00\\x00\\xec\\xfe6\\xea\\x00\\x00\\x00\\x00\\x15\\xac\\x8d\\x92\\x00\\x00\\x00\\x00`\\xbc\\x05W\\x00\\x00\\x00\\x00\\x0c\\xc3\\x0e\\xad\\x00\\x00\\x00\\x00z(\\xcf\\x08\\x00\\x00\\x00\\x00\\xda\\x0f&\\xea\\x00\\x00\\x00\\x00\\x11W`\\xf5\\x00\\x00\\x00\\x00\\x10\\xfb\\xfai\\x00\\x00\\x00\\x00l\\xfdB\\xde\\x00\\x00\\x00\\x00h\\xf7\\x86|\\x00\\x00\\x00\\x00\\x84K\\xf5<\\x00\\x00\\x00\\x00H7\\xda\\xe5\\x00\\x00\\x00\\x00\\xdf\\xf1_\\x96\\x00\\x00\\x00\\x00\\xb1\\xf9\\xb2\\xd2\\x00\\x00\\x00\\x00\\x9c\\x10\\x14\\x88\\x00\\x00\\x00\\x00$\\xb0\\x07\\xf7\\x00\\x00\\x00\\x00\\xce\\x86\\x05\\xb2\\x00\\x00\\x00\\x00^I_\\xe8\\x00\\x00\\x00\\x00r\\xb2\\x8dY\\x00\\x00\\x00\\x00^\\x80|}\\x00\\x00\\x00\\x00Q-\\xcb#\\x00\\x00\\x00\\x00)K^H\\x00\\x00\\x00\\x008J\\xf3@\\x00\\x00\\x00\\x00K\\xa3~\\xe3\\x00\\x00\\x00\\x00;\\x9d\\xf4Y\\x00\\x00\\x00\\x00U^\\x9a\\xd8\\x00\\x00\\x00\\x00\\xa6\\xc6\\xb4\\xc6\\x00\\x00\\x00\\x000\\xaf?\\x0f\\x00\\x00\\x00\\x00\\x19\"\\xab\\xe0\\x00\\x00\\x00\\x00\\xd1\\xb8O\\xdf\\x00\\x00\\x00\\x00\\xecSF4\\x00\\x00\\x00\\x00+Vp\\xf5\\x00\\x00\\x00\\x00\\xf8\\xd3\\x98\\x16\\x00\\x00\\x00\\x00\\x89\\x0b\\x05\\xc8\\x00\\x00\\x00\\x00\\x91\\xa4/5\\x00\\x00\\x00\\x00\\x8d\\xc8\\xbf\\xf5\\x00\\x00\\x00\\x00 #Y\\x1d\\x00\\x00\\x00\\x00\\xec!\\xa0\\xe3\\x00\\x00\\x00\\x00\\x08`,\\xff\\x00\\x00\\x00\\x00t\\xae*|\\x00\\x00\\x00\\x00\\xab\\xe4\\x84\\xb2\\x00\\x00\\x00\\x00\\xb1\\xd8\\xa8\\x96\\x00\\x00\\x00\\x00\\xd5)\\x8aZ\\x00\\x00\\x00\\x00\\xd0~p\\x98\\x00\\x00\\x00\\x00\\x93\\xd0o\\xc3\\x00\\x00\\x00\\x00\\x1ea\\xd1\\xfa\\x00\\x00\\x00\\x002y\\xa7\\x16\\x00\\x00\\x00\\x00\\x81\\xd8\\x98\\xf0\\x00\\x00\\x00\\x00\\xc6#u\\x8b\\x00\\x00\\x00\\x00\\x8eR\\x00\\xa2\\x00\\x00\\x00\\x00\\'\\x1a\\xac\\x18\\x00\\x00\\x00\\x00z\\x03\\x93x\\x00\\x00\\x00\\x00\"\\x1de\\x89\\x00\\x00\\x00\\x00\\x7fQ\\xb4<\\x00\\x00\\x00\\x007\\x10\\xceA\\x00\\x00\\x00\\x00x\\xb4\\x80\\r\\x00\\x00\\x00\\x00rX\\xff\\x83\\x00\\x00\\x00\\x00\\x98\\x05\\xbcM\\x00\\x00\\x00\\x00\\xf0G2\\xc4\\x00\\x00\\x00\\x00\"D\\x86\\xba\\x00\\x00\\x00\\x00\\xb6\\xaaJ~\\x00\\x00\\x00\\x00I\\x7ftf\\x00\\x00\\x00\\x00\\xf2O\\xb8\\x1e\\x00\\x00\\x00\\x00\\xa0\\xafn\\x13\\x00\\x00\\x00\\x00\\xd7[\\xda4\\x00\\x00\\x00\\x00\\xf2\\xfa\\x8f\\xc7\\x00\\x00\\x00\\x00+>\\x18\\xd4\\x00\\x00\\x00\\x00\\xfd\\x9b-=\\x00\\x00\\x00\\x00\\xa6liO\\x00\\x00\\x00\\x00C\"[\\xa8\\x00\\x00\\x00\\x00\\xbf\\xc6\\xedf\\x00\\x00\\x00\\x00\\xf9\\x89Q\\xa1\\x00\\x00\\x00\\x00\\xa7\\xe5\\xb1N\\x00\\x00\\x00\\x00\\xb5\\x02\\xf0m\\x00\\x00\\x00\\x00\\x90\\xd9\\x1e3\\x00\\x00\\x00\\x00\\xf8\\xa2\\x0b\\x9e\\x00\\x00\\x00\\x00\\xa8/\\xee\\xe3\\x00\\x00\\x00\\x00\\xae\\xd4\\xd5\\x7f\\x00\\x00\\x00\\x000v\\x88\\x18\\x00\\x00\\x00\\x00\\xc6O\\xca\\x8d\\x00\\x00\\x00\\x00\\xa9\\x1e7\\xff\\x00\\x00\\x00\\x00\\xdfd\"\\xc1\\x00\\x00\\x00\\x00\\x97>\\xe3\\x86\\x00\\x00\\x00\\x00\\xb0\\xd7w\\xe7\\x00\\x00\\x00\\x00G8\\xfa9\\x00\\x00\\x00\\x00C\\xf1\\xc2\\x8c\\x00\\x00\\x00\\x00\\x1aq\\xe1\\x9b\\x00\\x00\\x00\\x00b\\x1f\\x81<\\x00\\x00\\x00\\x00A\\x16\\x9d{\\x00\\x00\\x00\\x00\\xdfN\\xd1\\x84\\x00\\x00\\x00\\x00\\xe5\\x96<\\xb1\\x00\\x00\\x00\\x00\\x1b\\xde\\x8f\\x8e\\x00\\x00\\x00\\x00\\xben\\xba\\xe5\\x00\\x00\\x00\\x00?\\r\\x9b\\n\\x00\\x00\\x00\\x00\\xfb\\xf8\\x87\\xda\\x00\\x00\\x00\\x00\\x0e\\xc4\\x1f\\x84\\x00\\x00\\x00\\x00\\xb0\\x11\\x92&\\x00\\x00\\x00\\x00>\\x94\\xc5\\x1d\\x00\\x00\\x00\\x00\\xed\\x11\\x10(\\x00\\x00\\x00\\x00H\\x08$_\\x00\\x00\\x00\\x00\\x8e\\x14\\x18B\\x00\\x00\\x00\\x00\\x1d\\xcan@\\x00\\x00\\x00\\x00\\x02\\xc1\\x9a\\x1a\\x00\\x00\\x00\\x00loV\\xda\\x00\\x00\\x00\\x00\\x84\\xd2\\xd0\\xb5\\x00\\x00\\x00\\x00-\\xf9\\xdf\\x0b\\x00\\x00\\x00\\x00V\\x94f\\x1e\\x00\\x00\\x00\\x00\\xaaW\\x95\\x82\\x00\\x00\\x00\\x00]]\\xe5~\\x00\\x00\\x00\\x00\\x83\\xac\\xf4,\\x00\\x00\\x00\\x00\\xab\\x8e\\x9d\\xc1\\x00\\x00\\x00\\x00\\x92\\xb7b.\\x00\\x00\\x00\\x00ysi\\xe5\\x00\\x00\\x00\\x00\\xa7@\\x06\\xd1\\x00\\x00\\x00\\x00\\xc8\\x9b\\xd3S\\x00\\x00\\x00\\x00$\\xc8]\\xed\\x00\\x00\\x00\\x00\\x95\\xcd\\x08\\xd6\\x00\\x00\\x00\\x00\\x0c\\'J\\x1d\\x00\\x00\\x00\\x00\\xee\\xd6\\xb0\\x04\\x00\\x00\\x00\\x00`\\xd7A\\xe9\\x00\\x00\\x00\\x00V\\x8eU\\xda\\x00\\x00\\x00\\x00X\\x9fc;\\x00\\x00\\x00\\x00\\xf8\\x00\\xc3U\\x00\\x00\\x00\\x00\\xb1\\xe5\\x0e\\x02\\x00\\x00\\x00\\x00\\xa7yo\\x10\\x00\\x00\\x00\\x00\\xf97+\\x14\\x00\\x00\\x00\\x00#\\xc5\\x05\\x98\\x00\\x00\\x00\\x00\\x1bJ\\xa0\\x82\\x00\\x00\\x00\\x00\\x1bk\\xa1\\xba\\x00\\x00\\x00\\x007\\xba\\x10m\\x00\\x00\\x00\\x00\\x81&\\xdai\\x00\\x00\\x00\\x00\\x84\\x02\\x8fz\\x00\\x00\\x00\\x00\\xc4\\x80\\xadb\\x00\\x00\\x00\\x00|\\x83[d\\x00\\x00\\x00\\x00B\\xa2\\xfa\\x85\\x00\\x00\\x00\\x00\\xb6\\x7f$\\xb3\\x00\\x00\\x00\\x00\\xe0\\xe6qW\\x00\\x00\\x00\\x00\\x12\\x18\\xfe3\\x00\\x00\\x00\\x00b\\xf8\\x8f\\x0b\\x00\\x00\\x00\\x00\\xef\\x99\\xfd\\x94\\x00\\x00\\x00\\x00B\\xe30\\x92\\x00\\x00\\x00\\x00\\x8a.\\x85\\x1e\\x00\\x00\\x00\\x00\\xddZI\\xaf\\x00\\x00\\x00\\x00\\x01\\x82Q\\xc4\\x00\\x00\\x00\\x00\\ry\\xad\\x13\\x00\\x00\\x00\\x00\\xe0\\x04\\xa0`\\x00\\x00\\x00\\x00\\xbdd\\xb1\\xc6\\x00\\x00\\x00\\x003&\\x0f\\x98\\x00\\x00\\x00\\x00Z\\x7f$\\x84\\x00\\x00\\x00\\x00\\xd4\\xd4<\\xc3\\x00\\x00\\x00\\x00\\xd8\\'\\x05\\xfb\\x00\\x00\\x00\\x00i\\xf3s`\\x00\\x00\\x00\\x00\\xd0FV\\xf9\\x00\\x00\\x00\\x00\\xb3\\x8f\\xd6s\\x00\\x00\\x00\\x00\\xf5\\xc2]\\xfb\\x00\\x00\\x00\\x00\\xab\\x99\\xe7\\'\\x00\\x00\\x00\\x00\\xdf\\x03-Z\\x00\\x00\\x00\\x00\\xc4\\xe7\\xff\\x9e\\x00\\x00\\x00\\x00\\x99\\x95L+\\x00\\x00\\x00\\x00\\xee\\xce7\\xf2\\x00\\x00\\x00\\x00\\xc03\\xb0\\xd0\\x00\\x00\\x00\\x00\\x8e\\xe2\\xe8\\x01\\x00\\x00\\x00\\x00y\\xfcUe\\x00\\x00\\x00\\x00\\xa4\\xa3-\\xf7\\x00\\x00\\x00\\x00(b\\x11\\xe0\\x00\\x00\\x00\\x00\\xdfH.\\xc5\\x00\\x00\\x00\\x00\\x80\\xcb\\xf8\\x98\\x00\\x00\\x00\\x00\\xe0\\xee\\x1aH\\x00\\x00\\x00\\x00\\x9c\\xf2\\'C\\x00\\x00\\x00\\x00\\xdap\\xb4\\x00\\x00\\x00\\x00\\x00\\xf0)H\\xc7\\x00\\x00\\x00\\x00.\\x12b0\\x00\\x00\\x00\\x00Q\\x1a\\x1f\\xe1\\x00\\x00\\x00\\x00\\xe2\\xf7\\x07\\xa6\\x00\\x00\\x00\\x00\\xae\\x03\\xd7j\\x00\\x00\\x00\\x00\\xe1\\xc6\\xcbX\\x00\\x00\\x00\\x00o\\xdb\\xd5\\xc8\\x00\\x00\\x00\\x00\\xe5\\x8d\\xb2\\xc6\\x00\\x00\\x00\\x00\"\\xf83\\xd9\\x00\\x00\\x00\\x00\\xe8B\\xe5e\\x00\\x00\\x00\\x00\\xabt\\x0b\\xf9\\x00\\x00\\x00\\x00\\x9c_\\x17\\xd3\\x00\\x00\\x00\\x00<\\xff\\x89\\x17\\x00\\x00\\x00\\x00\\xa7\\x7f\\x16\\x07\\x00\\x00\\x00\\x00\\x8a\\xed\\x7f\\xf2\\x00\\x00\\x00\\x00\\xc2\\xc8t\\x14\\x00\\x00\\x00\\x00MSa\\xe1\\x00\\x00\\x00\\x00\\xfeM=\\x04\\x00\\x00\\x00\\x00 \\xfd[\\n\\x00\\x00\\x00\\x00\\x81\\x88\\x86_\\x00\\x00\\x00\\x00)\\x18\\xce\\xd1\\x00\\x00\\x00\\x00\\x91\\xda\\xdd\\xa7\\x00\\x00\\x00\\x00\\x08\\xa2%{\\x00\\x00\\x00\\x00\\xe0\\x0c\\xad\\xc4\\x00\\x00\\x00\\x00\\x93\\x86\\xa7q\\x00\\x00\\x00\\x00\\x9d\\x11\\xb0\\xbb\\x00\\x00\\x00\\x00\\xad\\xfb\\xa0\\xf6\\x00\\x00\\x00\\x00\\x99\\xa6V\\xc2\\x00\\x00\\x00\\x00\\x0b\\x12r\\x19\\x00\\x00\\x00\\x00G\\x17\\x89h\\x00\\x00\\x00\\x0057\\xff\\x99\\x00\\x00\\x00\\x00\\xe78\\xae\\xed\\x00\\x00\\x00\\x00\\x99\\xdf\\xc14\\x00\\x00\\x00\\x00\\x00\\xfbie\\x00\\x00\\x00\\x00\\xc3/\\xb5\\xdc\\x00\\x00\\x00\\x00h\\xc4b-\\x00\\x00\\x00\\x00\\xcd\\x9d\\x99\\xa2\\x00\\x00\\x00\\x00\\xc3\\x04\\xf6\\xa2\\x00\\x00\\x00\\x00\\x0f\\x98r\\xdd\\x00\\x00\\x00\\x00\\x91\\xbb\\xf0\\xbf\\x00\\x00\\x00\\x00\\xfb\\xef\\x9d\\x1c\\x00\\x00\\x00\\x00\\xcdD\\x06u\\x00\\x00\\x00\\x00\\x1c\\xcd\\xd8\\x88\\x00\\x00\\x00\\x00c\\xe8!\\xd4\\x00\\x00\\x00\\x00|\\xabW\\x8b\\x00\\x00\\x00\\x00\\xce\\xe3\\n\\x07\\x00\\x00\\x00\\x00\\xa3\\xcf\\x01|\\x00\\x00\\x00\\x00\\xf4|\\xa2M\\x00\\x00\\x00\\x00\\xf5\\xf4\\xc9\\xcd\\x00\\x00\\x00\\x00\\x99(\\xe3\\xf3\\x00\\x00\\x00\\x00;\\xd8\\xae&\\x00\\x00\\x00\\x00}\\x86L\\xc2\\x00\\x00\\x00\\x00\\xcc\\xe3`\\n\\x00\\x00\\x00\\x00\\x86[j\\x86\\x00\\x00\\x00\\x00@\\xf8\\xd7!\\x00\\x00\\x00\\x00\\x12\\xac\\xf7\\xaa\\x00\\x00\\x00\\x00\\xad\\x85VX\\x00\\x00\\x00\\x00\\x99r\\x8e\\xd0\\x00\\x00\\x00\\x00u`\\xbd\\x85\\x00\\x00\\x00\\x00\\xaa7B\\x11\\x00\\x00\\x00\\x00\\xe42\\x89:\\x00\\x00\\x00\\x00#\\xfd/\\xff\\x00\\x00\\x00\\x00\\xcc\\xf2\\x98)\\x00\\x00\\x00\\x00\\xef\\x9a`<\\x00\\x00\\x00\\x00/7\\xc0E\\x00\\x00\\x00\\x00\\x03\\xca\\x7f\\x19\\x00\\x00\\x00\\x00\\xc3\\x8a\\t@\\x00\\x00\\x00\\x00\\xe9\\'p\\x9d\\x00\\x00\\x00\\x00\\xbfY*;\\x00\\x00\\x00\\x00\\x04\\x92y2\\x00\\x00\\x00\\x00\\xed\\xa73\\x18\\x00\\x00\\x00\\x00\\xc4\\xd0\\xbcH\\x00\\x00\\x00\\x008P6\\xbd\\x00\\x00\\x00\\x00V\\xe1e\\x95\\x00\\x00\\x00\\x00i\\xb5\\xfb\\xe3\\x00\\x00\\x00\\x00\\xa9\\xd5\\x07\\t\\x00\\x00\\x00\\x00\\x0e\\x93P\\x83\\x00\\x00\\x00\\x00\\xa8#.:\\x00\\x00\\x00\\x00\\x90[\\x7f\\x84\\x00\\x00\\x00\\x00\\x98Y\\xeb\\xd8\\x00\\x00\\x00\\x00\\xb3\\x10\\xfa\\x8a\\x00\\x00\\x00\\x00\\x9b*\\x82\\x93\\x00\\x00\\x00\\x00\\xacy\\xab\\xad\\x00\\x00\\x00\\x00b4(\\'\\x00\\x00\\x00\\x00<\\xe1\\xa4\\xe6\\x00\\x00\\x00\\x00\\xc8V,\\xf9\\x00\\x00\\x00\\x00\\xacn\\xe3\\x07\\x00\\x00\\x00\\x00\\xa7\\x9d\\x0c\\xc4\\x00\\x00\\x00\\x00\\x03\\xc2}o\\x00\\x00\\x00\\x00sc\\x1d\\xfd\\x00\\x00\\x00\\x00\\xee\\xae\\x17H\\x00\\x00\\x00\\x00\\nL\\xda\\xda\\x00\\x00\\x00\\x00\\x9c\\xb8\\xa4 \\x00\\x00\\x00\\x00q\\x87\\xce\\xbd\\x00\\x00\\x00\\x00\\xaf\\x8b\\ro\\x00\\x00\\x00\\x00\\xed\\x9a\\x947\\x00\\x00\\x00\\x00\\xe5\\x0f\\xcd\\x0f\\x00\\x00\\x00\\x00\\x0bHX\\x17\\x00\\x00\\x00\\x00\\xdd]\\xc8\\x11\\x00\\x00\\x00\\x00\\x8f\\xaf9\\x8a\\x00\\x00\\x00\\x00\\xb0\\x95\\xd8\\xf2\\x00\\x00\\x00\\x00`bXz\\x00\\x00\\x00\\x00\\x9a \\x99\\x1f\\x00\\x00\\x00\\x00\\xb0\\x95\\xe2\\x12\\x00\\x00\\x00\\x00\\xbb\\x89%C\\x00\\x00\\x00\\x00V\\x00\\x94\\xc7\\x00\\x00\\x00\\x00\\x80C\\xdaN\\x00\\x00\\x00\\x00\\x8a=\\xcey\\x00\\x00\\x00\\x00V{?6\\x00\\x00\\x00\\x00}b\\xf3\\xd2\\x00\\x00\\x00\\x00\\xb9\\xf9\\x9f\\x99\\x00\\x00\\x00\\x00 J\\xab\\x0b\\x00\\x00\\x00\\x00\\x15\\xde[\\x95\\x00\\x00\\x00\\x00!\\xa7w;\\x00\\x00\\x00\\x00\\x06m\\xb8\\x9f\\x00\\x00\\x00\\x00\\xbc\\xa1\\xb5\\x06\\x00\\x00\\x00\\x00q\\xdcl\\x96\\x00\\x00\\x00\\x00zS\\x19\\xcf\\x00\\x00\\x00\\x00\\xb7\\xcf\\xd8\\xf6\\x00\\x00\\x00\\x00\\xd8\\x0e\\x18\\xcf\\x00\\x00\\x00\\x00_\\xf8\\xb4\\x10\\x00\\x00\\x00\\x00\\xe8t\\xef.\\x00\\x00\\x00\\x007\\x98r!\\x00\\x00\\x00\\x00gf1\\xb8\\x00\\x00\\x00\\x00\\xa9\\xdc\\x85\\x01\\x00\\x00\\x00\\x00\\x05\\x01\\xbe\\xc3\\x00\\x00\\x00\\x00\\x06\\xa1\\x1a\\xab\\x00\\x00\\x00\\x00_q\\x16l\\x00\\x00\\x00\\x00!U\\x8f)\\x00\\x00\\x00\\x00ev$\\xf0\\x00\\x00\\x00\\x00\\xdedt\\x8a\\x00\\x00\\x00\\x00=\\xd0}(\\x00\\x00\\x00\\x00\\xa2\\xcf\\xf0f\\x00\\x00\\x00\\x00\\x16&\\xb0\\x86\\x00\\x00\\x00\\x00\\x16\\x00X \\x00\\x00\\x00\\x00\\x98\\x98Rn\\x00\\x00\\x00\\x00\\xcd\\x10q\\xdb\\x00\\x00\\x00\\x00\\xaa}!\\xc4\\x00\\x00\\x00\\x00\\xf6\\x83\\xc0\\x8c\\x00\\x00\\x00\\x00\\xe2\\xa5\\xb2\\xdc\\x00\\x00\\x00\\x00\\x1e\\x0e\\xf0\\x00\\x00\\x00\\x00\\x00\\x99\\xb1\\xebi\\x00\\x00\\x00\\x005\\xfd\\x06G\\x00\\x00\\x00\\x00l\\xda\\xb1x\\x00\\x00\\x00\\x00J~\\xae\\xe8\\x00\\x00\\x00\\x00KlB\\xc5\\x00\\x00\\x00\\x00\\xb9\\xfd[\\x06\\x00\\x00\\x00\\x00Z\\x18h\"\\x00\\x00\\x00\\x00\\xb2\\x94\\xfe\\xc4\\x00\\x00\\x00\\x00\\xe1\\x88\\xff\\xf3\\x00\\x00\\x00\\x00\\xcd\\x06\\xe6\\x81\\x00\\x00\\x00\\x00\\x02\\xfbSZ\\x00\\x00\\x00\\x00j\\r\\xe0\\xb7\\x00\\x00\\x00\\x00P\\xe6\\xe2\\xc5\\x00\\x00\\x00\\x00\\xcbn\\x8b\\xce\\x00\\x00\\x00\\x00l\\xaa\\x85\\xfd\\x00\\x00\\x00\\x00\\xab\\x10\\x8c\\x01\\x00\\x00\\x00\\x00n\\xd7\\xc8\\x11\\x00\\x00\\x00\\x00\\xb9\\xcb1\\x88\\x00\\x00\\x00\\x00-\\xecf\\xba\\x00\\x00\\x00\\x00\\xd4\\x1f\\xc9T\\x00\\x00\\x00\\x00\\xf3!{i\\x00\\x00\\x00\\x005\\x11\\x9e\\x7f\\x00\\x00\\x00\\x00j\\n\\x8f\\x96\\x00\\x00\\x00\\x00Q\\xe8\\xb2\\x90\\x00\\x00\\x00\\x00\\x01\\xd5\\xa4\\x19\\x00\\x00\\x00\\x00\\x9d\\xfb\\x97W\\x00\\x00\\x00\\x00\\xdc\\x858\\x1b\\x00\\x00\\x00\\x00$\\x01\\xf1\\n\\x00\\x00\\x00\\x00\\x9a\\x82mD\\x00\\x00\\x00\\x00\\xb5\\x92d8\\x00\\x00\\x00\\x00\\xf1\\xbc\\xbf\\x1f\\x00\\x00\\x00\\x00\\xc1\\x83bR\\x00\\x00\\x00\\x00\\x90\\x7f-\\x9a\\x00\\x00\\x00\\x00d~\\x04\\xb5\\x00\\x00\\x00\\x00cM\\xb6T\\x00\\x00\\x00\\x00D-\\xe4\\x1c\\x00\\x00\\x00\\x004\\xd1\\x01\\xb8\\x00\\x00\\x00\\x00EFe\\'\\x00\\x00\\x00\\x005\\xa4d-\\x00\\x00\\x00\\x00\\xe4\\x9a\\xfa\\x06\\x00\\x00\\x00\\x00AI\\x89g\\x00\\x00\\x00\\x00a\\x98zj\\x00\\x00\\x00\\x00.\\x98h]\\x00\\x00\\x00\\x00K\\xb1\\x9d\\x8d\\x00\\x00\\x00\\x00O\\x9c\\x80\\xb4\\x00\\x00\\x00\\x00\\xa5\\x18\\x0e\\x94\\x00\\x00\\x00\\x00\\xa7HA]\\x00\\x00\\x00\\x00_\\x1b\\xd5&\\x00\\x00\\x00\\x00\\x0c]\\xfa6\\x00\\x00\\x00\\x00\\xb0!\\x89\\x95\\x00\\x00\\x00\\x00\\x04\\xef\\xc0\\x91\\x00\\x00\\x00\\x00\\xa3\\xb3`U\\x00\\x00\\x00\\x00?9\\xf3\"\\x00\\x00\\x00\\x00dws<\\x00\\x00\\x00\\x005\\xd8\",\\x00\\x00\\x00\\x00 \\x8f\\xfc\\x8e\\x00\\x00\\x00\\x007${\\x99\\x00\\x00\\x00\\x00\\xdb[C\\xe1\\x00\\x00\\x00\\x00\\x0c\\xb5g\\xa9\\x00\\x00\\x00\\x00\\x05\\xdf\\xd3\\x00\\x00\\x00\\x00\\x007\\x06\\xbf\\x96\\x00\\x00\\x00\\x008S\\xbcQ\\x00\\x00\\x00\\x00~[\\x9d+\\x00\\x00\\x00\\x00\\xd2j\\xcaI\\x00\\x00\\x00\\x00s\\xb8\\xdb%\\x00\\x00\\x00\\x00J\\xe0\\xa2>\\x00\\x00\\x00\\x00\\xac\\xd0\\xea\\xfe\\x00\\x00\\x00\\x00%\\xf6>\\xce\\x00\\x00\\x00\\x00\\xba\\x83\\xff\\x92\\x00\\x00\\x00\\x00\\tdG\\'\\x00\\x00\\x00\\x00\\xc6I\\x93\\xe5\\x00\\x00\\x00\\x00\\x84\\x1f\\x8f\\xbc\\x00\\x00\\x00\\x004Q\\xca\\xe0\\x00\\x00\\x00\\x00\\xa0\\xcb\\xd2^\\x00\\x00\\x00\\x00\\xa1\\x01\\x94\\xf1\\x00\\x00\\x00\\x00\\xaa\\xa4\\x1c\\x97\\x00\\x00\\x00\\x00\\xa0\\x1c^\\x16\\x00\\x00\\x00\\x00\\xf3\\x9bG|\\x00\\x00\\x00\\x00\\xd5C\\xfb\\xaa\\x00\\x00\\x00\\x00&|\\xc4\\xb0\\x00\\x00\\x00\\x00\\xad(f\\x88\\x00\\x00\\x00\\x00B\\x87\\xbe\\xb8\\x00\\x00\\x00\\x00JQt}\\x00\\x00\\x00\\x00\\x1f\\x86.\\xcc\\x00\\x00\\x00\\x00ih\\xa1\\xed\\x00\\x00\\x00\\x00o\\xddq\\x87\\x00\\x00\\x00\\x00\\xed:\\xdb\\r\\x00\\x00\\x00\\x00U\\xae\\x01K\\x00\\x00\\x00\\x00\\x9d_\\x80w\\x00\\x00\\x00\\x00\\xeeV\\xa4\\x80\\x00\\x00\\x00\\x00\\xdf\\xf7\\xc2\\x9a\\x00\\x00\\x00\\x00\\xbfA\\xcc\\xea\\x00\\x00\\x00\\x00\\xae4\\xee\\xda\\x00\\x00\\x00\\x00;\\xdc\\x80`\\x00\\x00\\x00\\x00`\\xb7\\x98\\xde\\x00\\x00\\x00\\x00\\xd0e#\\xca\\x00\\x00\\x00\\x00\\xaa\\xfa\\x16\\xf3\\x00\\x00\\x00\\x00\\x9d\\xe9\\xb8:\\x00\\x00\\x00\\x00\\xe6\\xf2%O\\x00\\x00\\x00\\x00\\x99\\xee_\\xb6\\x00\\x00\\x00\\x00/*\\x85\\xe7\\x00\\x00\\x00\\x00\\xe4i7\\xbf\\x00\\x00\\x00\\x00\\xf4\\x9cb\\x83\\x00\\x00\\x00\\x00\\xd2|\\x8b}\\x00\\x00\\x00\\x00\\x0f\\xfa:\\xb0\\x00\\x00\\x00\\x00\\xa9\\xb32\\xb9\\x00\\x00\\x00\\x00\\xd8\\xc6\\xcd\\xb9\\x00\\x00\\x00\\x00\\xd7\\xf0\\xb4\\xcd\\x00\\x00\\x00\\x00\\xe3\\xfb\\'\\xcb\\x00\\x00\\x00\\x00\\xf2\\xe3+\\x19\\x00\\x00\\x00\\x004p\\xa0\\xe6\\x00\\x00\\x00\\x00\\xc8E\\xa0\\xd3\\x00\\x00\\x00\\x00S\\xc3AD\\x00\\x00\\x00\\x00\\xc0\\xc3\\x85\\x1e\\x00\\x00\\x00\\x00\\x08\\xe0\\xcf\\xf5\\x00\\x00\\x00\\x00+\\xba\\xce\\xe4\\x00\\x00\\x00\\x00>9\\x0b\\\\\\x00\\x00\\x00\\x00\\xd8\\xbb\\x08\\xe2\\x00\\x00\\x00\\x00]\\xa0f\\x07\\x00\\x00\\x00\\x00U`\\xb51\\x00\\x00\\x00\\x00\\xb0\\xe9\\xc9\\xf9\\x00\\x00\\x00\\x00\\xff\\xd6\\xedf\\x00\\x00\\x00\\x00\\xb3\\xb8\\x1f\\xb4\\x00\\x00\\x00\\x00\\x1aw\\x88|\\x00\\x00\\x00\\x00,\\xc4\\x1cW\\x00\\x00\\x00\\x00\\x9a\\x9a\\xa6\\x82\\x00\\x00\\x00\\x00\\xd2\\xeeo\\x8e\\x00\\x00\\x00\\x00c\\xe5\\xe4K\\x00\\x00\\x00\\x00\\x85\\xd0e0\\x00\\x00\\x00\\x000\\x8bxF\\x00\\x00\\x00\\x00\\xe1\\xaa\\x02n\\x00\\x00\\x00\\x00O\\x98\\xaa\\xcf\\x00\\x00\\x00\\x00a\\xa6\\x03\\x83\\x00\\x00\\x00\\x00\\xd7h\\x91\\x84\\x00\\x00\\x00\\x00^\\x06\\x03\\x13\\x00\\x00\\x00\\x00\\xf19\\x87\\xcf\\x00\\x00\\x00\\x00\\xf5\\xbd\\x08\\xe3\\x00\\x00\\x00\\x00\\'h6\\xd4\\x00\\x00\\x00\\x00\\xb9\\xd7\\xe4.\\x00\\x00\\x00\\x00IO\\x18\\xaf\\x00\\x00\\x00\\x00\\xce\\x8a\\x0e\\xba\\x00\\x00\\x00\\x00\\x8ed\\x0e\\xa5\\x00\\x00\\x00\\x00,\\'}^\\x00\\x00\\x00\\x003_+3\\x00\\x00\\x00\\x00\\xcfSS\\xc8\\x00\\x00\\x00\\x00-t\\xf4\\x92\\x00\\x00\\x00\\x00\\xfd\\xea\\x82\\xc4\\x00\\x00\\x00\\x00\\x86\\x9b\\xfc.\\x00\\x00\\x00\\x00\"ut\\xeb\\x00\\x00\\x00\\x00t\\xa1\\x86f\\x00\\x00\\x00\\x00\\x94\\xd90.\\x00\\x00\\x00\\x00p\\xc2\\x8e?\\x00\\x00\\x00\\x00\\xba&\\xbe\\xba\\x00\\x00\\x00\\x00N\\xb3=5\\x00\\x00\\x00\\x00\\xec\\xc59+\\x00\\x00\\x00\\x00a:\\xdb\\x8b\\x00\\x00\\x00\\x00\\xb3\\xeb^\\x17\\x00\\x00\\x00\\x00\\t\\x10;\\xc3\\x00\\x00\\x00\\x00\\xc9\\xc8$D\\x00\\x00\\x00\\x00\\xaa(y\\'\\x00\\x00\\x00\\x00\\xa43\\'\\xe4\\x00\\x00\\x00\\x00\\xa9\\x81\\xb0\\x99\\x00\\x00\\x00\\x00\\x96\\xfc\\x1dp\\x00\\x00\\x00\\x00\\xea\\x1e\\xd1\\xd7\\x00\\x00\\x00\\x00\\x1c\\x00\\xc8\\xcb\\x00\\x00\\x00\\x00\\xe6}\\xd3\\x11\\x00\\x00\\x00\\x00T2\\xed\\x06\\x00\\x00\\x00\\x00WG\\xc2\\x83\\x00\\x00\\x00\\x00\\xd2\\x07j\\x99\\x00\\x00\\x00\\x00\\xb2\\x90\\xad{\\x00\\x00\\x00\\x00D\\x01\\x00\\x95\\x00\\x00\\x00\\x00\\xc6\\xdbT\\xec\\x00\\x00\\x00\\x00&K\\x8d8\\x00\\x00\\x00\\x00\\x8e\\xf2Y\\xe9\\x00\\x00\\x00\\x00\\xa3z8\\x8d\\x00\\x00\\x00\\x00\\x17\\x1bt&\\x00\\x00\\x00\\x00+\\x9f\\x06\\xa1\\x00\\x00\\x00\\x00\\x9d&\\x0e\\\\\\x00\\x00\\x00\\x00bdB\\xa9\\x00\\x00\\x00\\x00+\\t\\x1f\\xcd\\x00\\x00\\x00\\x00L\"P\\xcc\\x00\\x00\\x00\\x00+\\xb1#\\xd4\\x00\\x00\\x00\\x00\\x03\\x9d\\x8a\\x0e\\x00\\x00\\x00\\x00\\x13\\xf3t\\x95\\x00\\x00\\x00\\x00\\xd8\\x8d3\\xc7\\x00\\x00\\x00\\x00\\xab\\x80\\xe2\\xc3\\x00\\x00\\x00\\x00\\x8fKw\\xdb\\x00\\x00\\x00\\x00\\xf9IWT\\x00\\x00\\x00\\x00\\xf3\\xc0\\xed\\xd7\\x00\\x00\\x00\\x00=\\x96\\xd92\\x00\\x00\\x00\\x00\\x04\\x98 \\xcd\\x00\\x00\\x00\\x00\\xf6\\xd0\\xf4\\xc4\\x00\\x00\\x00\\x00\\xae\\xb3\\xedW\\x00\\x00\\x00\\x00\\xccg%\\xa7\\x00\\x00\\x00\\x00\\x97\\xfe\\x9d\\xae\\x00\\x00\\x00\\x00\\x803\\x82\\xae\\x00\\x00\\x00\\x00\\xf5\\xca\\x13-\\x00\\x00\\x00\\x00\\xf0o\\x15\\xae\\x00\\x00\\x00\\x00\\x82\\x93t\\xf0\\x00\\x00\\x00\\x00\\xd3\\x00;b\\x00\\x00\\x00\\x00\\xf7#|\\xc3\\x00\\x00\\x00\\x00\\xa1\\x84\\xfc\\xcf\\x00\\x00\\x00\\x00\\xe1\\xc12&\\x00\\x00\\x00\\x00\\x9bK\\x0bU\\x00\\x00\\x00\\x00\\xc9\\xa2\\x9a\\x0e\\x00\\x00\\x00\\x00\\x9e$\\x9bx\\x00\\x00\\x00\\x00-\\x18J\\x08\\x00\\x00\\x00\\x00C\\xdd6\\xde\\x00\\x00\\x00\\x00\\xed\\x878)\\x00\\x00\\x00\\x00\\xa0\\xeay&\\x00\\x00\\x00\\x00\\xd0\\xb0\\xbe\\xfb\\x00\\x00\\x00\\x00 \\xdc\\xaa;\\x00\\x00\\x00\\x00\\x19\\x19\\xf5\\xc7\\x00\\x00\\x00\\x00\\xfe\\x06\\xe7\\x06\\x00\\x00\\x00\\x00\\xae\\xc43\\xa1\\x00\\x00\\x00\\x009\\xcc<\\xf1\\x00\\x00\\x00\\x00\\x15(|\\xf5\\x00\\x00\\x00\\x00\\xd9d\\x92*\\x00\\x00\\x00\\x00\\xd6#S\\x18\\x00\\x00\\x00\\x00\\x84\\x05\\xd6\\x8b\\x00\\x00\\x00\\x00\\xa0+\\x0b#\\x00\\x00\\x00\\x00\\xad\\x8dt\\xfb\\x00\\x00\\x00\\x00\\x94^\\xdb*\\x00\\x00\\x00\\x00\\x15f\\x1c1\\x00\\x00\\x00\\x00\\x95\\x04J\\xc9\\x00\\x00\\x00\\x00\\x10sjL\\x00\\x00\\x00\\x00\\xec\\x1f\\xe5\\xee\\x00\\x00\\x00\\x00\\xa6\\xad\\xcf\\xce\\x00\\x00\\x00\\x00\\xd0cM\\x11\\x00\\x00\\x00\\x00\\xa7\\xdf\\xa0\\xad\\x00\\x00\\x00\\x00\"$=P\\x00\\x00\\x00\\x00\\xc0VjN\\x00\\x00\\x00\\x00;\\x9bg\\xf4\\x00\\x00\\x00\\x00V\\xf0{\\x90\\x00\\x00\\x00\\x00O\\xf9\\xee\\xae\\x00\\x00\\x00\\x00\\xa3\\x8e\\xc0\\x98\\x00\\x00\\x00\\x00\\xf29\\xe6\\x1c\\x00\\x00\\x00\\x005\\x92\\xd0K\\x00\\x00\\x00\\x00\\x19d@\\xd3\\x00\\x00\\x00\\x00g\\r\\x02\\xe2\\x00\\x00\\x00\\x002\\xa6\\x99\\x11\\x00\\x00\\x00\\x00P\\xa6V\\xb8\\x00\\x00\\x00\\x00\\x93j\\xf7N\\x00\\x00\\x00\\x00\\x8eVg\\xaf\\x00\\x00\\x00\\x00\\xba\\xed;\\x83\\x00\\x00\\x00\\x00\\xa5\\xc7\\x034\\x00\\x00\\x00\\x00%1\\x05\\xc2\\x00\\x00\\x00\\x00\\xf1\\xed\\x05K\\x00\\x00\\x00\\x00\\xe1\\x7f\\xda\\xa3\\x00\\x00\\x00\\x00\\xa5\\xb3\\xff\\xec\\x00\\x00\\x00\\x00\\xad\\n4]\\x00\\x00\\x00\\x00I\\x8a\\xa8J\\x00\\x00\\x00\\x00dRI\\x1e\\x00\\x00\\x00\\x00\\x07\\xfd\\xa6\\xd1\\x00\\x00\\x00\\x00\\x88b_\\x9a\\x00\\x00\\x00\\x00@\\xb1v(\\x00\\x00\\x00\\x00-L\\x10\\xdb\\x00\\x00\\x00\\x00\\x1f\\x8e\\xbb\\xa4\\x00\\x00\\x00\\x00E\\x14\\x90I\\x00\\x00\\x00\\x00\\xe7:KY\\x00\\x00\\x00\\x004\\xec\\xedd\\x00\\x00\\x00\\x00\\x8a(\\x80\\x18\\x00\\x00\\x00\\x00\\xfdp\\xb3K\\x00\\x00\\x00\\x00\"\\x13\\xaeG\\x00\\x00\\x00\\x00_\\x14\\x90x\\x00\\x00\\x00\\x00\\x9e[\\x03\\xaf\\x00\\x00\\x00\\x00\\x92\\x18m\\xa9\\x00\\x00\\x00\\x00~\\x97\\x0b\\xd3\\x00\\x00\\x00\\x00\\x98\\xb0a+\\x00\\x00\\x00\\x00\\xfd\\xcb\\x0b\\xb3\\x00\\x00\\x00\\x00\\x1d;\\xf0\\xc6\\x00\\x00\\x00\\x00\\xb3\\xb7\\x11\\x1c\\x00\\x00\\x00\\x00\\xa0\\xe9\\x9a\\x93\\x00\\x00\\x00\\x00\\xb2\\xc3\\x93\\xbd\\x00\\x00\\x00\\x00\\xb6\\xaaK\\x11\\x00\\x00\\x00\\x00~C\\xd7d\\x00\\x00\\x00\\x00\\xe1z\\xae\\x1b\\x00\\x00\\x00\\x00\\x00\\x00\\x00\\x00\\x00\\x00\\x00\\x00\\x00\\x00\\x00\\x00\\x00\\x00\\x00\\x00\\x00\\x00\\x00\\x00\\x00\\x00\\x00\\x00\\x00\\x00\\x00\\x00\\x00\\x00\\x00\\x00\\x00\\x00\\x00\\x00\\x00\\x00\\x00\\x00\\x94\\x85\\x94R\\x94K\\x00M\\xc0\\x13\\x85\\x94K\\x01\\x85\\x94\\x89\\x8c\\x0bcollections\\x94\\x8c\\x0bOrderedDict\\x94\\x93\\x94)R\\x94t\\x94R\\x94.'"
      ]
     },
     "execution_count": 324,
     "metadata": {},
     "output_type": "execute_result"
    }
   ],
   "source": [
    "pic = pickle.dumps(gen1.get_state())"
   ]
  },
  {
   "cell_type": "code",
   "execution_count": null,
   "id": "3e90a95f",
   "metadata": {},
   "outputs": [],
   "source": []
  },
  {
   "cell_type": "code",
   "execution_count": 367,
   "id": "00f5e055",
   "metadata": {},
   "outputs": [
    {
     "data": {
      "text/plain": [
       "tensor([0.8725])"
      ]
     },
     "execution_count": 367,
     "metadata": {},
     "output_type": "execute_result"
    }
   ],
   "source": [
    "torch.rand(size=(1,), generator=gen3)"
   ]
  },
  {
   "cell_type": "code",
   "execution_count": 368,
   "id": "2815fc9b",
   "metadata": {},
   "outputs": [
    {
     "data": {
      "text/plain": [
       "tensor([0.2673])"
      ]
     },
     "execution_count": 368,
     "metadata": {},
     "output_type": "execute_result"
    }
   ],
   "source": [
    "torch.rand(size=(1,), generator=gen2)"
   ]
  },
  {
   "cell_type": "code",
   "execution_count": 369,
   "id": "f5c31fb5",
   "metadata": {},
   "outputs": [
    {
     "data": {
      "text/plain": [
       "tensor([0.8725])"
      ]
     },
     "execution_count": 369,
     "metadata": {},
     "output_type": "execute_result"
    }
   ],
   "source": [
    "torch.rand(size=(1,), generator=gen2)"
   ]
  },
  {
   "cell_type": "code",
   "execution_count": 316,
   "id": "5f0fd7a9",
   "metadata": {},
   "outputs": [
    {
     "data": {
      "text/plain": [
       "tensor([0.4030])"
      ]
     },
     "execution_count": 316,
     "metadata": {},
     "output_type": "execute_result"
    }
   ],
   "source": [
    "torch.rand(size=(1,), generator=gen1)"
   ]
  },
  {
   "cell_type": "code",
   "execution_count": 314,
   "id": "1c069bc6",
   "metadata": {},
   "outputs": [
    {
     "data": {
      "text/plain": [
       "tensor([  1, 209, 156,  ...,   0,   0,   0], dtype=torch.uint8)"
      ]
     },
     "execution_count": 314,
     "metadata": {},
     "output_type": "execute_result"
    }
   ],
   "source": [
    "gen1.get_state()"
   ]
  },
  {
   "cell_type": "code",
   "execution_count": null,
   "id": "6a21c315",
   "metadata": {},
   "outputs": [],
   "source": [
    "gen1.get_state()"
   ]
  },
  {
   "cell_type": "code",
   "execution_count": 223,
   "id": "34ab8ffb",
   "metadata": {},
   "outputs": [
    {
     "data": {
      "text/plain": [
       "torch.Size([5056])"
      ]
     },
     "execution_count": 223,
     "metadata": {},
     "output_type": "execute_result"
    }
   ],
   "source": [
    "gen.get_state()"
   ]
  },
  {
   "cell_type": "code",
   "execution_count": 241,
   "id": "1828aa31",
   "metadata": {},
   "outputs": [
    {
     "ename": "AttributeError",
     "evalue": "'torch._C.Generator' object has no attribute 'capsule'",
     "output_type": "error",
     "traceback": [
      "\u001b[0;31m---------------------------------------------------------------------------\u001b[0m",
      "\u001b[0;31mAttributeError\u001b[0m                            Traceback (most recent call last)",
      "\u001b[0;32m/tmp/ipykernel_1265407/2086053867.py\u001b[0m in \u001b[0;36m<module>\u001b[0;34m\u001b[0m\n\u001b[0;32m----> 1\u001b[0;31m \u001b[0mRotation\u001b[0m\u001b[0;34m.\u001b[0m\u001b[0mrandom\u001b[0m\u001b[0;34m(\u001b[0m\u001b[0mrandom_state\u001b[0m\u001b[0;34m=\u001b[0m \u001b[0mnp\u001b[0m\u001b[0;34m.\u001b[0m\u001b[0mrandom\u001b[0m\u001b[0;34m.\u001b[0m\u001b[0mGenerator\u001b[0m\u001b[0;34m(\u001b[0m\u001b[0mgen1\u001b[0m\u001b[0;34m)\u001b[0m\u001b[0;34m)\u001b[0m\u001b[0;34m.\u001b[0m\u001b[0mas_euler\u001b[0m\u001b[0;34m(\u001b[0m\u001b[0;34m'xyz'\u001b[0m\u001b[0;34m)\u001b[0m\u001b[0;34m\u001b[0m\u001b[0;34m\u001b[0m\u001b[0m\n\u001b[0m",
      "\u001b[0;32m_generator.pyx\u001b[0m in \u001b[0;36mnumpy.random._generator.Generator.__init__\u001b[0;34m()\u001b[0m\n",
      "\u001b[0;31mAttributeError\u001b[0m: 'torch._C.Generator' object has no attribute 'capsule'"
     ]
    }
   ],
   "source": [
    "Rotation.random(random_state=).as_euler('xyz')"
   ]
  }
 ],
 "metadata": {
  "kernelspec": {
   "display_name": "Python 3 (ipykernel)",
   "language": "python",
   "name": "python3"
  },
  "language_info": {
   "codemirror_mode": {
    "name": "ipython",
    "version": 3
   },
   "file_extension": ".py",
   "mimetype": "text/x-python",
   "name": "python",
   "nbconvert_exporter": "python",
   "pygments_lexer": "ipython3",
   "version": "3.8.10"
  }
 },
 "nbformat": 4,
 "nbformat_minor": 5
}
