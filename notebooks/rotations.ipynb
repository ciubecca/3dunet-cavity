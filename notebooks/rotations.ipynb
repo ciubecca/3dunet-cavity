{
 "cells": [
  {
   "cell_type": "code",
   "execution_count": 1,
   "id": "64666a49",
   "metadata": {},
   "outputs": [
    {
     "data": {
      "text/html": [
       "<style>.container { width:100% !important; }</style>"
      ],
      "text/plain": [
       "<IPython.core.display.HTML object>"
      ]
     },
     "metadata": {},
     "output_type": "display_data"
    }
   ],
   "source": [
    "import scipy\n",
    "import numpy as np\n",
    "from scipy.ndimage import rotate\n",
    "from matplotlib import pyplot as plt\n",
    "from scipy.spatial.transform import Rotation\n",
    "from numpy import cos, sin, pi\n",
    "import torch\n",
    "import copy\n",
    "import h5py\n",
    "import pickle\n",
    "from IPython.core.display import display, HTML\n",
    "display(HTML(\"<style>.container { width:100% !important; }</style>\"))"
   ]
  },
  {
   "cell_type": "code",
   "execution_count": 15,
   "id": "84f87041",
   "metadata": {},
   "outputs": [],
   "source": [
    "r = Rotation.random()\n",
    "angles = r.as_euler('zxy')\n",
    "axes = [(0, 1), (1, 2), (0, 2)]\n",
    "\n",
    "N = 100\n",
    "msmall = np.random.normal(size=(100,100,100))\n",
    "mlarge = np.random.normal(size=(161,161,161))\n",
    "m4dlarge = np.random.normal(size=(18,161,161,161))"
   ]
  },
  {
   "cell_type": "code",
   "execution_count": 16,
   "id": "14202729",
   "metadata": {},
   "outputs": [
    {
     "data": {
      "text/plain": [
       "-1.0728167275091807"
      ]
     },
     "execution_count": 16,
     "metadata": {},
     "output_type": "execute_result"
    }
   ],
   "source": [
    "angle = angles[0]\n",
    "axis = axes[1]\n",
    "angle"
   ]
  },
  {
   "cell_type": "code",
   "execution_count": 17,
   "id": "2bbb4e2f",
   "metadata": {},
   "outputs": [],
   "source": [
    "def rotation4d_0(m4d, angle, axis, order, mode, cval):\n",
    "    angle_radians = angle / np.pi * 180\n",
    "    channels = []\n",
    "    for m3d in m4d:\n",
    "        channels.append(rotate(m3d, angle_radians, axes=axis, reshape=False, order=order, mode=mode, cval=cval))\n",
    "    return np.stack(channels, axis=0)\n",
    "    \n",
    "def rotation4d_1(m4d, angle, axis, order, mode, cval):\n",
    "    angle_radians = angle / np.pi * 180\n",
    "    axis = (i+1 for i in axis)\n",
    "    return rotate(m4d, angle_radians, axes=axis, reshape=False, order=order, mode=mode, cval=cval)"
   ]
  },
  {
   "cell_type": "code",
   "execution_count": 21,
   "id": "773614a5",
   "metadata": {},
   "outputs": [
    {
     "name": "stdout",
     "output_type": "stream",
     "text": [
      "6.71 s ± 20.3 ms per loop (mean ± std. dev. of 7 runs, 1 loop each)\n"
     ]
    }
   ],
   "source": [
    "%%timeit\n",
    "\n",
    "mode = 'constant'\n",
    "order = 3\n",
    "cval = 0\n",
    "y4d_0 = rotation4d_0(m4dlarge, angle, axis, order, mode, cval)"
   ]
  },
  {
   "cell_type": "code",
   "execution_count": 22,
   "id": "07fc73e5",
   "metadata": {},
   "outputs": [
    {
     "name": "stdout",
     "output_type": "stream",
     "text": [
      "6.65 s ± 16.7 ms per loop (mean ± std. dev. of 7 runs, 1 loop each)\n"
     ]
    }
   ],
   "source": [
    "%%timeit\n",
    "\n",
    "mode = 'constant'\n",
    "order = 3\n",
    "cval = 0\n",
    "y4d_1 = rotation4d_1(m4dlarge, angle, axis, order, mode, cval)"
   ]
  },
  {
   "cell_type": "code",
   "execution_count": 24,
   "id": "63aabf39",
   "metadata": {},
   "outputs": [
    {
     "name": "stdout",
     "output_type": "stream",
     "text": [
      "2.41 s ± 19.1 ms per loop (mean ± std. dev. of 7 runs, 1 loop each)\n"
     ]
    }
   ],
   "source": [
    "%%timeit\n",
    "\n",
    "mode = 'constant'\n",
    "order = 0\n",
    "cval = 0\n",
    "y4d_0 = rotation4d_0(m4dlarge, angle, axis, order, mode, cval)"
   ]
  },
  {
   "cell_type": "code",
   "execution_count": 25,
   "id": "86fdd89e",
   "metadata": {},
   "outputs": [
    {
     "name": "stdout",
     "output_type": "stream",
     "text": [
      "2.3 s ± 13.6 ms per loop (mean ± std. dev. of 7 runs, 1 loop each)\n"
     ]
    }
   ],
   "source": [
    "%%timeit\n",
    "\n",
    "mode = 'constant'\n",
    "order = 0\n",
    "cval = 0\n",
    "y4d_1 = rotation4d_1(m4dlarge, angle, axis, order, mode, cval)"
   ]
  }
 ],
 "metadata": {
  "kernelspec": {
   "display_name": "Python 3 (ipykernel)",
   "language": "python",
   "name": "python3"
  },
  "language_info": {
   "codemirror_mode": {
    "name": "ipython",
    "version": 3
   },
   "file_extension": ".py",
   "mimetype": "text/x-python",
   "name": "python",
   "nbconvert_exporter": "python",
   "pygments_lexer": "ipython3",
   "version": "3.8.10"
  }
 },
 "nbformat": 4,
 "nbformat_minor": 5
}
