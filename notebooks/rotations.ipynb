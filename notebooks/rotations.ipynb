{
 "cells": [
  {
   "cell_type": "code",
   "execution_count": 2,
   "id": "f585cbc1",
   "metadata": {},
   "outputs": [
    {
     "data": {
      "text/html": [
       "<style>.container { width:100% !important; }</style>"
      ],
      "text/plain": [
       "<IPython.core.display.HTML object>"
      ]
     },
     "metadata": {},
     "output_type": "display_data"
    }
   ],
   "source": [
    "import scipy\n",
    "import numpy as np\n",
    "from scipy.ndimage import rotate\n",
    "from matplotlib import pyplot as plt\n",
    "from scipy.spatial.transform import Rotation\n",
    "from numpy import cos, sin, pi\n",
    "import torch\n",
    "import copy\n",
    "import h5py\n",
    "import pickle\n",
    "from IPython.core.display import display, HTML\n",
    "display(HTML(\"<style>.container { width:100% !important; }</style>\"))"
   ]
  },
  {
   "cell_type": "code",
   "execution_count": 176,
   "id": "8aef3028",
   "metadata": {},
   "outputs": [],
   "source": [
    "v = np.array([1,2,3])"
   ]
  },
  {
   "cell_type": "code",
   "execution_count": 177,
   "id": "526534d9",
   "metadata": {},
   "outputs": [
    {
     "data": {
      "text/plain": [
       "array([-2.97267173, -0.26871357,  1.34937866])"
      ]
     },
     "execution_count": 177,
     "metadata": {},
     "output_type": "execute_result"
    }
   ],
   "source": [
    "m = Rotation.random()\n",
    "r = m.as_matrix()\n",
    "angles = m.as_euler('zxy')\n",
    "angles"
   ]
  },
  {
   "cell_type": "code",
   "execution_count": 210,
   "id": "e98d50ce",
   "metadata": {},
   "outputs": [],
   "source": [
    "def zrot(thz):\n",
    "    return np.array([[cos(thz), sin(thz), 0],\n",
    "                 [-sin(thz), cos(thz), 0],\n",
    "                 [0,0,1]\n",
    "                ])\n",
    "\n",
    "def yrot(thy):\n",
    "    return np.array([[cos(thy), 0, sin(thy)],\n",
    "                 [0, 1, 0],\n",
    "                 [-sin(thy),0,cos(thy)]\n",
    "                ])\n",
    "\n",
    "def xrot(thx):\n",
    "    return np.array([\n",
    "                 [1, 0, 0],\n",
    "                 [0, cos(thx), sin(thx)],\n",
    "                 [0, -sin(thx), cos(thx)]\n",
    "                ])\n",
    "\n",
    "\n",
    "def rot(v, thz, thx, thy, signs):\n",
    "    yr = yrot(signs[0]*thy)\n",
    "    zr = zrot(signs[1]*thz)\n",
    "    xr = xrot(signs[2]*thx)\n",
    "    \n",
    "    return np.einsum('ij,jk,kl,l-> i', yr,xr,zr, v)"
   ]
  },
  {
   "cell_type": "code",
   "execution_count": 211,
   "id": "5a4f144f",
   "metadata": {},
   "outputs": [
    {
     "data": {
      "text/plain": [
       "array([ 3.23327553, -1.26639284,  1.39362065])"
      ]
     },
     "execution_count": 211,
     "metadata": {},
     "output_type": "execute_result"
    }
   ],
   "source": [
    "v1 = np.einsum('ij,j->i', r, v)\n",
    "v1"
   ]
  },
  {
   "cell_type": "code",
   "execution_count": 213,
   "id": "325358ec",
   "metadata": {},
   "outputs": [
    {
     "name": "stdout",
     "output_type": "stream",
     "text": [
      "(1, -1, -1) (array([ 3.23327553, -1.26639284,  1.39362065]),)\n"
     ]
    }
   ],
   "source": [
    "signss = [(i,j,k) for i in (-1,1) for j in (-1,1) for k in (-1,1)]\n",
    "res = []\n",
    "for signs in signss:\n",
    "    v2 = rot(v,*angles,signs=signs)\n",
    "    if ((v2-v1)**2).sum() < 0.01:\n",
    "        print(signs, v2)\n",
    "    # res.append()"
   ]
  },
  {
   "cell_type": "code",
   "execution_count": 214,
   "id": "c901029f",
   "metadata": {},
   "outputs": [],
   "source": [
    "d = 10\n",
    "m = np.array([[(i-d/2)**2 + (j-d/2)**2 for i in range(d)] for j in range(d)])"
   ]
  },
  {
   "cell_type": "code",
   "execution_count": 215,
   "id": "a6dc508b",
   "metadata": {},
   "outputs": [
    {
     "data": {
      "image/png": "[encoded data removed]",
      "text/plain": [
       "<Figure size 432x288 with 1 Axes>"
      ]
     },
     "metadata": {
      "needs_background": "light"
     },
     "output_type": "display_data"
    }
   ],
   "source": [
    "plt.imshow(m, cmap='hot', interpolation='nearest')\n",
    "plt.show()"
   ]
  },
  {
   "cell_type": "code",
   "execution_count": 216,
   "id": "78fc6ae9",
   "metadata": {},
   "outputs": [
    {
     "data": {
      "image/png": "[encoded data removed]",
      "text/plain": [
       "<Figure size 432x288 with 1 Axes>"
      ]
     },
     "metadata": {
      "needs_background": "light"
     },
     "output_type": "display_data"
    }
   ],
   "source": [
    "mode = 'constant'\n",
    "angle = 45\n",
    "m2 = rotate(m, angle, axes=[0,1], reshape=False, order=3, mode=mode)\n",
    "\n",
    "plt.imshow(m2, cmap='hot', interpolation='nearest')\n",
    "plt.show()"
   ]
  },
  {
   "cell_type": "code",
   "execution_count": 16,
   "id": "1cfb7060",
   "metadata": {},
   "outputs": [
    {
     "data": {
      "image/png": "[encoded data removed]",
      "text/plain": [
       "<Figure size 432x288 with 1 Axes>"
      ]
     },
     "metadata": {
      "needs_background": "light"
     },
     "output_type": "display_data"
    }
   ],
   "source": [
    "mode = 'grid-constant'\n",
    "angle = 45\n",
    "m2 = rotate(m, angle, axes=[0,1], reshape=False, order=3, mode=mode)\n",
    "\n",
    "plt.imshow(m2, cmap='hot', interpolation='nearest')\n",
    "plt.show()"
   ]
  },
  {
   "cell_type": "code",
   "execution_count": 18,
   "id": "833d98c1",
   "metadata": {},
   "outputs": [
    {
     "data": {
      "image/png": "[encoded data removed]",
      "text/plain": [
       "<Figure size 432x288 with 1 Axes>"
      ]
     },
     "metadata": {
      "needs_background": "light"
     },
     "output_type": "display_data"
    }
   ],
   "source": [
    "mode = 'nearest'\n",
    "angle = 45\n",
    "m2 = rotate(m, angle, axes=[0,1], reshape=False, order=3, mode=mode)\n",
    "\n",
    "plt.imshow(m2, cmap='hot', interpolation='nearest')\n",
    "plt.show()"
   ]
  },
  {
   "cell_type": "markdown",
   "id": "5233000e",
   "metadata": {},
   "source": [
    "# Debug 3d rots"
   ]
  },
  {
   "cell_type": "code",
   "execution_count": 34,
   "id": "7eb99bbb",
   "metadata": {},
   "outputs": [],
   "source": [
    "def rotate(m, angles, mode='constant', cval=0, order=3):\n",
    "    ret = np.array(m)\n",
    "    axes = [(0, 1), (1, 2), (0, 2)]\n",
    "    \n",
    "    print(f\"m.sum(), m.std() = {m.sum()}, {m.std()}\")\n",
    "\n",
    "    for axis,angle in zip(axes, angles):\n",
    "        angle = angle / np.pi * 180\n",
    "        ret = scipy.ndimage.rotate(ret, angle, axes=axis, reshape=False, order=order, mode=mode, cval=cval)\n",
    "        print(f'ret.dtype : {ret.dtype}')\n",
    "        print(f\"axes={axis}, order={order}, mode={mode}, cval={cval}\")\n",
    "        print(f\"m.sum(), m.std() = {ret.sum()}, {ret.std()}\")\n",
    "    return ret"
   ]
  },
  {
   "cell_type": "code",
   "execution_count": 62,
   "id": "3d003e86",
   "metadata": {},
   "outputs": [],
   "source": [
    "grid = '/home/lorenzo/3dunet-cavity/runs/test_features_rot_dbg/tmp/4us3/grids.h5'\n",
    "h5 = h5py.File(grid, 'r')\n",
    "x = list(np.array(h5['labels']).astype(\"<f8\"))\n",
    "h5.close()"
   ]
  },
  {
   "cell_type": "code",
   "execution_count": 63,
   "id": "64b5eb62",
   "metadata": {},
   "outputs": [
    {
     "data": {
      "text/plain": [
       "[array([[[0., 0., 0., ..., 0., 0., 0.],\n",
       "         [0., 0., 0., ..., 0., 0., 0.],\n",
       "         [0., 0., 0., ..., 0., 0., 0.],\n",
       "         ...,\n",
       "         [0., 0., 0., ..., 0., 0., 0.],\n",
       "         [0., 0., 0., ..., 0., 0., 0.],\n",
       "         [0., 0., 0., ..., 0., 0., 0.]],\n",
       " \n",
       "        [[0., 0., 0., ..., 0., 0., 0.],\n",
       "         [0., 0., 0., ..., 0., 0., 0.],\n",
       "         [0., 0., 0., ..., 0., 0., 0.],\n",
       "         ...,\n",
       "         [0., 0., 0., ..., 0., 0., 0.],\n",
       "         [0., 0., 0., ..., 0., 0., 0.],\n",
       "         [0., 0., 0., ..., 0., 0., 0.]],\n",
       " \n",
       "        [[0., 0., 0., ..., 0., 0., 0.],\n",
       "         [0., 0., 0., ..., 0., 0., 0.],\n",
       "         [0., 0., 0., ..., 0., 0., 0.],\n",
       "         ...,\n",
       "         [0., 0., 0., ..., 0., 0., 0.],\n",
       "         [0., 0., 0., ..., 0., 0., 0.],\n",
       "         [0., 0., 0., ..., 0., 0., 0.]],\n",
       " \n",
       "        ...,\n",
       " \n",
       "        [[0., 0., 0., ..., 0., 0., 0.],\n",
       "         [0., 0., 0., ..., 0., 0., 0.],\n",
       "         [0., 0., 0., ..., 0., 0., 0.],\n",
       "         ...,\n",
       "         [0., 0., 0., ..., 0., 0., 0.],\n",
       "         [0., 0., 0., ..., 0., 0., 0.],\n",
       "         [0., 0., 0., ..., 0., 0., 0.]],\n",
       " \n",
       "        [[0., 0., 0., ..., 0., 0., 0.],\n",
       "         [0., 0., 0., ..., 0., 0., 0.],\n",
       "         [0., 0., 0., ..., 0., 0., 0.],\n",
       "         ...,\n",
       "         [0., 0., 0., ..., 0., 0., 0.],\n",
       "         [0., 0., 0., ..., 0., 0., 0.],\n",
       "         [0., 0., 0., ..., 0., 0., 0.]],\n",
       " \n",
       "        [[0., 0., 0., ..., 0., 0., 0.],\n",
       "         [0., 0., 0., ..., 0., 0., 0.],\n",
       "         [0., 0., 0., ..., 0., 0., 0.],\n",
       "         ...,\n",
       "         [0., 0., 0., ..., 0., 0., 0.],\n",
       "         [0., 0., 0., ..., 0., 0., 0.],\n",
       "         [0., 0., 0., ..., 0., 0., 0.]]])]"
      ]
     },
     "execution_count": 63,
     "metadata": {},
     "output_type": "execute_result"
    }
   ],
   "source": [
    "x"
   ]
  },
  {
   "cell_type": "code",
   "execution_count": 35,
   "id": "c694b8c0",
   "metadata": {},
   "outputs": [],
   "source": [
    "fname_orig = '/home/lorenzo/3dunet-cavity/runs/test_features_dbg/checkpoint/dumps/4us3.h5'\n",
    "fname_rot = '/home/lorenzo/3dunet-cavity/runs/test_features_rot_dbg/checkpoint/dumps/4us3.h5'\n",
    "h5_orig =  h5py.File(fname_orig, 'r')\n",
    "h5_rot =  h5py.File(fname_rot, 'r')\n",
    "\n",
    "# angles = [-2.7395890131658596, -0.04360928806154685, 2.903099733230921]\n",
    "angles = [0.020267915913812128, -0.565809069940298, -1.7957610124250032]"
   ]
  },
  {
   "cell_type": "code",
   "execution_count": 36,
   "id": "7c3b097b",
   "metadata": {},
   "outputs": [
    {
     "name": "stdout",
     "output_type": "stream",
     "text": [
      "m.sum(), m.std() = 3433.0, 0.028669528663158417\n",
      "ret.dtype : float32\n",
      "axes=(0, 1), order=3, mode=constant, cval=0\n",
      "m.sum(), m.std() = 3433.000244140625, 0.02863243594765663\n",
      "ret.dtype : float32\n",
      "axes=(1, 2), order=3, mode=constant, cval=0\n",
      "m.sum(), m.std() = 3433.22021484375, 0.02848285436630249\n",
      "ret.dtype : float32\n",
      "axes=(0, 2), order=3, mode=constant, cval=0\n",
      "m.sum(), m.std() = 3433.220703125, 0.028370685875415802\n"
     ]
    },
    {
     "data": {
      "text/plain": [
       "(3433.2207, 0.028370686)"
      ]
     },
     "execution_count": 36,
     "metadata": {},
     "output_type": "execute_result"
    }
   ],
   "source": [
    "vrot = rotate(np.array(h5_orig['labels']), angles)\n",
    "vrot.sum(), vrot.std()"
   ]
  },
  {
   "cell_type": "code",
   "execution_count": 7,
   "id": "5db56b62",
   "metadata": {},
   "outputs": [
    {
     "data": {
      "text/plain": [
       "((3433.0, 0.028669529),)"
      ]
     },
     "execution_count": 7,
     "metadata": {},
     "output_type": "execute_result"
    }
   ],
   "source": [
    "field = 'labels'\n",
    "(np.array(h5_orig[field]).sum(), np.array(h5_orig[field]).std()), "
   ]
  },
  {
   "cell_type": "code",
   "execution_count": 8,
   "id": "04d72f80",
   "metadata": {},
   "outputs": [
    {
     "data": {
      "text/plain": [
       "(53.0, 0.0035636507)"
      ]
     },
     "execution_count": 8,
     "metadata": {},
     "output_type": "execute_result"
    }
   ],
   "source": [
    "field = 'labels'\n",
    "(np.array(h5_rot[field]).sum(), np.array(h5_rot[field]).std())"
   ]
  },
  {
   "cell_type": "code",
   "execution_count": 58,
   "id": "46216ceb",
   "metadata": {},
   "outputs": [],
   "source": [
    "h5_orig.close()\n",
    "h5_rot.close()"
   ]
  },
  {
   "cell_type": "code",
   "execution_count": 394,
   "id": "f30d056f",
   "metadata": {},
   "outputs": [
    {
     "data": {
      "text/plain": [
       "((3702.0, 0.029770456), (3701.946, 0.021955043))"
      ]
     },
     "execution_count": 394,
     "metadata": {},
     "output_type": "execute_result"
    }
   ],
   "source": [
    "field = 'raws_0'\n",
    "(np.array(h5_orig[field]).sum(), np.array(h5_orig[field]).std()), (np.array(h5_rot[field]).sum(), np.array(h5_rot[field]).std())"
   ]
  },
  {
   "cell_type": "code",
   "execution_count": 396,
   "id": "3913059b",
   "metadata": {},
   "outputs": [
    {
     "data": {
      "text/plain": [
       "((-0.004432678, 0.9999989), (9.199687, 0.90318793))"
      ]
     },
     "execution_count": 396,
     "metadata": {},
     "output_type": "execute_result"
    }
   ],
   "source": [
    "field = 'raws_1'\n",
    "(np.array(h5_orig[field]).sum(), np.array(h5_orig[field]).std()), (np.array(h5_rot[field]).sum(), np.array(h5_rot[field]).std())"
   ]
  }
 ],
 "metadata": {
  "kernelspec": {
   "display_name": "Python 3 (ipykernel)",
   "language": "python",
   "name": "python3"
  },
  "language_info": {
   "codemirror_mode": {
    "name": "ipython",
    "version": 3
   },
   "file_extension": ".py",
   "mimetype": "text/x-python",
   "name": "python",
   "nbconvert_exporter": "python",
   "pygments_lexer": "ipython3",
   "version": "3.8.10"
  }
 },
 "nbformat": 4,
 "nbformat_minor": 5
}
